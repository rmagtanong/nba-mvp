{
 "cells": [
  {
   "cell_type": "code",
   "execution_count": 1,
   "metadata": {
    "collapsed": true,
    "ExecuteTime": {
     "end_time": "2023-07-18T04:49:20.254629Z",
     "start_time": "2023-07-18T04:49:19.456688Z"
    }
   },
   "outputs": [],
   "source": [
    "import pandas as pd"
   ]
  },
  {
   "cell_type": "code",
   "execution_count": 2,
   "outputs": [],
   "source": [
    "mvps = pd.read_csv('mvps.csv')"
   ],
   "metadata": {
    "collapsed": false,
    "ExecuteTime": {
     "end_time": "2023-07-18T04:49:20.261968Z",
     "start_time": "2023-07-18T04:49:20.255183Z"
    }
   }
  },
  {
   "cell_type": "code",
   "execution_count": 3,
   "outputs": [
    {
     "data": {
      "text/plain": "     Unnamed: 0 Rank           Player  Age   Tm  First  Pts Won  Pts Max  \\\n0             0    1   Michael Jordan   27  CHI   77.0    891.0      960   \n1             1    2    Magic Johnson   31  LAL   10.0    497.0      960   \n2             2    3   David Robinson   25  SAS    6.0    476.0      960   \n3             3    4  Charles Barkley   27  PHI    2.0    222.0      960   \n4             4    5      Karl Malone   27  UTA    0.0    142.0      960   \n..          ...  ...              ...  ...  ...    ...      ...      ...   \n494           8    9    Stephen Curry   34  GSW    0.0      5.0     1000   \n495           9   10     Jimmy Butler   33  MIA    0.0      3.0     1000   \n496          10   11     De'Aaron Fox   25  SAC    0.0      2.0     1000   \n497          11  12T    Jalen Brunson   26  NYK    0.0      1.0     1000   \n498          12  12T        Ja Morant   23  MEM    0.0      1.0     1000   \n\n     Share   G  ...   TRB   AST  STL  BLK    FG%    3P%    FT%    WS  WS/48  \\\n0    0.928  82  ...   6.0   5.5  2.7  1.0  0.539  0.312  0.851  20.3  0.321   \n1    0.518  79  ...   7.0  12.5  1.3  0.2  0.477  0.320  0.906  15.4  0.251   \n2    0.496  82  ...  13.0   2.5  1.5  3.9  0.552  0.143  0.762  17.0  0.264   \n3    0.231  67  ...  10.1   4.2  1.6  0.5  0.570  0.284  0.722  13.4  0.258   \n4    0.148  82  ...  11.8   3.3  1.1  1.0  0.527  0.286  0.770  15.5  0.225   \n..     ...  ..  ...   ...   ...  ...  ...    ...    ...    ...   ...    ...   \n494  0.005  56  ...   6.1   6.3  0.9  0.4  0.493  0.427  0.915   7.8  0.192   \n495  0.003  64  ...   5.9   5.3  1.8  0.3  0.539  0.350  0.850  12.3  0.277   \n496  0.002  73  ...   4.2   6.1  1.1  0.3  0.512  0.324  0.780   7.4  0.146   \n497  0.001  68  ...   3.5   6.2  0.9  0.2  0.491  0.416  0.829   8.7  0.175   \n498  0.001  61  ...   5.9   8.1  1.1  0.3  0.466  0.307  0.748   6.0  0.148   \n\n     Year  \n0    1991  \n1    1991  \n2    1991  \n3    1991  \n4    1991  \n..    ...  \n494  2023  \n495  2023  \n496  2023  \n497  2023  \n498  2023  \n\n[499 rows x 22 columns]",
      "text/html": "<div>\n<style scoped>\n    .dataframe tbody tr th:only-of-type {\n        vertical-align: middle;\n    }\n\n    .dataframe tbody tr th {\n        vertical-align: top;\n    }\n\n    .dataframe thead th {\n        text-align: right;\n    }\n</style>\n<table border=\"1\" class=\"dataframe\">\n  <thead>\n    <tr style=\"text-align: right;\">\n      <th></th>\n      <th>Unnamed: 0</th>\n      <th>Rank</th>\n      <th>Player</th>\n      <th>Age</th>\n      <th>Tm</th>\n      <th>First</th>\n      <th>Pts Won</th>\n      <th>Pts Max</th>\n      <th>Share</th>\n      <th>G</th>\n      <th>...</th>\n      <th>TRB</th>\n      <th>AST</th>\n      <th>STL</th>\n      <th>BLK</th>\n      <th>FG%</th>\n      <th>3P%</th>\n      <th>FT%</th>\n      <th>WS</th>\n      <th>WS/48</th>\n      <th>Year</th>\n    </tr>\n  </thead>\n  <tbody>\n    <tr>\n      <th>0</th>\n      <td>0</td>\n      <td>1</td>\n      <td>Michael Jordan</td>\n      <td>27</td>\n      <td>CHI</td>\n      <td>77.0</td>\n      <td>891.0</td>\n      <td>960</td>\n      <td>0.928</td>\n      <td>82</td>\n      <td>...</td>\n      <td>6.0</td>\n      <td>5.5</td>\n      <td>2.7</td>\n      <td>1.0</td>\n      <td>0.539</td>\n      <td>0.312</td>\n      <td>0.851</td>\n      <td>20.3</td>\n      <td>0.321</td>\n      <td>1991</td>\n    </tr>\n    <tr>\n      <th>1</th>\n      <td>1</td>\n      <td>2</td>\n      <td>Magic Johnson</td>\n      <td>31</td>\n      <td>LAL</td>\n      <td>10.0</td>\n      <td>497.0</td>\n      <td>960</td>\n      <td>0.518</td>\n      <td>79</td>\n      <td>...</td>\n      <td>7.0</td>\n      <td>12.5</td>\n      <td>1.3</td>\n      <td>0.2</td>\n      <td>0.477</td>\n      <td>0.320</td>\n      <td>0.906</td>\n      <td>15.4</td>\n      <td>0.251</td>\n      <td>1991</td>\n    </tr>\n    <tr>\n      <th>2</th>\n      <td>2</td>\n      <td>3</td>\n      <td>David Robinson</td>\n      <td>25</td>\n      <td>SAS</td>\n      <td>6.0</td>\n      <td>476.0</td>\n      <td>960</td>\n      <td>0.496</td>\n      <td>82</td>\n      <td>...</td>\n      <td>13.0</td>\n      <td>2.5</td>\n      <td>1.5</td>\n      <td>3.9</td>\n      <td>0.552</td>\n      <td>0.143</td>\n      <td>0.762</td>\n      <td>17.0</td>\n      <td>0.264</td>\n      <td>1991</td>\n    </tr>\n    <tr>\n      <th>3</th>\n      <td>3</td>\n      <td>4</td>\n      <td>Charles Barkley</td>\n      <td>27</td>\n      <td>PHI</td>\n      <td>2.0</td>\n      <td>222.0</td>\n      <td>960</td>\n      <td>0.231</td>\n      <td>67</td>\n      <td>...</td>\n      <td>10.1</td>\n      <td>4.2</td>\n      <td>1.6</td>\n      <td>0.5</td>\n      <td>0.570</td>\n      <td>0.284</td>\n      <td>0.722</td>\n      <td>13.4</td>\n      <td>0.258</td>\n      <td>1991</td>\n    </tr>\n    <tr>\n      <th>4</th>\n      <td>4</td>\n      <td>5</td>\n      <td>Karl Malone</td>\n      <td>27</td>\n      <td>UTA</td>\n      <td>0.0</td>\n      <td>142.0</td>\n      <td>960</td>\n      <td>0.148</td>\n      <td>82</td>\n      <td>...</td>\n      <td>11.8</td>\n      <td>3.3</td>\n      <td>1.1</td>\n      <td>1.0</td>\n      <td>0.527</td>\n      <td>0.286</td>\n      <td>0.770</td>\n      <td>15.5</td>\n      <td>0.225</td>\n      <td>1991</td>\n    </tr>\n    <tr>\n      <th>...</th>\n      <td>...</td>\n      <td>...</td>\n      <td>...</td>\n      <td>...</td>\n      <td>...</td>\n      <td>...</td>\n      <td>...</td>\n      <td>...</td>\n      <td>...</td>\n      <td>...</td>\n      <td>...</td>\n      <td>...</td>\n      <td>...</td>\n      <td>...</td>\n      <td>...</td>\n      <td>...</td>\n      <td>...</td>\n      <td>...</td>\n      <td>...</td>\n      <td>...</td>\n      <td>...</td>\n    </tr>\n    <tr>\n      <th>494</th>\n      <td>8</td>\n      <td>9</td>\n      <td>Stephen Curry</td>\n      <td>34</td>\n      <td>GSW</td>\n      <td>0.0</td>\n      <td>5.0</td>\n      <td>1000</td>\n      <td>0.005</td>\n      <td>56</td>\n      <td>...</td>\n      <td>6.1</td>\n      <td>6.3</td>\n      <td>0.9</td>\n      <td>0.4</td>\n      <td>0.493</td>\n      <td>0.427</td>\n      <td>0.915</td>\n      <td>7.8</td>\n      <td>0.192</td>\n      <td>2023</td>\n    </tr>\n    <tr>\n      <th>495</th>\n      <td>9</td>\n      <td>10</td>\n      <td>Jimmy Butler</td>\n      <td>33</td>\n      <td>MIA</td>\n      <td>0.0</td>\n      <td>3.0</td>\n      <td>1000</td>\n      <td>0.003</td>\n      <td>64</td>\n      <td>...</td>\n      <td>5.9</td>\n      <td>5.3</td>\n      <td>1.8</td>\n      <td>0.3</td>\n      <td>0.539</td>\n      <td>0.350</td>\n      <td>0.850</td>\n      <td>12.3</td>\n      <td>0.277</td>\n      <td>2023</td>\n    </tr>\n    <tr>\n      <th>496</th>\n      <td>10</td>\n      <td>11</td>\n      <td>De'Aaron Fox</td>\n      <td>25</td>\n      <td>SAC</td>\n      <td>0.0</td>\n      <td>2.0</td>\n      <td>1000</td>\n      <td>0.002</td>\n      <td>73</td>\n      <td>...</td>\n      <td>4.2</td>\n      <td>6.1</td>\n      <td>1.1</td>\n      <td>0.3</td>\n      <td>0.512</td>\n      <td>0.324</td>\n      <td>0.780</td>\n      <td>7.4</td>\n      <td>0.146</td>\n      <td>2023</td>\n    </tr>\n    <tr>\n      <th>497</th>\n      <td>11</td>\n      <td>12T</td>\n      <td>Jalen Brunson</td>\n      <td>26</td>\n      <td>NYK</td>\n      <td>0.0</td>\n      <td>1.0</td>\n      <td>1000</td>\n      <td>0.001</td>\n      <td>68</td>\n      <td>...</td>\n      <td>3.5</td>\n      <td>6.2</td>\n      <td>0.9</td>\n      <td>0.2</td>\n      <td>0.491</td>\n      <td>0.416</td>\n      <td>0.829</td>\n      <td>8.7</td>\n      <td>0.175</td>\n      <td>2023</td>\n    </tr>\n    <tr>\n      <th>498</th>\n      <td>12</td>\n      <td>12T</td>\n      <td>Ja Morant</td>\n      <td>23</td>\n      <td>MEM</td>\n      <td>0.0</td>\n      <td>1.0</td>\n      <td>1000</td>\n      <td>0.001</td>\n      <td>61</td>\n      <td>...</td>\n      <td>5.9</td>\n      <td>8.1</td>\n      <td>1.1</td>\n      <td>0.3</td>\n      <td>0.466</td>\n      <td>0.307</td>\n      <td>0.748</td>\n      <td>6.0</td>\n      <td>0.148</td>\n      <td>2023</td>\n    </tr>\n  </tbody>\n</table>\n<p>499 rows × 22 columns</p>\n</div>"
     },
     "execution_count": 3,
     "metadata": {},
     "output_type": "execute_result"
    }
   ],
   "source": [
    "mvps"
   ],
   "metadata": {
    "collapsed": false,
    "ExecuteTime": {
     "end_time": "2023-07-18T04:49:20.285043Z",
     "start_time": "2023-07-18T04:49:20.267491Z"
    }
   }
  },
  {
   "cell_type": "code",
   "execution_count": 5,
   "outputs": [],
   "source": [
    "mvps = mvps[[\"Player\", \"Year\", \"Pts Won\", \"Pts Max\", \"Share\"]]"
   ],
   "metadata": {
    "collapsed": false,
    "ExecuteTime": {
     "end_time": "2023-07-18T04:59:44.588658Z",
     "start_time": "2023-07-18T04:59:44.584248Z"
    }
   }
  },
  {
   "cell_type": "code",
   "execution_count": 6,
   "outputs": [
    {
     "data": {
      "text/plain": "            Player  Year  Pts Won  Pts Max  Share\n0   Michael Jordan  1991    891.0      960  0.928\n1    Magic Johnson  1991    497.0      960  0.518\n2   David Robinson  1991    476.0      960  0.496\n3  Charles Barkley  1991    222.0      960  0.231\n4      Karl Malone  1991    142.0      960  0.148",
      "text/html": "<div>\n<style scoped>\n    .dataframe tbody tr th:only-of-type {\n        vertical-align: middle;\n    }\n\n    .dataframe tbody tr th {\n        vertical-align: top;\n    }\n\n    .dataframe thead th {\n        text-align: right;\n    }\n</style>\n<table border=\"1\" class=\"dataframe\">\n  <thead>\n    <tr style=\"text-align: right;\">\n      <th></th>\n      <th>Player</th>\n      <th>Year</th>\n      <th>Pts Won</th>\n      <th>Pts Max</th>\n      <th>Share</th>\n    </tr>\n  </thead>\n  <tbody>\n    <tr>\n      <th>0</th>\n      <td>Michael Jordan</td>\n      <td>1991</td>\n      <td>891.0</td>\n      <td>960</td>\n      <td>0.928</td>\n    </tr>\n    <tr>\n      <th>1</th>\n      <td>Magic Johnson</td>\n      <td>1991</td>\n      <td>497.0</td>\n      <td>960</td>\n      <td>0.518</td>\n    </tr>\n    <tr>\n      <th>2</th>\n      <td>David Robinson</td>\n      <td>1991</td>\n      <td>476.0</td>\n      <td>960</td>\n      <td>0.496</td>\n    </tr>\n    <tr>\n      <th>3</th>\n      <td>Charles Barkley</td>\n      <td>1991</td>\n      <td>222.0</td>\n      <td>960</td>\n      <td>0.231</td>\n    </tr>\n    <tr>\n      <th>4</th>\n      <td>Karl Malone</td>\n      <td>1991</td>\n      <td>142.0</td>\n      <td>960</td>\n      <td>0.148</td>\n    </tr>\n  </tbody>\n</table>\n</div>"
     },
     "execution_count": 6,
     "metadata": {},
     "output_type": "execute_result"
    }
   ],
   "source": [
    "mvps.head()"
   ],
   "metadata": {
    "collapsed": false,
    "ExecuteTime": {
     "end_time": "2023-07-18T04:59:48.550996Z",
     "start_time": "2023-07-18T04:59:48.547533Z"
    }
   }
  },
  {
   "cell_type": "code",
   "execution_count": 17,
   "outputs": [],
   "source": [
    "players = pd.read_csv('players.csv')"
   ],
   "metadata": {
    "collapsed": false,
    "ExecuteTime": {
     "end_time": "2023-07-18T05:35:04.775292Z",
     "start_time": "2023-07-18T05:35:04.726295Z"
    }
   }
  },
  {
   "cell_type": "code",
   "execution_count": 18,
   "outputs": [
    {
     "data": {
      "text/plain": "       Unnamed: 0   Rk              Player Pos Age   Tm   G  GS    MP   FG  \\\n0               0    1      Alaa Abdelnaby  PF  22  POR  43   0   6.7  1.3   \n1               1    2  Mahmoud Abdul-Rauf  PG  21  DEN  67  19  22.5  6.2   \n2               2    3          Mark Acres   C  28  ORL  68   0  19.3  1.6   \n3               3    4       Michael Adams  PG  28  DEN  66  66  35.5  8.5   \n4               4    5        Mark Aguirre  SF  31  DET  78  13  25.7  5.4   \n...           ...  ...                 ...  ..  ..  ...  ..  ..   ...  ...   \n19584         699  535      Thaddeus Young  PF  34  TOR  54   9  14.7  2.0   \n19585         700  536          Trae Young  PG  24  ATL  73  73  34.8  8.2   \n19586         701  537      Omer Yurtseven   C  24  MIA   9   0   9.2  1.8   \n19587         702  538         Cody Zeller   C  30  MIA  15   2  14.5  2.5   \n19588         703  539         Ivica Zubac   C  25  LAC  76  76  28.6  4.3   \n\n       ...  ORB  DRB  TRB   AST  STL  BLK  TOV   PF   PTS  Year  \n0      ...  0.6  1.4  2.1   0.3  0.1  0.3  0.5  0.9   3.1  1991  \n1      ...  0.5  1.3  1.8   3.1  0.8  0.1  1.6  2.2  14.1  1991  \n2      ...  2.1  3.2  5.3   0.4  0.4  0.4  0.6  3.2   4.2  1991  \n3      ...  0.9  3.0  3.9  10.5  2.2  0.1  3.6  2.5  26.5  1991  \n4      ...  1.7  3.1  4.8   1.8  0.6  0.3  1.6  2.7  14.2  1991  \n...    ...  ...  ...  ...   ...  ...  ...  ...  ...   ...   ...  \n19584  ...  1.3  1.8  3.1   1.4  1.0  0.1  0.8  1.6   4.4  2023  \n19585  ...  0.8  2.2  3.0  10.2  1.1  0.1  4.1  1.4  26.2  2023  \n19586  ...  0.9  1.7  2.6   0.2  0.2  0.2  0.4  1.8   4.4  2023  \n19587  ...  1.7  2.6  4.3   0.7  0.2  0.3  0.9  2.2   6.5  2023  \n19588  ...  3.1  6.8  9.9   1.0  0.4  1.3  1.5  2.9  10.8  2023  \n\n[19589 rows x 32 columns]",
      "text/html": "<div>\n<style scoped>\n    .dataframe tbody tr th:only-of-type {\n        vertical-align: middle;\n    }\n\n    .dataframe tbody tr th {\n        vertical-align: top;\n    }\n\n    .dataframe thead th {\n        text-align: right;\n    }\n</style>\n<table border=\"1\" class=\"dataframe\">\n  <thead>\n    <tr style=\"text-align: right;\">\n      <th></th>\n      <th>Unnamed: 0</th>\n      <th>Rk</th>\n      <th>Player</th>\n      <th>Pos</th>\n      <th>Age</th>\n      <th>Tm</th>\n      <th>G</th>\n      <th>GS</th>\n      <th>MP</th>\n      <th>FG</th>\n      <th>...</th>\n      <th>ORB</th>\n      <th>DRB</th>\n      <th>TRB</th>\n      <th>AST</th>\n      <th>STL</th>\n      <th>BLK</th>\n      <th>TOV</th>\n      <th>PF</th>\n      <th>PTS</th>\n      <th>Year</th>\n    </tr>\n  </thead>\n  <tbody>\n    <tr>\n      <th>0</th>\n      <td>0</td>\n      <td>1</td>\n      <td>Alaa Abdelnaby</td>\n      <td>PF</td>\n      <td>22</td>\n      <td>POR</td>\n      <td>43</td>\n      <td>0</td>\n      <td>6.7</td>\n      <td>1.3</td>\n      <td>...</td>\n      <td>0.6</td>\n      <td>1.4</td>\n      <td>2.1</td>\n      <td>0.3</td>\n      <td>0.1</td>\n      <td>0.3</td>\n      <td>0.5</td>\n      <td>0.9</td>\n      <td>3.1</td>\n      <td>1991</td>\n    </tr>\n    <tr>\n      <th>1</th>\n      <td>1</td>\n      <td>2</td>\n      <td>Mahmoud Abdul-Rauf</td>\n      <td>PG</td>\n      <td>21</td>\n      <td>DEN</td>\n      <td>67</td>\n      <td>19</td>\n      <td>22.5</td>\n      <td>6.2</td>\n      <td>...</td>\n      <td>0.5</td>\n      <td>1.3</td>\n      <td>1.8</td>\n      <td>3.1</td>\n      <td>0.8</td>\n      <td>0.1</td>\n      <td>1.6</td>\n      <td>2.2</td>\n      <td>14.1</td>\n      <td>1991</td>\n    </tr>\n    <tr>\n      <th>2</th>\n      <td>2</td>\n      <td>3</td>\n      <td>Mark Acres</td>\n      <td>C</td>\n      <td>28</td>\n      <td>ORL</td>\n      <td>68</td>\n      <td>0</td>\n      <td>19.3</td>\n      <td>1.6</td>\n      <td>...</td>\n      <td>2.1</td>\n      <td>3.2</td>\n      <td>5.3</td>\n      <td>0.4</td>\n      <td>0.4</td>\n      <td>0.4</td>\n      <td>0.6</td>\n      <td>3.2</td>\n      <td>4.2</td>\n      <td>1991</td>\n    </tr>\n    <tr>\n      <th>3</th>\n      <td>3</td>\n      <td>4</td>\n      <td>Michael Adams</td>\n      <td>PG</td>\n      <td>28</td>\n      <td>DEN</td>\n      <td>66</td>\n      <td>66</td>\n      <td>35.5</td>\n      <td>8.5</td>\n      <td>...</td>\n      <td>0.9</td>\n      <td>3.0</td>\n      <td>3.9</td>\n      <td>10.5</td>\n      <td>2.2</td>\n      <td>0.1</td>\n      <td>3.6</td>\n      <td>2.5</td>\n      <td>26.5</td>\n      <td>1991</td>\n    </tr>\n    <tr>\n      <th>4</th>\n      <td>4</td>\n      <td>5</td>\n      <td>Mark Aguirre</td>\n      <td>SF</td>\n      <td>31</td>\n      <td>DET</td>\n      <td>78</td>\n      <td>13</td>\n      <td>25.7</td>\n      <td>5.4</td>\n      <td>...</td>\n      <td>1.7</td>\n      <td>3.1</td>\n      <td>4.8</td>\n      <td>1.8</td>\n      <td>0.6</td>\n      <td>0.3</td>\n      <td>1.6</td>\n      <td>2.7</td>\n      <td>14.2</td>\n      <td>1991</td>\n    </tr>\n    <tr>\n      <th>...</th>\n      <td>...</td>\n      <td>...</td>\n      <td>...</td>\n      <td>...</td>\n      <td>...</td>\n      <td>...</td>\n      <td>...</td>\n      <td>...</td>\n      <td>...</td>\n      <td>...</td>\n      <td>...</td>\n      <td>...</td>\n      <td>...</td>\n      <td>...</td>\n      <td>...</td>\n      <td>...</td>\n      <td>...</td>\n      <td>...</td>\n      <td>...</td>\n      <td>...</td>\n      <td>...</td>\n    </tr>\n    <tr>\n      <th>19584</th>\n      <td>699</td>\n      <td>535</td>\n      <td>Thaddeus Young</td>\n      <td>PF</td>\n      <td>34</td>\n      <td>TOR</td>\n      <td>54</td>\n      <td>9</td>\n      <td>14.7</td>\n      <td>2.0</td>\n      <td>...</td>\n      <td>1.3</td>\n      <td>1.8</td>\n      <td>3.1</td>\n      <td>1.4</td>\n      <td>1.0</td>\n      <td>0.1</td>\n      <td>0.8</td>\n      <td>1.6</td>\n      <td>4.4</td>\n      <td>2023</td>\n    </tr>\n    <tr>\n      <th>19585</th>\n      <td>700</td>\n      <td>536</td>\n      <td>Trae Young</td>\n      <td>PG</td>\n      <td>24</td>\n      <td>ATL</td>\n      <td>73</td>\n      <td>73</td>\n      <td>34.8</td>\n      <td>8.2</td>\n      <td>...</td>\n      <td>0.8</td>\n      <td>2.2</td>\n      <td>3.0</td>\n      <td>10.2</td>\n      <td>1.1</td>\n      <td>0.1</td>\n      <td>4.1</td>\n      <td>1.4</td>\n      <td>26.2</td>\n      <td>2023</td>\n    </tr>\n    <tr>\n      <th>19586</th>\n      <td>701</td>\n      <td>537</td>\n      <td>Omer Yurtseven</td>\n      <td>C</td>\n      <td>24</td>\n      <td>MIA</td>\n      <td>9</td>\n      <td>0</td>\n      <td>9.2</td>\n      <td>1.8</td>\n      <td>...</td>\n      <td>0.9</td>\n      <td>1.7</td>\n      <td>2.6</td>\n      <td>0.2</td>\n      <td>0.2</td>\n      <td>0.2</td>\n      <td>0.4</td>\n      <td>1.8</td>\n      <td>4.4</td>\n      <td>2023</td>\n    </tr>\n    <tr>\n      <th>19587</th>\n      <td>702</td>\n      <td>538</td>\n      <td>Cody Zeller</td>\n      <td>C</td>\n      <td>30</td>\n      <td>MIA</td>\n      <td>15</td>\n      <td>2</td>\n      <td>14.5</td>\n      <td>2.5</td>\n      <td>...</td>\n      <td>1.7</td>\n      <td>2.6</td>\n      <td>4.3</td>\n      <td>0.7</td>\n      <td>0.2</td>\n      <td>0.3</td>\n      <td>0.9</td>\n      <td>2.2</td>\n      <td>6.5</td>\n      <td>2023</td>\n    </tr>\n    <tr>\n      <th>19588</th>\n      <td>703</td>\n      <td>539</td>\n      <td>Ivica Zubac</td>\n      <td>C</td>\n      <td>25</td>\n      <td>LAC</td>\n      <td>76</td>\n      <td>76</td>\n      <td>28.6</td>\n      <td>4.3</td>\n      <td>...</td>\n      <td>3.1</td>\n      <td>6.8</td>\n      <td>9.9</td>\n      <td>1.0</td>\n      <td>0.4</td>\n      <td>1.3</td>\n      <td>1.5</td>\n      <td>2.9</td>\n      <td>10.8</td>\n      <td>2023</td>\n    </tr>\n  </tbody>\n</table>\n<p>19589 rows × 32 columns</p>\n</div>"
     },
     "execution_count": 18,
     "metadata": {},
     "output_type": "execute_result"
    }
   ],
   "source": [
    "players"
   ],
   "metadata": {
    "collapsed": false,
    "ExecuteTime": {
     "end_time": "2023-07-18T05:35:06.202634Z",
     "start_time": "2023-07-18T05:35:06.152963Z"
    }
   }
  },
  {
   "cell_type": "code",
   "execution_count": 19,
   "outputs": [],
   "source": [
    "del players['Unnamed: 0']\n",
    "del players['Rk']"
   ],
   "metadata": {
    "collapsed": false,
    "ExecuteTime": {
     "end_time": "2023-07-18T05:35:34.175405Z",
     "start_time": "2023-07-18T05:35:34.173389Z"
    }
   }
  },
  {
   "cell_type": "code",
   "execution_count": 20,
   "outputs": [
    {
     "data": {
      "text/plain": "                Player    Pos  Age   Tm   G  GS    MP   FG   FGA    FG%  ...  \\\n0       Alaa Abdelnaby     PF   22  POR  43   0   6.7  1.3   2.7   .474  ...   \n1   Mahmoud Abdul-Rauf     PG   21  DEN  67  19  22.5  6.2  15.1   .413  ...   \n2           Mark Acres      C   28  ORL  68   0  19.3  1.6   3.1   .509  ...   \n3        Michael Adams     PG   28  DEN  66  66  35.5  8.5  21.5   .394  ...   \n4         Mark Aguirre     SF   31  DET  78  13  25.7  5.4  11.7   .462  ...   \n5          Danny Ainge     SG   31  POR  80   0  21.4  4.2   8.9   .472  ...   \n6          Mark Alarie     PF   27  WSB  42   1  14.0  2.4   5.4   .440  ...   \n7         Steve Alford     PG   26  DAL  34   0   6.9  1.7   3.4   .504  ...   \n8        Greg Anderson     PF   26  TOT  68   2  13.6  1.7   4.0   .430  ...   \n9        Greg Anderson     PF   26  MIL  26   0   9.5  1.0   2.8   .370  ...   \n10       Greg Anderson     PF   26  NJN   1   0  18.0  4.0   4.0  1.000  ...   \n11       Greg Anderson     PF   26  DEN  41   2  16.1  2.1   4.7   .440  ...   \n12       Nick Anderson     SG   23  ORL  70  42  28.2  5.7  12.2   .467  ...   \n13        Ron Anderson     SF   32  PHI  82  13  28.5  6.2  12.9   .485  ...   \n14     Willie Anderson     SG   24  SAS  75  75  34.6  6.0  13.2   .457  ...   \n15      Michael Ansley     SF   23  ORL  67   1  13.1  2.1   3.9   .548  ...   \n16      B.J. Armstrong     PG   23  CHI  82   0  21.1  3.7   7.7   .481  ...   \n17       Vincent Askew     SG   24  GSW   7   0  12.1  1.7   3.6   .480  ...   \n18        Keith Askins     SF   23  MIA  39   1   6.8  0.9   2.1   .420  ...   \n19         Miloš Babić     PF   22  CLE  12   0   4.3  0.5   1.6   .316  ...   \n20        Thurl Bailey     PF   29  UTA  82  22  30.3  4.9  10.6   .458  ...   \n21         Cedric Ball     PF   22  LAC   7   0   3.7  0.4   1.1   .375  ...   \n22       Ken Bannister     PF   30  LAC  47   3   7.2  0.9   1.7   .531  ...   \n23    Charles Barkley*     SF   27  PHI  67  67  37.3  9.9  17.4   .570  ...   \n24         Dana Barros     PG   23  SEA  66   0  11.4  2.3   4.7   .495  ...   \n25         John Battle     SG   28  ATL  79   2  23.6  5.0  10.9   .461  ...   \n26        Kenny Battle     SG   26  TOT  56   8  16.9  2.4   5.0   .472  ...   \n27        Kenny Battle     SG   26  PHO  16   4  16.4  2.4   5.4   .442  ...   \n28        Kenny Battle     SG   26  DEN  40   4  17.1  2.4   4.9   .485  ...   \n29     William Bedford      C   27  DET  60   4   9.4  1.8   4.0   .438  ...   \n30     Benoit Benjamin      C   26  TOT  70  65  31.9  5.5  11.1   .496  ...   \n31     Benoit Benjamin      C   26  LAC  39  38  34.3  5.9  11.9   .492  ...   \n32     Benoit Benjamin      C   26  SEA  31  27  29.0  5.1  10.1   .502  ...   \n33     Winston Bennett     SF   25  CLE  27  13  12.4  1.5   4.0   .374  ...   \n34         Larry Bird*     SF   34  BOS  60  60  38.0  7.7  17.0   .454  ...   \n35    Rolando Blackman     SG   31  DAL  80  80  37.1  7.9  16.5   .482  ...   \n36        Lance Blanks     SG   24  DET  38   0   5.6  0.7   1.6   .426  ...   \n37     Mookie Blaylock     PG   23  NJN  72  70  35.9  6.0  14.4   .416  ...   \n38       Muggsy Bogues     PG   26  CHH  81  46  28.4  3.0   6.5   .460  ...   \n39          Manute Bol      C   28  PHI  82   6  18.6  0.8   2.0   .396  ...   \n40      Anthony Bonner     PF   22  SAC  34   6  22.1  3.0   6.8   .448  ...   \n41           Sam Bowie      C   29  NJN  62  51  30.9  5.1  11.7   .434  ...   \n42        Randy Breuer      C   30  MIN  73  44  20.6  2.7   6.0   .453  ...   \n43    Frank Brickowski     PF   31  MIL  75  73  25.5  5.0   9.4   .527  ...   \n44        Scott Brooks     PG   25  MIN  80   0  12.3  2.0   4.6   .430  ...   \n45        Chucky Brown     SF   22  CLE  74  51  20.1  3.6   6.8   .524  ...   \n46           Dee Brown     PG   22  BOS  82   5  23.7  3.5   7.5   .464  ...   \n47              Player    Pos  Age   Tm   G  GS    MP   FG   FGA    FG%  ...   \n48          Mike Brown      C   27  UTA  82   2  17.0  1.6   3.5   .454  ...   \n49          Tony Brown  SG-SF   30  TOT  30   0   9.8  1.0   2.7   .375  ...   \n\n    ORB  DRB   TRB   AST  STL  BLK  TOV   PF   PTS  Year  \n0   0.6  1.4   2.1   0.3  0.1  0.3  0.5  0.9   3.1  1991  \n1   0.5  1.3   1.8   3.1  0.8  0.1  1.6  2.2  14.1  1991  \n2   2.1  3.2   5.3   0.4  0.4  0.4  0.6  3.2   4.2  1991  \n3   0.9  3.0   3.9  10.5  2.2  0.1  3.6  2.5  26.5  1991  \n4   1.7  3.1   4.8   1.8  0.6  0.3  1.6  2.7  14.2  1991  \n5   0.6  2.0   2.6   3.6  0.8  0.2  1.3  2.4  11.1  1991  \n6   1.0  1.8   2.8   1.1  0.4  0.2  1.0  2.1   5.8  1991  \n7   0.3  0.4   0.7   0.6  0.2  0.0  0.5  0.3   4.4  1991  \n8   1.4  3.3   4.7   0.2  0.5  0.7  1.2  2.1   4.3  1991  \n9   1.0  1.9   2.9   0.1  0.3  0.3  0.8  1.1   2.7  1991  \n10  4.0  2.0   6.0   1.0  2.0  0.0  1.0  4.0   8.0  1991  \n11  1.6  4.1   5.8   0.3  0.6  0.9  1.5  2.6   5.2  1991  \n12  1.3  4.2   5.5   1.5  1.1  0.6  1.6  2.1  14.1  1991  \n13  1.3  3.2   4.5   1.4  0.8  0.2  1.2  2.0  14.6  1991  \n14  0.9  3.8   4.7   4.8  1.1  0.6  2.2  3.0  14.4  1991  \n15  1.8  2.0   3.8   0.4  0.4  0.1  0.5  1.9   5.7  1991  \n16  0.3  1.5   1.8   3.7  0.9  0.0  1.3  1.4   8.8  1991  \n17  1.0  0.6   1.6   1.9  0.3  0.0  0.9  3.0   4.7  1991  \n18  0.8  1.0   1.7   0.5  0.4  0.3  0.3  1.2   2.2  1991  \n19  0.5  0.3   0.8   0.3  0.1  0.1  0.4  0.6   1.6  1991  \n20  1.2  3.7   5.0   1.5  0.6  1.1  1.6  2.0  12.4  1991  \n21  0.7  0.9   1.6   0.0  0.0  0.3  0.3  0.7   1.1  1991  \n22  0.7  1.3   2.0   0.2  0.1  0.1  0.5  1.6   2.4  1991  \n23  3.9  6.3  10.1   4.2  1.6  0.5  3.1  2.6  27.6  1991  \n24  0.3  0.8   1.1   1.7  0.3  0.0  0.8  0.6   6.3  1991  \n25  0.4  1.6   2.0   2.7  0.6  0.1  1.4  1.8  13.6  1991  \n26  1.5  1.7   3.1   1.1  1.1  0.3  0.9  1.9   6.1  1991  \n27  1.3  2.0   3.3   0.9  1.2  0.4  1.1  1.6   6.0  1991  \n28  1.6  1.5   3.1   1.2  1.0  0.3  0.9  2.1   6.1  1991  \n29  0.9  1.3   2.2   0.5  0.0  0.6  0.5  1.3   4.5  1991  \n30  2.2  8.1  10.3   1.7  0.8  2.1  3.4  2.6  14.0  1991  \n31  2.4  9.6  12.0   1.9  0.7  2.3  3.5  2.8  14.9  1991  \n32  2.0  6.2   8.2   1.5  0.9  1.7  3.1  2.4  12.9  1991  \n33  1.1  1.3   2.4   1.0  0.3  0.1  0.7  1.9   4.3  1991  \n34  0.9  7.6   8.5   7.2  1.8  1.0  3.1  2.0  19.4  1991  \n35  0.8  2.4   3.2   3.8  0.9  0.2  2.0  1.9  19.9  1991  \n36  0.1  0.4   0.5   0.7  0.2  0.1  0.5  0.9   1.7  1991  \n37  0.9  2.5   3.5   6.1  2.3  0.6  2.9  2.5  14.1  1991  \n38  0.7  2.0   2.7   8.3  1.7  0.0  1.5  2.0   7.0  1991  \n39  0.8  3.5   4.3   0.2  0.2  3.0  0.8  2.2   1.9  1991  \n40  1.7  3.0   4.7   1.4  1.1  0.1  1.2  1.8   7.4  1991  \n41  2.8  4.9   7.7   2.4  0.7  1.5  2.3  2.8  12.9  1991  \n42  1.6  3.2   4.7   1.0  0.5  1.1  0.9  1.8   5.9  1991  \n43  1.7  4.0   5.7   1.7  1.1  0.6  2.1  3.4  12.6  1991  \n44  0.4  0.6   0.9   2.6  0.7  0.1  0.6  1.5   5.3  1991  \n45  1.1  1.8   2.9   1.1  0.4  0.3  1.3  1.8   8.5  1991  \n46  0.5  1.7   2.2   4.2  1.0  0.2  1.7  2.0   8.7  1991  \n47  ORB  DRB   TRB   AST  STL  BLK  TOV   PF   PTS  1991  \n48  1.3  2.8   4.1   0.6  0.4  0.3  1.0  2.0   4.8  1991  \n49  0.8  0.6   1.4   0.5  0.1  0.0  0.5  1.6   2.8  1991  \n\n[50 rows x 30 columns]",
      "text/html": "<div>\n<style scoped>\n    .dataframe tbody tr th:only-of-type {\n        vertical-align: middle;\n    }\n\n    .dataframe tbody tr th {\n        vertical-align: top;\n    }\n\n    .dataframe thead th {\n        text-align: right;\n    }\n</style>\n<table border=\"1\" class=\"dataframe\">\n  <thead>\n    <tr style=\"text-align: right;\">\n      <th></th>\n      <th>Player</th>\n      <th>Pos</th>\n      <th>Age</th>\n      <th>Tm</th>\n      <th>G</th>\n      <th>GS</th>\n      <th>MP</th>\n      <th>FG</th>\n      <th>FGA</th>\n      <th>FG%</th>\n      <th>...</th>\n      <th>ORB</th>\n      <th>DRB</th>\n      <th>TRB</th>\n      <th>AST</th>\n      <th>STL</th>\n      <th>BLK</th>\n      <th>TOV</th>\n      <th>PF</th>\n      <th>PTS</th>\n      <th>Year</th>\n    </tr>\n  </thead>\n  <tbody>\n    <tr>\n      <th>0</th>\n      <td>Alaa Abdelnaby</td>\n      <td>PF</td>\n      <td>22</td>\n      <td>POR</td>\n      <td>43</td>\n      <td>0</td>\n      <td>6.7</td>\n      <td>1.3</td>\n      <td>2.7</td>\n      <td>.474</td>\n      <td>...</td>\n      <td>0.6</td>\n      <td>1.4</td>\n      <td>2.1</td>\n      <td>0.3</td>\n      <td>0.1</td>\n      <td>0.3</td>\n      <td>0.5</td>\n      <td>0.9</td>\n      <td>3.1</td>\n      <td>1991</td>\n    </tr>\n    <tr>\n      <th>1</th>\n      <td>Mahmoud Abdul-Rauf</td>\n      <td>PG</td>\n      <td>21</td>\n      <td>DEN</td>\n      <td>67</td>\n      <td>19</td>\n      <td>22.5</td>\n      <td>6.2</td>\n      <td>15.1</td>\n      <td>.413</td>\n      <td>...</td>\n      <td>0.5</td>\n      <td>1.3</td>\n      <td>1.8</td>\n      <td>3.1</td>\n      <td>0.8</td>\n      <td>0.1</td>\n      <td>1.6</td>\n      <td>2.2</td>\n      <td>14.1</td>\n      <td>1991</td>\n    </tr>\n    <tr>\n      <th>2</th>\n      <td>Mark Acres</td>\n      <td>C</td>\n      <td>28</td>\n      <td>ORL</td>\n      <td>68</td>\n      <td>0</td>\n      <td>19.3</td>\n      <td>1.6</td>\n      <td>3.1</td>\n      <td>.509</td>\n      <td>...</td>\n      <td>2.1</td>\n      <td>3.2</td>\n      <td>5.3</td>\n      <td>0.4</td>\n      <td>0.4</td>\n      <td>0.4</td>\n      <td>0.6</td>\n      <td>3.2</td>\n      <td>4.2</td>\n      <td>1991</td>\n    </tr>\n    <tr>\n      <th>3</th>\n      <td>Michael Adams</td>\n      <td>PG</td>\n      <td>28</td>\n      <td>DEN</td>\n      <td>66</td>\n      <td>66</td>\n      <td>35.5</td>\n      <td>8.5</td>\n      <td>21.5</td>\n      <td>.394</td>\n      <td>...</td>\n      <td>0.9</td>\n      <td>3.0</td>\n      <td>3.9</td>\n      <td>10.5</td>\n      <td>2.2</td>\n      <td>0.1</td>\n      <td>3.6</td>\n      <td>2.5</td>\n      <td>26.5</td>\n      <td>1991</td>\n    </tr>\n    <tr>\n      <th>4</th>\n      <td>Mark Aguirre</td>\n      <td>SF</td>\n      <td>31</td>\n      <td>DET</td>\n      <td>78</td>\n      <td>13</td>\n      <td>25.7</td>\n      <td>5.4</td>\n      <td>11.7</td>\n      <td>.462</td>\n      <td>...</td>\n      <td>1.7</td>\n      <td>3.1</td>\n      <td>4.8</td>\n      <td>1.8</td>\n      <td>0.6</td>\n      <td>0.3</td>\n      <td>1.6</td>\n      <td>2.7</td>\n      <td>14.2</td>\n      <td>1991</td>\n    </tr>\n    <tr>\n      <th>5</th>\n      <td>Danny Ainge</td>\n      <td>SG</td>\n      <td>31</td>\n      <td>POR</td>\n      <td>80</td>\n      <td>0</td>\n      <td>21.4</td>\n      <td>4.2</td>\n      <td>8.9</td>\n      <td>.472</td>\n      <td>...</td>\n      <td>0.6</td>\n      <td>2.0</td>\n      <td>2.6</td>\n      <td>3.6</td>\n      <td>0.8</td>\n      <td>0.2</td>\n      <td>1.3</td>\n      <td>2.4</td>\n      <td>11.1</td>\n      <td>1991</td>\n    </tr>\n    <tr>\n      <th>6</th>\n      <td>Mark Alarie</td>\n      <td>PF</td>\n      <td>27</td>\n      <td>WSB</td>\n      <td>42</td>\n      <td>1</td>\n      <td>14.0</td>\n      <td>2.4</td>\n      <td>5.4</td>\n      <td>.440</td>\n      <td>...</td>\n      <td>1.0</td>\n      <td>1.8</td>\n      <td>2.8</td>\n      <td>1.1</td>\n      <td>0.4</td>\n      <td>0.2</td>\n      <td>1.0</td>\n      <td>2.1</td>\n      <td>5.8</td>\n      <td>1991</td>\n    </tr>\n    <tr>\n      <th>7</th>\n      <td>Steve Alford</td>\n      <td>PG</td>\n      <td>26</td>\n      <td>DAL</td>\n      <td>34</td>\n      <td>0</td>\n      <td>6.9</td>\n      <td>1.7</td>\n      <td>3.4</td>\n      <td>.504</td>\n      <td>...</td>\n      <td>0.3</td>\n      <td>0.4</td>\n      <td>0.7</td>\n      <td>0.6</td>\n      <td>0.2</td>\n      <td>0.0</td>\n      <td>0.5</td>\n      <td>0.3</td>\n      <td>4.4</td>\n      <td>1991</td>\n    </tr>\n    <tr>\n      <th>8</th>\n      <td>Greg Anderson</td>\n      <td>PF</td>\n      <td>26</td>\n      <td>TOT</td>\n      <td>68</td>\n      <td>2</td>\n      <td>13.6</td>\n      <td>1.7</td>\n      <td>4.0</td>\n      <td>.430</td>\n      <td>...</td>\n      <td>1.4</td>\n      <td>3.3</td>\n      <td>4.7</td>\n      <td>0.2</td>\n      <td>0.5</td>\n      <td>0.7</td>\n      <td>1.2</td>\n      <td>2.1</td>\n      <td>4.3</td>\n      <td>1991</td>\n    </tr>\n    <tr>\n      <th>9</th>\n      <td>Greg Anderson</td>\n      <td>PF</td>\n      <td>26</td>\n      <td>MIL</td>\n      <td>26</td>\n      <td>0</td>\n      <td>9.5</td>\n      <td>1.0</td>\n      <td>2.8</td>\n      <td>.370</td>\n      <td>...</td>\n      <td>1.0</td>\n      <td>1.9</td>\n      <td>2.9</td>\n      <td>0.1</td>\n      <td>0.3</td>\n      <td>0.3</td>\n      <td>0.8</td>\n      <td>1.1</td>\n      <td>2.7</td>\n      <td>1991</td>\n    </tr>\n    <tr>\n      <th>10</th>\n      <td>Greg Anderson</td>\n      <td>PF</td>\n      <td>26</td>\n      <td>NJN</td>\n      <td>1</td>\n      <td>0</td>\n      <td>18.0</td>\n      <td>4.0</td>\n      <td>4.0</td>\n      <td>1.000</td>\n      <td>...</td>\n      <td>4.0</td>\n      <td>2.0</td>\n      <td>6.0</td>\n      <td>1.0</td>\n      <td>2.0</td>\n      <td>0.0</td>\n      <td>1.0</td>\n      <td>4.0</td>\n      <td>8.0</td>\n      <td>1991</td>\n    </tr>\n    <tr>\n      <th>11</th>\n      <td>Greg Anderson</td>\n      <td>PF</td>\n      <td>26</td>\n      <td>DEN</td>\n      <td>41</td>\n      <td>2</td>\n      <td>16.1</td>\n      <td>2.1</td>\n      <td>4.7</td>\n      <td>.440</td>\n      <td>...</td>\n      <td>1.6</td>\n      <td>4.1</td>\n      <td>5.8</td>\n      <td>0.3</td>\n      <td>0.6</td>\n      <td>0.9</td>\n      <td>1.5</td>\n      <td>2.6</td>\n      <td>5.2</td>\n      <td>1991</td>\n    </tr>\n    <tr>\n      <th>12</th>\n      <td>Nick Anderson</td>\n      <td>SG</td>\n      <td>23</td>\n      <td>ORL</td>\n      <td>70</td>\n      <td>42</td>\n      <td>28.2</td>\n      <td>5.7</td>\n      <td>12.2</td>\n      <td>.467</td>\n      <td>...</td>\n      <td>1.3</td>\n      <td>4.2</td>\n      <td>5.5</td>\n      <td>1.5</td>\n      <td>1.1</td>\n      <td>0.6</td>\n      <td>1.6</td>\n      <td>2.1</td>\n      <td>14.1</td>\n      <td>1991</td>\n    </tr>\n    <tr>\n      <th>13</th>\n      <td>Ron Anderson</td>\n      <td>SF</td>\n      <td>32</td>\n      <td>PHI</td>\n      <td>82</td>\n      <td>13</td>\n      <td>28.5</td>\n      <td>6.2</td>\n      <td>12.9</td>\n      <td>.485</td>\n      <td>...</td>\n      <td>1.3</td>\n      <td>3.2</td>\n      <td>4.5</td>\n      <td>1.4</td>\n      <td>0.8</td>\n      <td>0.2</td>\n      <td>1.2</td>\n      <td>2.0</td>\n      <td>14.6</td>\n      <td>1991</td>\n    </tr>\n    <tr>\n      <th>14</th>\n      <td>Willie Anderson</td>\n      <td>SG</td>\n      <td>24</td>\n      <td>SAS</td>\n      <td>75</td>\n      <td>75</td>\n      <td>34.6</td>\n      <td>6.0</td>\n      <td>13.2</td>\n      <td>.457</td>\n      <td>...</td>\n      <td>0.9</td>\n      <td>3.8</td>\n      <td>4.7</td>\n      <td>4.8</td>\n      <td>1.1</td>\n      <td>0.6</td>\n      <td>2.2</td>\n      <td>3.0</td>\n      <td>14.4</td>\n      <td>1991</td>\n    </tr>\n    <tr>\n      <th>15</th>\n      <td>Michael Ansley</td>\n      <td>SF</td>\n      <td>23</td>\n      <td>ORL</td>\n      <td>67</td>\n      <td>1</td>\n      <td>13.1</td>\n      <td>2.1</td>\n      <td>3.9</td>\n      <td>.548</td>\n      <td>...</td>\n      <td>1.8</td>\n      <td>2.0</td>\n      <td>3.8</td>\n      <td>0.4</td>\n      <td>0.4</td>\n      <td>0.1</td>\n      <td>0.5</td>\n      <td>1.9</td>\n      <td>5.7</td>\n      <td>1991</td>\n    </tr>\n    <tr>\n      <th>16</th>\n      <td>B.J. Armstrong</td>\n      <td>PG</td>\n      <td>23</td>\n      <td>CHI</td>\n      <td>82</td>\n      <td>0</td>\n      <td>21.1</td>\n      <td>3.7</td>\n      <td>7.7</td>\n      <td>.481</td>\n      <td>...</td>\n      <td>0.3</td>\n      <td>1.5</td>\n      <td>1.8</td>\n      <td>3.7</td>\n      <td>0.9</td>\n      <td>0.0</td>\n      <td>1.3</td>\n      <td>1.4</td>\n      <td>8.8</td>\n      <td>1991</td>\n    </tr>\n    <tr>\n      <th>17</th>\n      <td>Vincent Askew</td>\n      <td>SG</td>\n      <td>24</td>\n      <td>GSW</td>\n      <td>7</td>\n      <td>0</td>\n      <td>12.1</td>\n      <td>1.7</td>\n      <td>3.6</td>\n      <td>.480</td>\n      <td>...</td>\n      <td>1.0</td>\n      <td>0.6</td>\n      <td>1.6</td>\n      <td>1.9</td>\n      <td>0.3</td>\n      <td>0.0</td>\n      <td>0.9</td>\n      <td>3.0</td>\n      <td>4.7</td>\n      <td>1991</td>\n    </tr>\n    <tr>\n      <th>18</th>\n      <td>Keith Askins</td>\n      <td>SF</td>\n      <td>23</td>\n      <td>MIA</td>\n      <td>39</td>\n      <td>1</td>\n      <td>6.8</td>\n      <td>0.9</td>\n      <td>2.1</td>\n      <td>.420</td>\n      <td>...</td>\n      <td>0.8</td>\n      <td>1.0</td>\n      <td>1.7</td>\n      <td>0.5</td>\n      <td>0.4</td>\n      <td>0.3</td>\n      <td>0.3</td>\n      <td>1.2</td>\n      <td>2.2</td>\n      <td>1991</td>\n    </tr>\n    <tr>\n      <th>19</th>\n      <td>Miloš Babić</td>\n      <td>PF</td>\n      <td>22</td>\n      <td>CLE</td>\n      <td>12</td>\n      <td>0</td>\n      <td>4.3</td>\n      <td>0.5</td>\n      <td>1.6</td>\n      <td>.316</td>\n      <td>...</td>\n      <td>0.5</td>\n      <td>0.3</td>\n      <td>0.8</td>\n      <td>0.3</td>\n      <td>0.1</td>\n      <td>0.1</td>\n      <td>0.4</td>\n      <td>0.6</td>\n      <td>1.6</td>\n      <td>1991</td>\n    </tr>\n    <tr>\n      <th>20</th>\n      <td>Thurl Bailey</td>\n      <td>PF</td>\n      <td>29</td>\n      <td>UTA</td>\n      <td>82</td>\n      <td>22</td>\n      <td>30.3</td>\n      <td>4.9</td>\n      <td>10.6</td>\n      <td>.458</td>\n      <td>...</td>\n      <td>1.2</td>\n      <td>3.7</td>\n      <td>5.0</td>\n      <td>1.5</td>\n      <td>0.6</td>\n      <td>1.1</td>\n      <td>1.6</td>\n      <td>2.0</td>\n      <td>12.4</td>\n      <td>1991</td>\n    </tr>\n    <tr>\n      <th>21</th>\n      <td>Cedric Ball</td>\n      <td>PF</td>\n      <td>22</td>\n      <td>LAC</td>\n      <td>7</td>\n      <td>0</td>\n      <td>3.7</td>\n      <td>0.4</td>\n      <td>1.1</td>\n      <td>.375</td>\n      <td>...</td>\n      <td>0.7</td>\n      <td>0.9</td>\n      <td>1.6</td>\n      <td>0.0</td>\n      <td>0.0</td>\n      <td>0.3</td>\n      <td>0.3</td>\n      <td>0.7</td>\n      <td>1.1</td>\n      <td>1991</td>\n    </tr>\n    <tr>\n      <th>22</th>\n      <td>Ken Bannister</td>\n      <td>PF</td>\n      <td>30</td>\n      <td>LAC</td>\n      <td>47</td>\n      <td>3</td>\n      <td>7.2</td>\n      <td>0.9</td>\n      <td>1.7</td>\n      <td>.531</td>\n      <td>...</td>\n      <td>0.7</td>\n      <td>1.3</td>\n      <td>2.0</td>\n      <td>0.2</td>\n      <td>0.1</td>\n      <td>0.1</td>\n      <td>0.5</td>\n      <td>1.6</td>\n      <td>2.4</td>\n      <td>1991</td>\n    </tr>\n    <tr>\n      <th>23</th>\n      <td>Charles Barkley*</td>\n      <td>SF</td>\n      <td>27</td>\n      <td>PHI</td>\n      <td>67</td>\n      <td>67</td>\n      <td>37.3</td>\n      <td>9.9</td>\n      <td>17.4</td>\n      <td>.570</td>\n      <td>...</td>\n      <td>3.9</td>\n      <td>6.3</td>\n      <td>10.1</td>\n      <td>4.2</td>\n      <td>1.6</td>\n      <td>0.5</td>\n      <td>3.1</td>\n      <td>2.6</td>\n      <td>27.6</td>\n      <td>1991</td>\n    </tr>\n    <tr>\n      <th>24</th>\n      <td>Dana Barros</td>\n      <td>PG</td>\n      <td>23</td>\n      <td>SEA</td>\n      <td>66</td>\n      <td>0</td>\n      <td>11.4</td>\n      <td>2.3</td>\n      <td>4.7</td>\n      <td>.495</td>\n      <td>...</td>\n      <td>0.3</td>\n      <td>0.8</td>\n      <td>1.1</td>\n      <td>1.7</td>\n      <td>0.3</td>\n      <td>0.0</td>\n      <td>0.8</td>\n      <td>0.6</td>\n      <td>6.3</td>\n      <td>1991</td>\n    </tr>\n    <tr>\n      <th>25</th>\n      <td>John Battle</td>\n      <td>SG</td>\n      <td>28</td>\n      <td>ATL</td>\n      <td>79</td>\n      <td>2</td>\n      <td>23.6</td>\n      <td>5.0</td>\n      <td>10.9</td>\n      <td>.461</td>\n      <td>...</td>\n      <td>0.4</td>\n      <td>1.6</td>\n      <td>2.0</td>\n      <td>2.7</td>\n      <td>0.6</td>\n      <td>0.1</td>\n      <td>1.4</td>\n      <td>1.8</td>\n      <td>13.6</td>\n      <td>1991</td>\n    </tr>\n    <tr>\n      <th>26</th>\n      <td>Kenny Battle</td>\n      <td>SG</td>\n      <td>26</td>\n      <td>TOT</td>\n      <td>56</td>\n      <td>8</td>\n      <td>16.9</td>\n      <td>2.4</td>\n      <td>5.0</td>\n      <td>.472</td>\n      <td>...</td>\n      <td>1.5</td>\n      <td>1.7</td>\n      <td>3.1</td>\n      <td>1.1</td>\n      <td>1.1</td>\n      <td>0.3</td>\n      <td>0.9</td>\n      <td>1.9</td>\n      <td>6.1</td>\n      <td>1991</td>\n    </tr>\n    <tr>\n      <th>27</th>\n      <td>Kenny Battle</td>\n      <td>SG</td>\n      <td>26</td>\n      <td>PHO</td>\n      <td>16</td>\n      <td>4</td>\n      <td>16.4</td>\n      <td>2.4</td>\n      <td>5.4</td>\n      <td>.442</td>\n      <td>...</td>\n      <td>1.3</td>\n      <td>2.0</td>\n      <td>3.3</td>\n      <td>0.9</td>\n      <td>1.2</td>\n      <td>0.4</td>\n      <td>1.1</td>\n      <td>1.6</td>\n      <td>6.0</td>\n      <td>1991</td>\n    </tr>\n    <tr>\n      <th>28</th>\n      <td>Kenny Battle</td>\n      <td>SG</td>\n      <td>26</td>\n      <td>DEN</td>\n      <td>40</td>\n      <td>4</td>\n      <td>17.1</td>\n      <td>2.4</td>\n      <td>4.9</td>\n      <td>.485</td>\n      <td>...</td>\n      <td>1.6</td>\n      <td>1.5</td>\n      <td>3.1</td>\n      <td>1.2</td>\n      <td>1.0</td>\n      <td>0.3</td>\n      <td>0.9</td>\n      <td>2.1</td>\n      <td>6.1</td>\n      <td>1991</td>\n    </tr>\n    <tr>\n      <th>29</th>\n      <td>William Bedford</td>\n      <td>C</td>\n      <td>27</td>\n      <td>DET</td>\n      <td>60</td>\n      <td>4</td>\n      <td>9.4</td>\n      <td>1.8</td>\n      <td>4.0</td>\n      <td>.438</td>\n      <td>...</td>\n      <td>0.9</td>\n      <td>1.3</td>\n      <td>2.2</td>\n      <td>0.5</td>\n      <td>0.0</td>\n      <td>0.6</td>\n      <td>0.5</td>\n      <td>1.3</td>\n      <td>4.5</td>\n      <td>1991</td>\n    </tr>\n    <tr>\n      <th>30</th>\n      <td>Benoit Benjamin</td>\n      <td>C</td>\n      <td>26</td>\n      <td>TOT</td>\n      <td>70</td>\n      <td>65</td>\n      <td>31.9</td>\n      <td>5.5</td>\n      <td>11.1</td>\n      <td>.496</td>\n      <td>...</td>\n      <td>2.2</td>\n      <td>8.1</td>\n      <td>10.3</td>\n      <td>1.7</td>\n      <td>0.8</td>\n      <td>2.1</td>\n      <td>3.4</td>\n      <td>2.6</td>\n      <td>14.0</td>\n      <td>1991</td>\n    </tr>\n    <tr>\n      <th>31</th>\n      <td>Benoit Benjamin</td>\n      <td>C</td>\n      <td>26</td>\n      <td>LAC</td>\n      <td>39</td>\n      <td>38</td>\n      <td>34.3</td>\n      <td>5.9</td>\n      <td>11.9</td>\n      <td>.492</td>\n      <td>...</td>\n      <td>2.4</td>\n      <td>9.6</td>\n      <td>12.0</td>\n      <td>1.9</td>\n      <td>0.7</td>\n      <td>2.3</td>\n      <td>3.5</td>\n      <td>2.8</td>\n      <td>14.9</td>\n      <td>1991</td>\n    </tr>\n    <tr>\n      <th>32</th>\n      <td>Benoit Benjamin</td>\n      <td>C</td>\n      <td>26</td>\n      <td>SEA</td>\n      <td>31</td>\n      <td>27</td>\n      <td>29.0</td>\n      <td>5.1</td>\n      <td>10.1</td>\n      <td>.502</td>\n      <td>...</td>\n      <td>2.0</td>\n      <td>6.2</td>\n      <td>8.2</td>\n      <td>1.5</td>\n      <td>0.9</td>\n      <td>1.7</td>\n      <td>3.1</td>\n      <td>2.4</td>\n      <td>12.9</td>\n      <td>1991</td>\n    </tr>\n    <tr>\n      <th>33</th>\n      <td>Winston Bennett</td>\n      <td>SF</td>\n      <td>25</td>\n      <td>CLE</td>\n      <td>27</td>\n      <td>13</td>\n      <td>12.4</td>\n      <td>1.5</td>\n      <td>4.0</td>\n      <td>.374</td>\n      <td>...</td>\n      <td>1.1</td>\n      <td>1.3</td>\n      <td>2.4</td>\n      <td>1.0</td>\n      <td>0.3</td>\n      <td>0.1</td>\n      <td>0.7</td>\n      <td>1.9</td>\n      <td>4.3</td>\n      <td>1991</td>\n    </tr>\n    <tr>\n      <th>34</th>\n      <td>Larry Bird*</td>\n      <td>SF</td>\n      <td>34</td>\n      <td>BOS</td>\n      <td>60</td>\n      <td>60</td>\n      <td>38.0</td>\n      <td>7.7</td>\n      <td>17.0</td>\n      <td>.454</td>\n      <td>...</td>\n      <td>0.9</td>\n      <td>7.6</td>\n      <td>8.5</td>\n      <td>7.2</td>\n      <td>1.8</td>\n      <td>1.0</td>\n      <td>3.1</td>\n      <td>2.0</td>\n      <td>19.4</td>\n      <td>1991</td>\n    </tr>\n    <tr>\n      <th>35</th>\n      <td>Rolando Blackman</td>\n      <td>SG</td>\n      <td>31</td>\n      <td>DAL</td>\n      <td>80</td>\n      <td>80</td>\n      <td>37.1</td>\n      <td>7.9</td>\n      <td>16.5</td>\n      <td>.482</td>\n      <td>...</td>\n      <td>0.8</td>\n      <td>2.4</td>\n      <td>3.2</td>\n      <td>3.8</td>\n      <td>0.9</td>\n      <td>0.2</td>\n      <td>2.0</td>\n      <td>1.9</td>\n      <td>19.9</td>\n      <td>1991</td>\n    </tr>\n    <tr>\n      <th>36</th>\n      <td>Lance Blanks</td>\n      <td>SG</td>\n      <td>24</td>\n      <td>DET</td>\n      <td>38</td>\n      <td>0</td>\n      <td>5.6</td>\n      <td>0.7</td>\n      <td>1.6</td>\n      <td>.426</td>\n      <td>...</td>\n      <td>0.1</td>\n      <td>0.4</td>\n      <td>0.5</td>\n      <td>0.7</td>\n      <td>0.2</td>\n      <td>0.1</td>\n      <td>0.5</td>\n      <td>0.9</td>\n      <td>1.7</td>\n      <td>1991</td>\n    </tr>\n    <tr>\n      <th>37</th>\n      <td>Mookie Blaylock</td>\n      <td>PG</td>\n      <td>23</td>\n      <td>NJN</td>\n      <td>72</td>\n      <td>70</td>\n      <td>35.9</td>\n      <td>6.0</td>\n      <td>14.4</td>\n      <td>.416</td>\n      <td>...</td>\n      <td>0.9</td>\n      <td>2.5</td>\n      <td>3.5</td>\n      <td>6.1</td>\n      <td>2.3</td>\n      <td>0.6</td>\n      <td>2.9</td>\n      <td>2.5</td>\n      <td>14.1</td>\n      <td>1991</td>\n    </tr>\n    <tr>\n      <th>38</th>\n      <td>Muggsy Bogues</td>\n      <td>PG</td>\n      <td>26</td>\n      <td>CHH</td>\n      <td>81</td>\n      <td>46</td>\n      <td>28.4</td>\n      <td>3.0</td>\n      <td>6.5</td>\n      <td>.460</td>\n      <td>...</td>\n      <td>0.7</td>\n      <td>2.0</td>\n      <td>2.7</td>\n      <td>8.3</td>\n      <td>1.7</td>\n      <td>0.0</td>\n      <td>1.5</td>\n      <td>2.0</td>\n      <td>7.0</td>\n      <td>1991</td>\n    </tr>\n    <tr>\n      <th>39</th>\n      <td>Manute Bol</td>\n      <td>C</td>\n      <td>28</td>\n      <td>PHI</td>\n      <td>82</td>\n      <td>6</td>\n      <td>18.6</td>\n      <td>0.8</td>\n      <td>2.0</td>\n      <td>.396</td>\n      <td>...</td>\n      <td>0.8</td>\n      <td>3.5</td>\n      <td>4.3</td>\n      <td>0.2</td>\n      <td>0.2</td>\n      <td>3.0</td>\n      <td>0.8</td>\n      <td>2.2</td>\n      <td>1.9</td>\n      <td>1991</td>\n    </tr>\n    <tr>\n      <th>40</th>\n      <td>Anthony Bonner</td>\n      <td>PF</td>\n      <td>22</td>\n      <td>SAC</td>\n      <td>34</td>\n      <td>6</td>\n      <td>22.1</td>\n      <td>3.0</td>\n      <td>6.8</td>\n      <td>.448</td>\n      <td>...</td>\n      <td>1.7</td>\n      <td>3.0</td>\n      <td>4.7</td>\n      <td>1.4</td>\n      <td>1.1</td>\n      <td>0.1</td>\n      <td>1.2</td>\n      <td>1.8</td>\n      <td>7.4</td>\n      <td>1991</td>\n    </tr>\n    <tr>\n      <th>41</th>\n      <td>Sam Bowie</td>\n      <td>C</td>\n      <td>29</td>\n      <td>NJN</td>\n      <td>62</td>\n      <td>51</td>\n      <td>30.9</td>\n      <td>5.1</td>\n      <td>11.7</td>\n      <td>.434</td>\n      <td>...</td>\n      <td>2.8</td>\n      <td>4.9</td>\n      <td>7.7</td>\n      <td>2.4</td>\n      <td>0.7</td>\n      <td>1.5</td>\n      <td>2.3</td>\n      <td>2.8</td>\n      <td>12.9</td>\n      <td>1991</td>\n    </tr>\n    <tr>\n      <th>42</th>\n      <td>Randy Breuer</td>\n      <td>C</td>\n      <td>30</td>\n      <td>MIN</td>\n      <td>73</td>\n      <td>44</td>\n      <td>20.6</td>\n      <td>2.7</td>\n      <td>6.0</td>\n      <td>.453</td>\n      <td>...</td>\n      <td>1.6</td>\n      <td>3.2</td>\n      <td>4.7</td>\n      <td>1.0</td>\n      <td>0.5</td>\n      <td>1.1</td>\n      <td>0.9</td>\n      <td>1.8</td>\n      <td>5.9</td>\n      <td>1991</td>\n    </tr>\n    <tr>\n      <th>43</th>\n      <td>Frank Brickowski</td>\n      <td>PF</td>\n      <td>31</td>\n      <td>MIL</td>\n      <td>75</td>\n      <td>73</td>\n      <td>25.5</td>\n      <td>5.0</td>\n      <td>9.4</td>\n      <td>.527</td>\n      <td>...</td>\n      <td>1.7</td>\n      <td>4.0</td>\n      <td>5.7</td>\n      <td>1.7</td>\n      <td>1.1</td>\n      <td>0.6</td>\n      <td>2.1</td>\n      <td>3.4</td>\n      <td>12.6</td>\n      <td>1991</td>\n    </tr>\n    <tr>\n      <th>44</th>\n      <td>Scott Brooks</td>\n      <td>PG</td>\n      <td>25</td>\n      <td>MIN</td>\n      <td>80</td>\n      <td>0</td>\n      <td>12.3</td>\n      <td>2.0</td>\n      <td>4.6</td>\n      <td>.430</td>\n      <td>...</td>\n      <td>0.4</td>\n      <td>0.6</td>\n      <td>0.9</td>\n      <td>2.6</td>\n      <td>0.7</td>\n      <td>0.1</td>\n      <td>0.6</td>\n      <td>1.5</td>\n      <td>5.3</td>\n      <td>1991</td>\n    </tr>\n    <tr>\n      <th>45</th>\n      <td>Chucky Brown</td>\n      <td>SF</td>\n      <td>22</td>\n      <td>CLE</td>\n      <td>74</td>\n      <td>51</td>\n      <td>20.1</td>\n      <td>3.6</td>\n      <td>6.8</td>\n      <td>.524</td>\n      <td>...</td>\n      <td>1.1</td>\n      <td>1.8</td>\n      <td>2.9</td>\n      <td>1.1</td>\n      <td>0.4</td>\n      <td>0.3</td>\n      <td>1.3</td>\n      <td>1.8</td>\n      <td>8.5</td>\n      <td>1991</td>\n    </tr>\n    <tr>\n      <th>46</th>\n      <td>Dee Brown</td>\n      <td>PG</td>\n      <td>22</td>\n      <td>BOS</td>\n      <td>82</td>\n      <td>5</td>\n      <td>23.7</td>\n      <td>3.5</td>\n      <td>7.5</td>\n      <td>.464</td>\n      <td>...</td>\n      <td>0.5</td>\n      <td>1.7</td>\n      <td>2.2</td>\n      <td>4.2</td>\n      <td>1.0</td>\n      <td>0.2</td>\n      <td>1.7</td>\n      <td>2.0</td>\n      <td>8.7</td>\n      <td>1991</td>\n    </tr>\n    <tr>\n      <th>47</th>\n      <td>Player</td>\n      <td>Pos</td>\n      <td>Age</td>\n      <td>Tm</td>\n      <td>G</td>\n      <td>GS</td>\n      <td>MP</td>\n      <td>FG</td>\n      <td>FGA</td>\n      <td>FG%</td>\n      <td>...</td>\n      <td>ORB</td>\n      <td>DRB</td>\n      <td>TRB</td>\n      <td>AST</td>\n      <td>STL</td>\n      <td>BLK</td>\n      <td>TOV</td>\n      <td>PF</td>\n      <td>PTS</td>\n      <td>1991</td>\n    </tr>\n    <tr>\n      <th>48</th>\n      <td>Mike Brown</td>\n      <td>C</td>\n      <td>27</td>\n      <td>UTA</td>\n      <td>82</td>\n      <td>2</td>\n      <td>17.0</td>\n      <td>1.6</td>\n      <td>3.5</td>\n      <td>.454</td>\n      <td>...</td>\n      <td>1.3</td>\n      <td>2.8</td>\n      <td>4.1</td>\n      <td>0.6</td>\n      <td>0.4</td>\n      <td>0.3</td>\n      <td>1.0</td>\n      <td>2.0</td>\n      <td>4.8</td>\n      <td>1991</td>\n    </tr>\n    <tr>\n      <th>49</th>\n      <td>Tony Brown</td>\n      <td>SG-SF</td>\n      <td>30</td>\n      <td>TOT</td>\n      <td>30</td>\n      <td>0</td>\n      <td>9.8</td>\n      <td>1.0</td>\n      <td>2.7</td>\n      <td>.375</td>\n      <td>...</td>\n      <td>0.8</td>\n      <td>0.6</td>\n      <td>1.4</td>\n      <td>0.5</td>\n      <td>0.1</td>\n      <td>0.0</td>\n      <td>0.5</td>\n      <td>1.6</td>\n      <td>2.8</td>\n      <td>1991</td>\n    </tr>\n  </tbody>\n</table>\n<p>50 rows × 30 columns</p>\n</div>"
     },
     "execution_count": 20,
     "metadata": {},
     "output_type": "execute_result"
    }
   ],
   "source": [
    "players.head(50)"
   ],
   "metadata": {
    "collapsed": false,
    "ExecuteTime": {
     "end_time": "2023-07-18T05:35:35.354781Z",
     "start_time": "2023-07-18T05:35:35.319963Z"
    }
   }
  },
  {
   "cell_type": "code",
   "execution_count": 21,
   "outputs": [],
   "source": [
    "players['Player'] = players[\"Player\"].str.replace('*', '', regex=False)"
   ],
   "metadata": {
    "collapsed": false,
    "ExecuteTime": {
     "end_time": "2023-07-18T05:38:19.990918Z",
     "start_time": "2023-07-18T05:38:19.981796Z"
    }
   }
  },
  {
   "cell_type": "code",
   "execution_count": 23,
   "outputs": [
    {
     "data": {
      "text/plain": "                Player    Pos  Age   Tm   G  GS    MP   FG   FGA    FG%  ...  \\\n0       Alaa Abdelnaby     PF   22  POR  43   0   6.7  1.3   2.7   .474  ...   \n1   Mahmoud Abdul-Rauf     PG   21  DEN  67  19  22.5  6.2  15.1   .413  ...   \n2           Mark Acres      C   28  ORL  68   0  19.3  1.6   3.1   .509  ...   \n3        Michael Adams     PG   28  DEN  66  66  35.5  8.5  21.5   .394  ...   \n4         Mark Aguirre     SF   31  DET  78  13  25.7  5.4  11.7   .462  ...   \n5          Danny Ainge     SG   31  POR  80   0  21.4  4.2   8.9   .472  ...   \n6          Mark Alarie     PF   27  WSB  42   1  14.0  2.4   5.4   .440  ...   \n7         Steve Alford     PG   26  DAL  34   0   6.9  1.7   3.4   .504  ...   \n8        Greg Anderson     PF   26  TOT  68   2  13.6  1.7   4.0   .430  ...   \n9        Greg Anderson     PF   26  MIL  26   0   9.5  1.0   2.8   .370  ...   \n10       Greg Anderson     PF   26  NJN   1   0  18.0  4.0   4.0  1.000  ...   \n11       Greg Anderson     PF   26  DEN  41   2  16.1  2.1   4.7   .440  ...   \n12       Nick Anderson     SG   23  ORL  70  42  28.2  5.7  12.2   .467  ...   \n13        Ron Anderson     SF   32  PHI  82  13  28.5  6.2  12.9   .485  ...   \n14     Willie Anderson     SG   24  SAS  75  75  34.6  6.0  13.2   .457  ...   \n15      Michael Ansley     SF   23  ORL  67   1  13.1  2.1   3.9   .548  ...   \n16      B.J. Armstrong     PG   23  CHI  82   0  21.1  3.7   7.7   .481  ...   \n17       Vincent Askew     SG   24  GSW   7   0  12.1  1.7   3.6   .480  ...   \n18        Keith Askins     SF   23  MIA  39   1   6.8  0.9   2.1   .420  ...   \n19         Miloš Babić     PF   22  CLE  12   0   4.3  0.5   1.6   .316  ...   \n20        Thurl Bailey     PF   29  UTA  82  22  30.3  4.9  10.6   .458  ...   \n21         Cedric Ball     PF   22  LAC   7   0   3.7  0.4   1.1   .375  ...   \n22       Ken Bannister     PF   30  LAC  47   3   7.2  0.9   1.7   .531  ...   \n23     Charles Barkley     SF   27  PHI  67  67  37.3  9.9  17.4   .570  ...   \n24         Dana Barros     PG   23  SEA  66   0  11.4  2.3   4.7   .495  ...   \n25         John Battle     SG   28  ATL  79   2  23.6  5.0  10.9   .461  ...   \n26        Kenny Battle     SG   26  TOT  56   8  16.9  2.4   5.0   .472  ...   \n27        Kenny Battle     SG   26  PHO  16   4  16.4  2.4   5.4   .442  ...   \n28        Kenny Battle     SG   26  DEN  40   4  17.1  2.4   4.9   .485  ...   \n29     William Bedford      C   27  DET  60   4   9.4  1.8   4.0   .438  ...   \n30     Benoit Benjamin      C   26  TOT  70  65  31.9  5.5  11.1   .496  ...   \n31     Benoit Benjamin      C   26  LAC  39  38  34.3  5.9  11.9   .492  ...   \n32     Benoit Benjamin      C   26  SEA  31  27  29.0  5.1  10.1   .502  ...   \n33     Winston Bennett     SF   25  CLE  27  13  12.4  1.5   4.0   .374  ...   \n34          Larry Bird     SF   34  BOS  60  60  38.0  7.7  17.0   .454  ...   \n35    Rolando Blackman     SG   31  DAL  80  80  37.1  7.9  16.5   .482  ...   \n36        Lance Blanks     SG   24  DET  38   0   5.6  0.7   1.6   .426  ...   \n37     Mookie Blaylock     PG   23  NJN  72  70  35.9  6.0  14.4   .416  ...   \n38       Muggsy Bogues     PG   26  CHH  81  46  28.4  3.0   6.5   .460  ...   \n39          Manute Bol      C   28  PHI  82   6  18.6  0.8   2.0   .396  ...   \n40      Anthony Bonner     PF   22  SAC  34   6  22.1  3.0   6.8   .448  ...   \n41           Sam Bowie      C   29  NJN  62  51  30.9  5.1  11.7   .434  ...   \n42        Randy Breuer      C   30  MIN  73  44  20.6  2.7   6.0   .453  ...   \n43    Frank Brickowski     PF   31  MIL  75  73  25.5  5.0   9.4   .527  ...   \n44        Scott Brooks     PG   25  MIN  80   0  12.3  2.0   4.6   .430  ...   \n45        Chucky Brown     SF   22  CLE  74  51  20.1  3.6   6.8   .524  ...   \n46           Dee Brown     PG   22  BOS  82   5  23.7  3.5   7.5   .464  ...   \n47              Player    Pos  Age   Tm   G  GS    MP   FG   FGA    FG%  ...   \n48          Mike Brown      C   27  UTA  82   2  17.0  1.6   3.5   .454  ...   \n49          Tony Brown  SG-SF   30  TOT  30   0   9.8  1.0   2.7   .375  ...   \n\n    ORB  DRB   TRB   AST  STL  BLK  TOV   PF   PTS  Year  \n0   0.6  1.4   2.1   0.3  0.1  0.3  0.5  0.9   3.1  1991  \n1   0.5  1.3   1.8   3.1  0.8  0.1  1.6  2.2  14.1  1991  \n2   2.1  3.2   5.3   0.4  0.4  0.4  0.6  3.2   4.2  1991  \n3   0.9  3.0   3.9  10.5  2.2  0.1  3.6  2.5  26.5  1991  \n4   1.7  3.1   4.8   1.8  0.6  0.3  1.6  2.7  14.2  1991  \n5   0.6  2.0   2.6   3.6  0.8  0.2  1.3  2.4  11.1  1991  \n6   1.0  1.8   2.8   1.1  0.4  0.2  1.0  2.1   5.8  1991  \n7   0.3  0.4   0.7   0.6  0.2  0.0  0.5  0.3   4.4  1991  \n8   1.4  3.3   4.7   0.2  0.5  0.7  1.2  2.1   4.3  1991  \n9   1.0  1.9   2.9   0.1  0.3  0.3  0.8  1.1   2.7  1991  \n10  4.0  2.0   6.0   1.0  2.0  0.0  1.0  4.0   8.0  1991  \n11  1.6  4.1   5.8   0.3  0.6  0.9  1.5  2.6   5.2  1991  \n12  1.3  4.2   5.5   1.5  1.1  0.6  1.6  2.1  14.1  1991  \n13  1.3  3.2   4.5   1.4  0.8  0.2  1.2  2.0  14.6  1991  \n14  0.9  3.8   4.7   4.8  1.1  0.6  2.2  3.0  14.4  1991  \n15  1.8  2.0   3.8   0.4  0.4  0.1  0.5  1.9   5.7  1991  \n16  0.3  1.5   1.8   3.7  0.9  0.0  1.3  1.4   8.8  1991  \n17  1.0  0.6   1.6   1.9  0.3  0.0  0.9  3.0   4.7  1991  \n18  0.8  1.0   1.7   0.5  0.4  0.3  0.3  1.2   2.2  1991  \n19  0.5  0.3   0.8   0.3  0.1  0.1  0.4  0.6   1.6  1991  \n20  1.2  3.7   5.0   1.5  0.6  1.1  1.6  2.0  12.4  1991  \n21  0.7  0.9   1.6   0.0  0.0  0.3  0.3  0.7   1.1  1991  \n22  0.7  1.3   2.0   0.2  0.1  0.1  0.5  1.6   2.4  1991  \n23  3.9  6.3  10.1   4.2  1.6  0.5  3.1  2.6  27.6  1991  \n24  0.3  0.8   1.1   1.7  0.3  0.0  0.8  0.6   6.3  1991  \n25  0.4  1.6   2.0   2.7  0.6  0.1  1.4  1.8  13.6  1991  \n26  1.5  1.7   3.1   1.1  1.1  0.3  0.9  1.9   6.1  1991  \n27  1.3  2.0   3.3   0.9  1.2  0.4  1.1  1.6   6.0  1991  \n28  1.6  1.5   3.1   1.2  1.0  0.3  0.9  2.1   6.1  1991  \n29  0.9  1.3   2.2   0.5  0.0  0.6  0.5  1.3   4.5  1991  \n30  2.2  8.1  10.3   1.7  0.8  2.1  3.4  2.6  14.0  1991  \n31  2.4  9.6  12.0   1.9  0.7  2.3  3.5  2.8  14.9  1991  \n32  2.0  6.2   8.2   1.5  0.9  1.7  3.1  2.4  12.9  1991  \n33  1.1  1.3   2.4   1.0  0.3  0.1  0.7  1.9   4.3  1991  \n34  0.9  7.6   8.5   7.2  1.8  1.0  3.1  2.0  19.4  1991  \n35  0.8  2.4   3.2   3.8  0.9  0.2  2.0  1.9  19.9  1991  \n36  0.1  0.4   0.5   0.7  0.2  0.1  0.5  0.9   1.7  1991  \n37  0.9  2.5   3.5   6.1  2.3  0.6  2.9  2.5  14.1  1991  \n38  0.7  2.0   2.7   8.3  1.7  0.0  1.5  2.0   7.0  1991  \n39  0.8  3.5   4.3   0.2  0.2  3.0  0.8  2.2   1.9  1991  \n40  1.7  3.0   4.7   1.4  1.1  0.1  1.2  1.8   7.4  1991  \n41  2.8  4.9   7.7   2.4  0.7  1.5  2.3  2.8  12.9  1991  \n42  1.6  3.2   4.7   1.0  0.5  1.1  0.9  1.8   5.9  1991  \n43  1.7  4.0   5.7   1.7  1.1  0.6  2.1  3.4  12.6  1991  \n44  0.4  0.6   0.9   2.6  0.7  0.1  0.6  1.5   5.3  1991  \n45  1.1  1.8   2.9   1.1  0.4  0.3  1.3  1.8   8.5  1991  \n46  0.5  1.7   2.2   4.2  1.0  0.2  1.7  2.0   8.7  1991  \n47  ORB  DRB   TRB   AST  STL  BLK  TOV   PF   PTS  1991  \n48  1.3  2.8   4.1   0.6  0.4  0.3  1.0  2.0   4.8  1991  \n49  0.8  0.6   1.4   0.5  0.1  0.0  0.5  1.6   2.8  1991  \n\n[50 rows x 30 columns]",
      "text/html": "<div>\n<style scoped>\n    .dataframe tbody tr th:only-of-type {\n        vertical-align: middle;\n    }\n\n    .dataframe tbody tr th {\n        vertical-align: top;\n    }\n\n    .dataframe thead th {\n        text-align: right;\n    }\n</style>\n<table border=\"1\" class=\"dataframe\">\n  <thead>\n    <tr style=\"text-align: right;\">\n      <th></th>\n      <th>Player</th>\n      <th>Pos</th>\n      <th>Age</th>\n      <th>Tm</th>\n      <th>G</th>\n      <th>GS</th>\n      <th>MP</th>\n      <th>FG</th>\n      <th>FGA</th>\n      <th>FG%</th>\n      <th>...</th>\n      <th>ORB</th>\n      <th>DRB</th>\n      <th>TRB</th>\n      <th>AST</th>\n      <th>STL</th>\n      <th>BLK</th>\n      <th>TOV</th>\n      <th>PF</th>\n      <th>PTS</th>\n      <th>Year</th>\n    </tr>\n  </thead>\n  <tbody>\n    <tr>\n      <th>0</th>\n      <td>Alaa Abdelnaby</td>\n      <td>PF</td>\n      <td>22</td>\n      <td>POR</td>\n      <td>43</td>\n      <td>0</td>\n      <td>6.7</td>\n      <td>1.3</td>\n      <td>2.7</td>\n      <td>.474</td>\n      <td>...</td>\n      <td>0.6</td>\n      <td>1.4</td>\n      <td>2.1</td>\n      <td>0.3</td>\n      <td>0.1</td>\n      <td>0.3</td>\n      <td>0.5</td>\n      <td>0.9</td>\n      <td>3.1</td>\n      <td>1991</td>\n    </tr>\n    <tr>\n      <th>1</th>\n      <td>Mahmoud Abdul-Rauf</td>\n      <td>PG</td>\n      <td>21</td>\n      <td>DEN</td>\n      <td>67</td>\n      <td>19</td>\n      <td>22.5</td>\n      <td>6.2</td>\n      <td>15.1</td>\n      <td>.413</td>\n      <td>...</td>\n      <td>0.5</td>\n      <td>1.3</td>\n      <td>1.8</td>\n      <td>3.1</td>\n      <td>0.8</td>\n      <td>0.1</td>\n      <td>1.6</td>\n      <td>2.2</td>\n      <td>14.1</td>\n      <td>1991</td>\n    </tr>\n    <tr>\n      <th>2</th>\n      <td>Mark Acres</td>\n      <td>C</td>\n      <td>28</td>\n      <td>ORL</td>\n      <td>68</td>\n      <td>0</td>\n      <td>19.3</td>\n      <td>1.6</td>\n      <td>3.1</td>\n      <td>.509</td>\n      <td>...</td>\n      <td>2.1</td>\n      <td>3.2</td>\n      <td>5.3</td>\n      <td>0.4</td>\n      <td>0.4</td>\n      <td>0.4</td>\n      <td>0.6</td>\n      <td>3.2</td>\n      <td>4.2</td>\n      <td>1991</td>\n    </tr>\n    <tr>\n      <th>3</th>\n      <td>Michael Adams</td>\n      <td>PG</td>\n      <td>28</td>\n      <td>DEN</td>\n      <td>66</td>\n      <td>66</td>\n      <td>35.5</td>\n      <td>8.5</td>\n      <td>21.5</td>\n      <td>.394</td>\n      <td>...</td>\n      <td>0.9</td>\n      <td>3.0</td>\n      <td>3.9</td>\n      <td>10.5</td>\n      <td>2.2</td>\n      <td>0.1</td>\n      <td>3.6</td>\n      <td>2.5</td>\n      <td>26.5</td>\n      <td>1991</td>\n    </tr>\n    <tr>\n      <th>4</th>\n      <td>Mark Aguirre</td>\n      <td>SF</td>\n      <td>31</td>\n      <td>DET</td>\n      <td>78</td>\n      <td>13</td>\n      <td>25.7</td>\n      <td>5.4</td>\n      <td>11.7</td>\n      <td>.462</td>\n      <td>...</td>\n      <td>1.7</td>\n      <td>3.1</td>\n      <td>4.8</td>\n      <td>1.8</td>\n      <td>0.6</td>\n      <td>0.3</td>\n      <td>1.6</td>\n      <td>2.7</td>\n      <td>14.2</td>\n      <td>1991</td>\n    </tr>\n    <tr>\n      <th>5</th>\n      <td>Danny Ainge</td>\n      <td>SG</td>\n      <td>31</td>\n      <td>POR</td>\n      <td>80</td>\n      <td>0</td>\n      <td>21.4</td>\n      <td>4.2</td>\n      <td>8.9</td>\n      <td>.472</td>\n      <td>...</td>\n      <td>0.6</td>\n      <td>2.0</td>\n      <td>2.6</td>\n      <td>3.6</td>\n      <td>0.8</td>\n      <td>0.2</td>\n      <td>1.3</td>\n      <td>2.4</td>\n      <td>11.1</td>\n      <td>1991</td>\n    </tr>\n    <tr>\n      <th>6</th>\n      <td>Mark Alarie</td>\n      <td>PF</td>\n      <td>27</td>\n      <td>WSB</td>\n      <td>42</td>\n      <td>1</td>\n      <td>14.0</td>\n      <td>2.4</td>\n      <td>5.4</td>\n      <td>.440</td>\n      <td>...</td>\n      <td>1.0</td>\n      <td>1.8</td>\n      <td>2.8</td>\n      <td>1.1</td>\n      <td>0.4</td>\n      <td>0.2</td>\n      <td>1.0</td>\n      <td>2.1</td>\n      <td>5.8</td>\n      <td>1991</td>\n    </tr>\n    <tr>\n      <th>7</th>\n      <td>Steve Alford</td>\n      <td>PG</td>\n      <td>26</td>\n      <td>DAL</td>\n      <td>34</td>\n      <td>0</td>\n      <td>6.9</td>\n      <td>1.7</td>\n      <td>3.4</td>\n      <td>.504</td>\n      <td>...</td>\n      <td>0.3</td>\n      <td>0.4</td>\n      <td>0.7</td>\n      <td>0.6</td>\n      <td>0.2</td>\n      <td>0.0</td>\n      <td>0.5</td>\n      <td>0.3</td>\n      <td>4.4</td>\n      <td>1991</td>\n    </tr>\n    <tr>\n      <th>8</th>\n      <td>Greg Anderson</td>\n      <td>PF</td>\n      <td>26</td>\n      <td>TOT</td>\n      <td>68</td>\n      <td>2</td>\n      <td>13.6</td>\n      <td>1.7</td>\n      <td>4.0</td>\n      <td>.430</td>\n      <td>...</td>\n      <td>1.4</td>\n      <td>3.3</td>\n      <td>4.7</td>\n      <td>0.2</td>\n      <td>0.5</td>\n      <td>0.7</td>\n      <td>1.2</td>\n      <td>2.1</td>\n      <td>4.3</td>\n      <td>1991</td>\n    </tr>\n    <tr>\n      <th>9</th>\n      <td>Greg Anderson</td>\n      <td>PF</td>\n      <td>26</td>\n      <td>MIL</td>\n      <td>26</td>\n      <td>0</td>\n      <td>9.5</td>\n      <td>1.0</td>\n      <td>2.8</td>\n      <td>.370</td>\n      <td>...</td>\n      <td>1.0</td>\n      <td>1.9</td>\n      <td>2.9</td>\n      <td>0.1</td>\n      <td>0.3</td>\n      <td>0.3</td>\n      <td>0.8</td>\n      <td>1.1</td>\n      <td>2.7</td>\n      <td>1991</td>\n    </tr>\n    <tr>\n      <th>10</th>\n      <td>Greg Anderson</td>\n      <td>PF</td>\n      <td>26</td>\n      <td>NJN</td>\n      <td>1</td>\n      <td>0</td>\n      <td>18.0</td>\n      <td>4.0</td>\n      <td>4.0</td>\n      <td>1.000</td>\n      <td>...</td>\n      <td>4.0</td>\n      <td>2.0</td>\n      <td>6.0</td>\n      <td>1.0</td>\n      <td>2.0</td>\n      <td>0.0</td>\n      <td>1.0</td>\n      <td>4.0</td>\n      <td>8.0</td>\n      <td>1991</td>\n    </tr>\n    <tr>\n      <th>11</th>\n      <td>Greg Anderson</td>\n      <td>PF</td>\n      <td>26</td>\n      <td>DEN</td>\n      <td>41</td>\n      <td>2</td>\n      <td>16.1</td>\n      <td>2.1</td>\n      <td>4.7</td>\n      <td>.440</td>\n      <td>...</td>\n      <td>1.6</td>\n      <td>4.1</td>\n      <td>5.8</td>\n      <td>0.3</td>\n      <td>0.6</td>\n      <td>0.9</td>\n      <td>1.5</td>\n      <td>2.6</td>\n      <td>5.2</td>\n      <td>1991</td>\n    </tr>\n    <tr>\n      <th>12</th>\n      <td>Nick Anderson</td>\n      <td>SG</td>\n      <td>23</td>\n      <td>ORL</td>\n      <td>70</td>\n      <td>42</td>\n      <td>28.2</td>\n      <td>5.7</td>\n      <td>12.2</td>\n      <td>.467</td>\n      <td>...</td>\n      <td>1.3</td>\n      <td>4.2</td>\n      <td>5.5</td>\n      <td>1.5</td>\n      <td>1.1</td>\n      <td>0.6</td>\n      <td>1.6</td>\n      <td>2.1</td>\n      <td>14.1</td>\n      <td>1991</td>\n    </tr>\n    <tr>\n      <th>13</th>\n      <td>Ron Anderson</td>\n      <td>SF</td>\n      <td>32</td>\n      <td>PHI</td>\n      <td>82</td>\n      <td>13</td>\n      <td>28.5</td>\n      <td>6.2</td>\n      <td>12.9</td>\n      <td>.485</td>\n      <td>...</td>\n      <td>1.3</td>\n      <td>3.2</td>\n      <td>4.5</td>\n      <td>1.4</td>\n      <td>0.8</td>\n      <td>0.2</td>\n      <td>1.2</td>\n      <td>2.0</td>\n      <td>14.6</td>\n      <td>1991</td>\n    </tr>\n    <tr>\n      <th>14</th>\n      <td>Willie Anderson</td>\n      <td>SG</td>\n      <td>24</td>\n      <td>SAS</td>\n      <td>75</td>\n      <td>75</td>\n      <td>34.6</td>\n      <td>6.0</td>\n      <td>13.2</td>\n      <td>.457</td>\n      <td>...</td>\n      <td>0.9</td>\n      <td>3.8</td>\n      <td>4.7</td>\n      <td>4.8</td>\n      <td>1.1</td>\n      <td>0.6</td>\n      <td>2.2</td>\n      <td>3.0</td>\n      <td>14.4</td>\n      <td>1991</td>\n    </tr>\n    <tr>\n      <th>15</th>\n      <td>Michael Ansley</td>\n      <td>SF</td>\n      <td>23</td>\n      <td>ORL</td>\n      <td>67</td>\n      <td>1</td>\n      <td>13.1</td>\n      <td>2.1</td>\n      <td>3.9</td>\n      <td>.548</td>\n      <td>...</td>\n      <td>1.8</td>\n      <td>2.0</td>\n      <td>3.8</td>\n      <td>0.4</td>\n      <td>0.4</td>\n      <td>0.1</td>\n      <td>0.5</td>\n      <td>1.9</td>\n      <td>5.7</td>\n      <td>1991</td>\n    </tr>\n    <tr>\n      <th>16</th>\n      <td>B.J. Armstrong</td>\n      <td>PG</td>\n      <td>23</td>\n      <td>CHI</td>\n      <td>82</td>\n      <td>0</td>\n      <td>21.1</td>\n      <td>3.7</td>\n      <td>7.7</td>\n      <td>.481</td>\n      <td>...</td>\n      <td>0.3</td>\n      <td>1.5</td>\n      <td>1.8</td>\n      <td>3.7</td>\n      <td>0.9</td>\n      <td>0.0</td>\n      <td>1.3</td>\n      <td>1.4</td>\n      <td>8.8</td>\n      <td>1991</td>\n    </tr>\n    <tr>\n      <th>17</th>\n      <td>Vincent Askew</td>\n      <td>SG</td>\n      <td>24</td>\n      <td>GSW</td>\n      <td>7</td>\n      <td>0</td>\n      <td>12.1</td>\n      <td>1.7</td>\n      <td>3.6</td>\n      <td>.480</td>\n      <td>...</td>\n      <td>1.0</td>\n      <td>0.6</td>\n      <td>1.6</td>\n      <td>1.9</td>\n      <td>0.3</td>\n      <td>0.0</td>\n      <td>0.9</td>\n      <td>3.0</td>\n      <td>4.7</td>\n      <td>1991</td>\n    </tr>\n    <tr>\n      <th>18</th>\n      <td>Keith Askins</td>\n      <td>SF</td>\n      <td>23</td>\n      <td>MIA</td>\n      <td>39</td>\n      <td>1</td>\n      <td>6.8</td>\n      <td>0.9</td>\n      <td>2.1</td>\n      <td>.420</td>\n      <td>...</td>\n      <td>0.8</td>\n      <td>1.0</td>\n      <td>1.7</td>\n      <td>0.5</td>\n      <td>0.4</td>\n      <td>0.3</td>\n      <td>0.3</td>\n      <td>1.2</td>\n      <td>2.2</td>\n      <td>1991</td>\n    </tr>\n    <tr>\n      <th>19</th>\n      <td>Miloš Babić</td>\n      <td>PF</td>\n      <td>22</td>\n      <td>CLE</td>\n      <td>12</td>\n      <td>0</td>\n      <td>4.3</td>\n      <td>0.5</td>\n      <td>1.6</td>\n      <td>.316</td>\n      <td>...</td>\n      <td>0.5</td>\n      <td>0.3</td>\n      <td>0.8</td>\n      <td>0.3</td>\n      <td>0.1</td>\n      <td>0.1</td>\n      <td>0.4</td>\n      <td>0.6</td>\n      <td>1.6</td>\n      <td>1991</td>\n    </tr>\n    <tr>\n      <th>20</th>\n      <td>Thurl Bailey</td>\n      <td>PF</td>\n      <td>29</td>\n      <td>UTA</td>\n      <td>82</td>\n      <td>22</td>\n      <td>30.3</td>\n      <td>4.9</td>\n      <td>10.6</td>\n      <td>.458</td>\n      <td>...</td>\n      <td>1.2</td>\n      <td>3.7</td>\n      <td>5.0</td>\n      <td>1.5</td>\n      <td>0.6</td>\n      <td>1.1</td>\n      <td>1.6</td>\n      <td>2.0</td>\n      <td>12.4</td>\n      <td>1991</td>\n    </tr>\n    <tr>\n      <th>21</th>\n      <td>Cedric Ball</td>\n      <td>PF</td>\n      <td>22</td>\n      <td>LAC</td>\n      <td>7</td>\n      <td>0</td>\n      <td>3.7</td>\n      <td>0.4</td>\n      <td>1.1</td>\n      <td>.375</td>\n      <td>...</td>\n      <td>0.7</td>\n      <td>0.9</td>\n      <td>1.6</td>\n      <td>0.0</td>\n      <td>0.0</td>\n      <td>0.3</td>\n      <td>0.3</td>\n      <td>0.7</td>\n      <td>1.1</td>\n      <td>1991</td>\n    </tr>\n    <tr>\n      <th>22</th>\n      <td>Ken Bannister</td>\n      <td>PF</td>\n      <td>30</td>\n      <td>LAC</td>\n      <td>47</td>\n      <td>3</td>\n      <td>7.2</td>\n      <td>0.9</td>\n      <td>1.7</td>\n      <td>.531</td>\n      <td>...</td>\n      <td>0.7</td>\n      <td>1.3</td>\n      <td>2.0</td>\n      <td>0.2</td>\n      <td>0.1</td>\n      <td>0.1</td>\n      <td>0.5</td>\n      <td>1.6</td>\n      <td>2.4</td>\n      <td>1991</td>\n    </tr>\n    <tr>\n      <th>23</th>\n      <td>Charles Barkley</td>\n      <td>SF</td>\n      <td>27</td>\n      <td>PHI</td>\n      <td>67</td>\n      <td>67</td>\n      <td>37.3</td>\n      <td>9.9</td>\n      <td>17.4</td>\n      <td>.570</td>\n      <td>...</td>\n      <td>3.9</td>\n      <td>6.3</td>\n      <td>10.1</td>\n      <td>4.2</td>\n      <td>1.6</td>\n      <td>0.5</td>\n      <td>3.1</td>\n      <td>2.6</td>\n      <td>27.6</td>\n      <td>1991</td>\n    </tr>\n    <tr>\n      <th>24</th>\n      <td>Dana Barros</td>\n      <td>PG</td>\n      <td>23</td>\n      <td>SEA</td>\n      <td>66</td>\n      <td>0</td>\n      <td>11.4</td>\n      <td>2.3</td>\n      <td>4.7</td>\n      <td>.495</td>\n      <td>...</td>\n      <td>0.3</td>\n      <td>0.8</td>\n      <td>1.1</td>\n      <td>1.7</td>\n      <td>0.3</td>\n      <td>0.0</td>\n      <td>0.8</td>\n      <td>0.6</td>\n      <td>6.3</td>\n      <td>1991</td>\n    </tr>\n    <tr>\n      <th>25</th>\n      <td>John Battle</td>\n      <td>SG</td>\n      <td>28</td>\n      <td>ATL</td>\n      <td>79</td>\n      <td>2</td>\n      <td>23.6</td>\n      <td>5.0</td>\n      <td>10.9</td>\n      <td>.461</td>\n      <td>...</td>\n      <td>0.4</td>\n      <td>1.6</td>\n      <td>2.0</td>\n      <td>2.7</td>\n      <td>0.6</td>\n      <td>0.1</td>\n      <td>1.4</td>\n      <td>1.8</td>\n      <td>13.6</td>\n      <td>1991</td>\n    </tr>\n    <tr>\n      <th>26</th>\n      <td>Kenny Battle</td>\n      <td>SG</td>\n      <td>26</td>\n      <td>TOT</td>\n      <td>56</td>\n      <td>8</td>\n      <td>16.9</td>\n      <td>2.4</td>\n      <td>5.0</td>\n      <td>.472</td>\n      <td>...</td>\n      <td>1.5</td>\n      <td>1.7</td>\n      <td>3.1</td>\n      <td>1.1</td>\n      <td>1.1</td>\n      <td>0.3</td>\n      <td>0.9</td>\n      <td>1.9</td>\n      <td>6.1</td>\n      <td>1991</td>\n    </tr>\n    <tr>\n      <th>27</th>\n      <td>Kenny Battle</td>\n      <td>SG</td>\n      <td>26</td>\n      <td>PHO</td>\n      <td>16</td>\n      <td>4</td>\n      <td>16.4</td>\n      <td>2.4</td>\n      <td>5.4</td>\n      <td>.442</td>\n      <td>...</td>\n      <td>1.3</td>\n      <td>2.0</td>\n      <td>3.3</td>\n      <td>0.9</td>\n      <td>1.2</td>\n      <td>0.4</td>\n      <td>1.1</td>\n      <td>1.6</td>\n      <td>6.0</td>\n      <td>1991</td>\n    </tr>\n    <tr>\n      <th>28</th>\n      <td>Kenny Battle</td>\n      <td>SG</td>\n      <td>26</td>\n      <td>DEN</td>\n      <td>40</td>\n      <td>4</td>\n      <td>17.1</td>\n      <td>2.4</td>\n      <td>4.9</td>\n      <td>.485</td>\n      <td>...</td>\n      <td>1.6</td>\n      <td>1.5</td>\n      <td>3.1</td>\n      <td>1.2</td>\n      <td>1.0</td>\n      <td>0.3</td>\n      <td>0.9</td>\n      <td>2.1</td>\n      <td>6.1</td>\n      <td>1991</td>\n    </tr>\n    <tr>\n      <th>29</th>\n      <td>William Bedford</td>\n      <td>C</td>\n      <td>27</td>\n      <td>DET</td>\n      <td>60</td>\n      <td>4</td>\n      <td>9.4</td>\n      <td>1.8</td>\n      <td>4.0</td>\n      <td>.438</td>\n      <td>...</td>\n      <td>0.9</td>\n      <td>1.3</td>\n      <td>2.2</td>\n      <td>0.5</td>\n      <td>0.0</td>\n      <td>0.6</td>\n      <td>0.5</td>\n      <td>1.3</td>\n      <td>4.5</td>\n      <td>1991</td>\n    </tr>\n    <tr>\n      <th>30</th>\n      <td>Benoit Benjamin</td>\n      <td>C</td>\n      <td>26</td>\n      <td>TOT</td>\n      <td>70</td>\n      <td>65</td>\n      <td>31.9</td>\n      <td>5.5</td>\n      <td>11.1</td>\n      <td>.496</td>\n      <td>...</td>\n      <td>2.2</td>\n      <td>8.1</td>\n      <td>10.3</td>\n      <td>1.7</td>\n      <td>0.8</td>\n      <td>2.1</td>\n      <td>3.4</td>\n      <td>2.6</td>\n      <td>14.0</td>\n      <td>1991</td>\n    </tr>\n    <tr>\n      <th>31</th>\n      <td>Benoit Benjamin</td>\n      <td>C</td>\n      <td>26</td>\n      <td>LAC</td>\n      <td>39</td>\n      <td>38</td>\n      <td>34.3</td>\n      <td>5.9</td>\n      <td>11.9</td>\n      <td>.492</td>\n      <td>...</td>\n      <td>2.4</td>\n      <td>9.6</td>\n      <td>12.0</td>\n      <td>1.9</td>\n      <td>0.7</td>\n      <td>2.3</td>\n      <td>3.5</td>\n      <td>2.8</td>\n      <td>14.9</td>\n      <td>1991</td>\n    </tr>\n    <tr>\n      <th>32</th>\n      <td>Benoit Benjamin</td>\n      <td>C</td>\n      <td>26</td>\n      <td>SEA</td>\n      <td>31</td>\n      <td>27</td>\n      <td>29.0</td>\n      <td>5.1</td>\n      <td>10.1</td>\n      <td>.502</td>\n      <td>...</td>\n      <td>2.0</td>\n      <td>6.2</td>\n      <td>8.2</td>\n      <td>1.5</td>\n      <td>0.9</td>\n      <td>1.7</td>\n      <td>3.1</td>\n      <td>2.4</td>\n      <td>12.9</td>\n      <td>1991</td>\n    </tr>\n    <tr>\n      <th>33</th>\n      <td>Winston Bennett</td>\n      <td>SF</td>\n      <td>25</td>\n      <td>CLE</td>\n      <td>27</td>\n      <td>13</td>\n      <td>12.4</td>\n      <td>1.5</td>\n      <td>4.0</td>\n      <td>.374</td>\n      <td>...</td>\n      <td>1.1</td>\n      <td>1.3</td>\n      <td>2.4</td>\n      <td>1.0</td>\n      <td>0.3</td>\n      <td>0.1</td>\n      <td>0.7</td>\n      <td>1.9</td>\n      <td>4.3</td>\n      <td>1991</td>\n    </tr>\n    <tr>\n      <th>34</th>\n      <td>Larry Bird</td>\n      <td>SF</td>\n      <td>34</td>\n      <td>BOS</td>\n      <td>60</td>\n      <td>60</td>\n      <td>38.0</td>\n      <td>7.7</td>\n      <td>17.0</td>\n      <td>.454</td>\n      <td>...</td>\n      <td>0.9</td>\n      <td>7.6</td>\n      <td>8.5</td>\n      <td>7.2</td>\n      <td>1.8</td>\n      <td>1.0</td>\n      <td>3.1</td>\n      <td>2.0</td>\n      <td>19.4</td>\n      <td>1991</td>\n    </tr>\n    <tr>\n      <th>35</th>\n      <td>Rolando Blackman</td>\n      <td>SG</td>\n      <td>31</td>\n      <td>DAL</td>\n      <td>80</td>\n      <td>80</td>\n      <td>37.1</td>\n      <td>7.9</td>\n      <td>16.5</td>\n      <td>.482</td>\n      <td>...</td>\n      <td>0.8</td>\n      <td>2.4</td>\n      <td>3.2</td>\n      <td>3.8</td>\n      <td>0.9</td>\n      <td>0.2</td>\n      <td>2.0</td>\n      <td>1.9</td>\n      <td>19.9</td>\n      <td>1991</td>\n    </tr>\n    <tr>\n      <th>36</th>\n      <td>Lance Blanks</td>\n      <td>SG</td>\n      <td>24</td>\n      <td>DET</td>\n      <td>38</td>\n      <td>0</td>\n      <td>5.6</td>\n      <td>0.7</td>\n      <td>1.6</td>\n      <td>.426</td>\n      <td>...</td>\n      <td>0.1</td>\n      <td>0.4</td>\n      <td>0.5</td>\n      <td>0.7</td>\n      <td>0.2</td>\n      <td>0.1</td>\n      <td>0.5</td>\n      <td>0.9</td>\n      <td>1.7</td>\n      <td>1991</td>\n    </tr>\n    <tr>\n      <th>37</th>\n      <td>Mookie Blaylock</td>\n      <td>PG</td>\n      <td>23</td>\n      <td>NJN</td>\n      <td>72</td>\n      <td>70</td>\n      <td>35.9</td>\n      <td>6.0</td>\n      <td>14.4</td>\n      <td>.416</td>\n      <td>...</td>\n      <td>0.9</td>\n      <td>2.5</td>\n      <td>3.5</td>\n      <td>6.1</td>\n      <td>2.3</td>\n      <td>0.6</td>\n      <td>2.9</td>\n      <td>2.5</td>\n      <td>14.1</td>\n      <td>1991</td>\n    </tr>\n    <tr>\n      <th>38</th>\n      <td>Muggsy Bogues</td>\n      <td>PG</td>\n      <td>26</td>\n      <td>CHH</td>\n      <td>81</td>\n      <td>46</td>\n      <td>28.4</td>\n      <td>3.0</td>\n      <td>6.5</td>\n      <td>.460</td>\n      <td>...</td>\n      <td>0.7</td>\n      <td>2.0</td>\n      <td>2.7</td>\n      <td>8.3</td>\n      <td>1.7</td>\n      <td>0.0</td>\n      <td>1.5</td>\n      <td>2.0</td>\n      <td>7.0</td>\n      <td>1991</td>\n    </tr>\n    <tr>\n      <th>39</th>\n      <td>Manute Bol</td>\n      <td>C</td>\n      <td>28</td>\n      <td>PHI</td>\n      <td>82</td>\n      <td>6</td>\n      <td>18.6</td>\n      <td>0.8</td>\n      <td>2.0</td>\n      <td>.396</td>\n      <td>...</td>\n      <td>0.8</td>\n      <td>3.5</td>\n      <td>4.3</td>\n      <td>0.2</td>\n      <td>0.2</td>\n      <td>3.0</td>\n      <td>0.8</td>\n      <td>2.2</td>\n      <td>1.9</td>\n      <td>1991</td>\n    </tr>\n    <tr>\n      <th>40</th>\n      <td>Anthony Bonner</td>\n      <td>PF</td>\n      <td>22</td>\n      <td>SAC</td>\n      <td>34</td>\n      <td>6</td>\n      <td>22.1</td>\n      <td>3.0</td>\n      <td>6.8</td>\n      <td>.448</td>\n      <td>...</td>\n      <td>1.7</td>\n      <td>3.0</td>\n      <td>4.7</td>\n      <td>1.4</td>\n      <td>1.1</td>\n      <td>0.1</td>\n      <td>1.2</td>\n      <td>1.8</td>\n      <td>7.4</td>\n      <td>1991</td>\n    </tr>\n    <tr>\n      <th>41</th>\n      <td>Sam Bowie</td>\n      <td>C</td>\n      <td>29</td>\n      <td>NJN</td>\n      <td>62</td>\n      <td>51</td>\n      <td>30.9</td>\n      <td>5.1</td>\n      <td>11.7</td>\n      <td>.434</td>\n      <td>...</td>\n      <td>2.8</td>\n      <td>4.9</td>\n      <td>7.7</td>\n      <td>2.4</td>\n      <td>0.7</td>\n      <td>1.5</td>\n      <td>2.3</td>\n      <td>2.8</td>\n      <td>12.9</td>\n      <td>1991</td>\n    </tr>\n    <tr>\n      <th>42</th>\n      <td>Randy Breuer</td>\n      <td>C</td>\n      <td>30</td>\n      <td>MIN</td>\n      <td>73</td>\n      <td>44</td>\n      <td>20.6</td>\n      <td>2.7</td>\n      <td>6.0</td>\n      <td>.453</td>\n      <td>...</td>\n      <td>1.6</td>\n      <td>3.2</td>\n      <td>4.7</td>\n      <td>1.0</td>\n      <td>0.5</td>\n      <td>1.1</td>\n      <td>0.9</td>\n      <td>1.8</td>\n      <td>5.9</td>\n      <td>1991</td>\n    </tr>\n    <tr>\n      <th>43</th>\n      <td>Frank Brickowski</td>\n      <td>PF</td>\n      <td>31</td>\n      <td>MIL</td>\n      <td>75</td>\n      <td>73</td>\n      <td>25.5</td>\n      <td>5.0</td>\n      <td>9.4</td>\n      <td>.527</td>\n      <td>...</td>\n      <td>1.7</td>\n      <td>4.0</td>\n      <td>5.7</td>\n      <td>1.7</td>\n      <td>1.1</td>\n      <td>0.6</td>\n      <td>2.1</td>\n      <td>3.4</td>\n      <td>12.6</td>\n      <td>1991</td>\n    </tr>\n    <tr>\n      <th>44</th>\n      <td>Scott Brooks</td>\n      <td>PG</td>\n      <td>25</td>\n      <td>MIN</td>\n      <td>80</td>\n      <td>0</td>\n      <td>12.3</td>\n      <td>2.0</td>\n      <td>4.6</td>\n      <td>.430</td>\n      <td>...</td>\n      <td>0.4</td>\n      <td>0.6</td>\n      <td>0.9</td>\n      <td>2.6</td>\n      <td>0.7</td>\n      <td>0.1</td>\n      <td>0.6</td>\n      <td>1.5</td>\n      <td>5.3</td>\n      <td>1991</td>\n    </tr>\n    <tr>\n      <th>45</th>\n      <td>Chucky Brown</td>\n      <td>SF</td>\n      <td>22</td>\n      <td>CLE</td>\n      <td>74</td>\n      <td>51</td>\n      <td>20.1</td>\n      <td>3.6</td>\n      <td>6.8</td>\n      <td>.524</td>\n      <td>...</td>\n      <td>1.1</td>\n      <td>1.8</td>\n      <td>2.9</td>\n      <td>1.1</td>\n      <td>0.4</td>\n      <td>0.3</td>\n      <td>1.3</td>\n      <td>1.8</td>\n      <td>8.5</td>\n      <td>1991</td>\n    </tr>\n    <tr>\n      <th>46</th>\n      <td>Dee Brown</td>\n      <td>PG</td>\n      <td>22</td>\n      <td>BOS</td>\n      <td>82</td>\n      <td>5</td>\n      <td>23.7</td>\n      <td>3.5</td>\n      <td>7.5</td>\n      <td>.464</td>\n      <td>...</td>\n      <td>0.5</td>\n      <td>1.7</td>\n      <td>2.2</td>\n      <td>4.2</td>\n      <td>1.0</td>\n      <td>0.2</td>\n      <td>1.7</td>\n      <td>2.0</td>\n      <td>8.7</td>\n      <td>1991</td>\n    </tr>\n    <tr>\n      <th>47</th>\n      <td>Player</td>\n      <td>Pos</td>\n      <td>Age</td>\n      <td>Tm</td>\n      <td>G</td>\n      <td>GS</td>\n      <td>MP</td>\n      <td>FG</td>\n      <td>FGA</td>\n      <td>FG%</td>\n      <td>...</td>\n      <td>ORB</td>\n      <td>DRB</td>\n      <td>TRB</td>\n      <td>AST</td>\n      <td>STL</td>\n      <td>BLK</td>\n      <td>TOV</td>\n      <td>PF</td>\n      <td>PTS</td>\n      <td>1991</td>\n    </tr>\n    <tr>\n      <th>48</th>\n      <td>Mike Brown</td>\n      <td>C</td>\n      <td>27</td>\n      <td>UTA</td>\n      <td>82</td>\n      <td>2</td>\n      <td>17.0</td>\n      <td>1.6</td>\n      <td>3.5</td>\n      <td>.454</td>\n      <td>...</td>\n      <td>1.3</td>\n      <td>2.8</td>\n      <td>4.1</td>\n      <td>0.6</td>\n      <td>0.4</td>\n      <td>0.3</td>\n      <td>1.0</td>\n      <td>2.0</td>\n      <td>4.8</td>\n      <td>1991</td>\n    </tr>\n    <tr>\n      <th>49</th>\n      <td>Tony Brown</td>\n      <td>SG-SF</td>\n      <td>30</td>\n      <td>TOT</td>\n      <td>30</td>\n      <td>0</td>\n      <td>9.8</td>\n      <td>1.0</td>\n      <td>2.7</td>\n      <td>.375</td>\n      <td>...</td>\n      <td>0.8</td>\n      <td>0.6</td>\n      <td>1.4</td>\n      <td>0.5</td>\n      <td>0.1</td>\n      <td>0.0</td>\n      <td>0.5</td>\n      <td>1.6</td>\n      <td>2.8</td>\n      <td>1991</td>\n    </tr>\n  </tbody>\n</table>\n<p>50 rows × 30 columns</p>\n</div>"
     },
     "execution_count": 23,
     "metadata": {},
     "output_type": "execute_result"
    }
   ],
   "source": [
    "players.head(50)"
   ],
   "metadata": {
    "collapsed": false,
    "ExecuteTime": {
     "end_time": "2023-07-18T05:38:37.845711Z",
     "start_time": "2023-07-18T05:38:37.831198Z"
    }
   }
  },
  {
   "cell_type": "code",
   "execution_count": 35,
   "outputs": [
    {
     "data": {
      "text/plain": "(4, 30)"
     },
     "execution_count": 35,
     "metadata": {},
     "output_type": "execute_result"
    }
   ],
   "source": [
    "players.groupby(['Player', 'Year']).get_group(('Greg Anderson', 1991)).shape"
   ],
   "metadata": {
    "collapsed": false,
    "ExecuteTime": {
     "end_time": "2023-07-18T05:46:13.156112Z",
     "start_time": "2023-07-18T05:46:13.138692Z"
    }
   }
  },
  {
   "cell_type": "code",
   "execution_count": 36,
   "outputs": [
    {
     "data": {
      "text/plain": "(1, 30)"
     },
     "execution_count": 36,
     "metadata": {},
     "output_type": "execute_result"
    }
   ],
   "source": [
    "players.groupby(['Player', 'Year']).get_group(('Ron Anderson', 1991)).shape\n"
   ],
   "metadata": {
    "collapsed": false,
    "ExecuteTime": {
     "end_time": "2023-07-18T05:46:34.058439Z",
     "start_time": "2023-07-18T05:46:34.031602Z"
    }
   }
  },
  {
   "cell_type": "code",
   "execution_count": 37,
   "outputs": [],
   "source": [
    "def single_row(df):\n",
    "    if df.shape[0] == 1:\n",
    "        return df\n",
    "    else:\n",
    "        row = df[df['Tm'] == 'TOT']\n",
    "        row['Tm'] = df.iloc[-1,:]['Tm']\n",
    "        return row"
   ],
   "metadata": {
    "collapsed": false,
    "ExecuteTime": {
     "end_time": "2023-07-18T05:53:34.704761Z",
     "start_time": "2023-07-18T05:53:34.697573Z"
    }
   }
  },
  {
   "cell_type": "code",
   "execution_count": 40,
   "outputs": [],
   "source": [
    "players = players.groupby(['Player', 'Year']).apply(single_row)"
   ],
   "metadata": {
    "collapsed": false,
    "ExecuteTime": {
     "end_time": "2023-07-18T05:57:06.274968Z",
     "start_time": "2023-07-18T05:57:01.401072Z"
    }
   }
  },
  {
   "cell_type": "code",
   "execution_count": 41,
   "outputs": [
    {
     "data": {
      "text/plain": "                                 Player Pos Age   Tm   G  GS    MP   FG   FGA  \\\nPlayer        Year                                                              \nA.C. Green    1991 164       A.C. Green  PF  27  LAL  82  21  26.4  3.1   6.6   \n              1992 633       A.C. Green  PF  28  LAL  82  53  35.4  4.7   9.8   \n              1993 1092      A.C. Green  PF  29  LAL  82  55  34.4  4.6   8.6   \n              1994 1579      A.C. Green  PF  30  PHO  82  55  34.5  5.7  11.3   \n              1995 2067      A.C. Green  SF  31  PHO  82  52  32.8  3.8   7.5   \n              1996 2563      A.C. Green  SF  32  PHO  82  36  25.8  2.6   5.4   \n              1997 3138      A.C. Green  PF  33  DAL  83  73  30.0  2.8   5.8   \n              1998 3725      A.C. Green  PF  34  DAL  82  68  32.3  3.0   6.5   \n              1999 4283      A.C. Green  PF  35  DAL  50  35  18.5  2.2   5.1   \n              2000 4811      A.C. Green  PF  36  LAL  82  82  23.5  2.1   4.7   \n              2001 5330      A.C. Green  PF  37  MIA  82   1  17.2  1.8   4.0   \nA.J. Bramlett 2000 4684   A.J. Bramlett   C  23  CLE   8   0   7.6  0.5   2.6   \nA.J. English  1991 127     A.J. English  SG  23  WSB  70  12  20.6  3.6   8.2   \n              1992 597     A.J. English  SG  24  WSB  81   6  20.6  4.5  10.4   \nA.J. Green    2023 19115     A.J. Green  SG  23  MIL  35   1   9.9  1.5   3.6   \nA.J. Guyton   2001 5333     A.J. Guyton  PG  22  CHI  33   8  19.1  2.4   5.8   \n              2002 5886     A.J. Guyton  PG  23  CHI  45   6  13.5  2.0   5.4   \n              2003 6393     A.J. Guyton  PG  24  GSW   2   0   4.5  0.0   2.0   \nA.J. Hammons  2017 14814   A.J. Hammons   C  24  DAL  22   0   7.4  0.8   1.9   \nA.J. Lawson   2023 19259    A.J. Lawson  SG  22  DAL  15   0   7.2  1.5   2.9   \n\n                           FG%  ...  ORB  DRB  TRB  AST  STL  BLK  TOV   PF  \\\nPlayer        Year              ...                                           \nA.C. Green    1991 164    .476  ...  2.5  3.8  6.3  0.9  0.7  0.3  1.2  1.4   \n              1992 633    .476  ...  3.7  5.6  9.3  1.4  1.1  0.4  1.4  1.7   \n              1993 1092   .537  ...  3.5  5.2  8.7  1.4  1.1  0.5  1.4  1.8   \n              1994 1579   .502  ...  3.4  5.8  9.2  1.7  0.9  0.5  1.2  1.7   \n              1995 2067   .504  ...  2.4  5.8  8.2  1.5  0.7  0.4  1.4  1.8   \n              1996 2563   .484  ...  2.0  4.7  6.8  0.9  0.5  0.3  1.0  1.7   \n              1997 3138   .483  ...  2.7  5.2  7.9  0.8  0.8  0.2  0.9  1.7   \n              1998 3725   .453  ...  2.7  5.5  8.1  1.5  1.0  0.3  0.8  1.9   \n              1999 4283   .422  ...  1.6  2.9  4.6  0.5  0.6  0.2  0.4  1.4   \n              2000 4811   .447  ...  2.0  4.0  5.9  1.0  0.6  0.2  0.6  1.5   \n              2001 5330   .444  ...  1.3  2.5  3.8  0.5  0.4  0.1  0.5  1.5   \nA.J. Bramlett 2000 4684   .190  ...  1.5  1.3  2.8  0.0  0.1  0.0  0.4  1.6   \nA.J. English  1991 127    .439  ...  0.9  1.2  2.1  2.5  0.4  0.2  1.6  1.8   \n              1992 597    .433  ...  0.9  1.2  2.1  1.8  0.4  0.1  1.1  2.0   \nA.J. Green    2023 19115  .424  ...  0.2  1.1  1.3  0.6  0.2  0.0  0.3  0.9   \nA.J. Guyton   2001 5333   .406  ...  0.3  0.8  1.1  1.9  0.3  0.2  0.7  1.1   \n              2002 5886   .361  ...  0.3  0.7  1.0  1.8  0.2  0.2  0.8  0.5   \n              2003 6393   .000  ...  0.0  0.0  0.0  1.0  0.5  0.0  0.5  0.0   \nA.J. Hammons  2017 14814  .405  ...  0.4  1.3  1.6  0.2  0.0  0.6  0.5  1.0   \nA.J. Lawson   2023 19259  .500  ...  0.4  1.0  1.4  0.1  0.1  0.0  0.2  0.7   \n\n                           PTS  Year  \nPlayer        Year                    \nA.C. Green    1991 164     9.1  1991  \n              1992 633    13.6  1992  \n              1993 1092   12.8  1993  \n              1994 1579   14.7  1994  \n              1995 2067   11.2  1995  \n              1996 2563    7.5  1996  \n              1997 3138    7.2  1997  \n              1998 3725    7.3  1998  \n              1999 4283    4.9  1999  \n              2000 4811    5.0  2000  \n              2001 5330    4.5  2001  \nA.J. Bramlett 2000 4684    1.0  2000  \nA.J. English  1991 127     8.8  1991  \n              1992 597    10.9  1992  \nA.J. Green    2023 19115   4.4  2023  \nA.J. Guyton   2001 5333    6.0  2001  \n              2002 5886    5.4  2002  \n              2003 6393    0.0  2003  \nA.J. Hammons  2017 14814   2.2  2017  \nA.J. Lawson   2023 19259   3.7  2023  \n\n[20 rows x 30 columns]",
      "text/html": "<div>\n<style scoped>\n    .dataframe tbody tr th:only-of-type {\n        vertical-align: middle;\n    }\n\n    .dataframe tbody tr th {\n        vertical-align: top;\n    }\n\n    .dataframe thead th {\n        text-align: right;\n    }\n</style>\n<table border=\"1\" class=\"dataframe\">\n  <thead>\n    <tr style=\"text-align: right;\">\n      <th></th>\n      <th></th>\n      <th></th>\n      <th>Player</th>\n      <th>Pos</th>\n      <th>Age</th>\n      <th>Tm</th>\n      <th>G</th>\n      <th>GS</th>\n      <th>MP</th>\n      <th>FG</th>\n      <th>FGA</th>\n      <th>FG%</th>\n      <th>...</th>\n      <th>ORB</th>\n      <th>DRB</th>\n      <th>TRB</th>\n      <th>AST</th>\n      <th>STL</th>\n      <th>BLK</th>\n      <th>TOV</th>\n      <th>PF</th>\n      <th>PTS</th>\n      <th>Year</th>\n    </tr>\n    <tr>\n      <th>Player</th>\n      <th>Year</th>\n      <th></th>\n      <th></th>\n      <th></th>\n      <th></th>\n      <th></th>\n      <th></th>\n      <th></th>\n      <th></th>\n      <th></th>\n      <th></th>\n      <th></th>\n      <th></th>\n      <th></th>\n      <th></th>\n      <th></th>\n      <th></th>\n      <th></th>\n      <th></th>\n      <th></th>\n      <th></th>\n      <th></th>\n      <th></th>\n    </tr>\n  </thead>\n  <tbody>\n    <tr>\n      <th rowspan=\"11\" valign=\"top\">A.C. Green</th>\n      <th>1991</th>\n      <th>164</th>\n      <td>A.C. Green</td>\n      <td>PF</td>\n      <td>27</td>\n      <td>LAL</td>\n      <td>82</td>\n      <td>21</td>\n      <td>26.4</td>\n      <td>3.1</td>\n      <td>6.6</td>\n      <td>.476</td>\n      <td>...</td>\n      <td>2.5</td>\n      <td>3.8</td>\n      <td>6.3</td>\n      <td>0.9</td>\n      <td>0.7</td>\n      <td>0.3</td>\n      <td>1.2</td>\n      <td>1.4</td>\n      <td>9.1</td>\n      <td>1991</td>\n    </tr>\n    <tr>\n      <th>1992</th>\n      <th>633</th>\n      <td>A.C. Green</td>\n      <td>PF</td>\n      <td>28</td>\n      <td>LAL</td>\n      <td>82</td>\n      <td>53</td>\n      <td>35.4</td>\n      <td>4.7</td>\n      <td>9.8</td>\n      <td>.476</td>\n      <td>...</td>\n      <td>3.7</td>\n      <td>5.6</td>\n      <td>9.3</td>\n      <td>1.4</td>\n      <td>1.1</td>\n      <td>0.4</td>\n      <td>1.4</td>\n      <td>1.7</td>\n      <td>13.6</td>\n      <td>1992</td>\n    </tr>\n    <tr>\n      <th>1993</th>\n      <th>1092</th>\n      <td>A.C. Green</td>\n      <td>PF</td>\n      <td>29</td>\n      <td>LAL</td>\n      <td>82</td>\n      <td>55</td>\n      <td>34.4</td>\n      <td>4.6</td>\n      <td>8.6</td>\n      <td>.537</td>\n      <td>...</td>\n      <td>3.5</td>\n      <td>5.2</td>\n      <td>8.7</td>\n      <td>1.4</td>\n      <td>1.1</td>\n      <td>0.5</td>\n      <td>1.4</td>\n      <td>1.8</td>\n      <td>12.8</td>\n      <td>1993</td>\n    </tr>\n    <tr>\n      <th>1994</th>\n      <th>1579</th>\n      <td>A.C. Green</td>\n      <td>PF</td>\n      <td>30</td>\n      <td>PHO</td>\n      <td>82</td>\n      <td>55</td>\n      <td>34.5</td>\n      <td>5.7</td>\n      <td>11.3</td>\n      <td>.502</td>\n      <td>...</td>\n      <td>3.4</td>\n      <td>5.8</td>\n      <td>9.2</td>\n      <td>1.7</td>\n      <td>0.9</td>\n      <td>0.5</td>\n      <td>1.2</td>\n      <td>1.7</td>\n      <td>14.7</td>\n      <td>1994</td>\n    </tr>\n    <tr>\n      <th>1995</th>\n      <th>2067</th>\n      <td>A.C. Green</td>\n      <td>SF</td>\n      <td>31</td>\n      <td>PHO</td>\n      <td>82</td>\n      <td>52</td>\n      <td>32.8</td>\n      <td>3.8</td>\n      <td>7.5</td>\n      <td>.504</td>\n      <td>...</td>\n      <td>2.4</td>\n      <td>5.8</td>\n      <td>8.2</td>\n      <td>1.5</td>\n      <td>0.7</td>\n      <td>0.4</td>\n      <td>1.4</td>\n      <td>1.8</td>\n      <td>11.2</td>\n      <td>1995</td>\n    </tr>\n    <tr>\n      <th>1996</th>\n      <th>2563</th>\n      <td>A.C. Green</td>\n      <td>SF</td>\n      <td>32</td>\n      <td>PHO</td>\n      <td>82</td>\n      <td>36</td>\n      <td>25.8</td>\n      <td>2.6</td>\n      <td>5.4</td>\n      <td>.484</td>\n      <td>...</td>\n      <td>2.0</td>\n      <td>4.7</td>\n      <td>6.8</td>\n      <td>0.9</td>\n      <td>0.5</td>\n      <td>0.3</td>\n      <td>1.0</td>\n      <td>1.7</td>\n      <td>7.5</td>\n      <td>1996</td>\n    </tr>\n    <tr>\n      <th>1997</th>\n      <th>3138</th>\n      <td>A.C. Green</td>\n      <td>PF</td>\n      <td>33</td>\n      <td>DAL</td>\n      <td>83</td>\n      <td>73</td>\n      <td>30.0</td>\n      <td>2.8</td>\n      <td>5.8</td>\n      <td>.483</td>\n      <td>...</td>\n      <td>2.7</td>\n      <td>5.2</td>\n      <td>7.9</td>\n      <td>0.8</td>\n      <td>0.8</td>\n      <td>0.2</td>\n      <td>0.9</td>\n      <td>1.7</td>\n      <td>7.2</td>\n      <td>1997</td>\n    </tr>\n    <tr>\n      <th>1998</th>\n      <th>3725</th>\n      <td>A.C. Green</td>\n      <td>PF</td>\n      <td>34</td>\n      <td>DAL</td>\n      <td>82</td>\n      <td>68</td>\n      <td>32.3</td>\n      <td>3.0</td>\n      <td>6.5</td>\n      <td>.453</td>\n      <td>...</td>\n      <td>2.7</td>\n      <td>5.5</td>\n      <td>8.1</td>\n      <td>1.5</td>\n      <td>1.0</td>\n      <td>0.3</td>\n      <td>0.8</td>\n      <td>1.9</td>\n      <td>7.3</td>\n      <td>1998</td>\n    </tr>\n    <tr>\n      <th>1999</th>\n      <th>4283</th>\n      <td>A.C. Green</td>\n      <td>PF</td>\n      <td>35</td>\n      <td>DAL</td>\n      <td>50</td>\n      <td>35</td>\n      <td>18.5</td>\n      <td>2.2</td>\n      <td>5.1</td>\n      <td>.422</td>\n      <td>...</td>\n      <td>1.6</td>\n      <td>2.9</td>\n      <td>4.6</td>\n      <td>0.5</td>\n      <td>0.6</td>\n      <td>0.2</td>\n      <td>0.4</td>\n      <td>1.4</td>\n      <td>4.9</td>\n      <td>1999</td>\n    </tr>\n    <tr>\n      <th>2000</th>\n      <th>4811</th>\n      <td>A.C. Green</td>\n      <td>PF</td>\n      <td>36</td>\n      <td>LAL</td>\n      <td>82</td>\n      <td>82</td>\n      <td>23.5</td>\n      <td>2.1</td>\n      <td>4.7</td>\n      <td>.447</td>\n      <td>...</td>\n      <td>2.0</td>\n      <td>4.0</td>\n      <td>5.9</td>\n      <td>1.0</td>\n      <td>0.6</td>\n      <td>0.2</td>\n      <td>0.6</td>\n      <td>1.5</td>\n      <td>5.0</td>\n      <td>2000</td>\n    </tr>\n    <tr>\n      <th>2001</th>\n      <th>5330</th>\n      <td>A.C. Green</td>\n      <td>PF</td>\n      <td>37</td>\n      <td>MIA</td>\n      <td>82</td>\n      <td>1</td>\n      <td>17.2</td>\n      <td>1.8</td>\n      <td>4.0</td>\n      <td>.444</td>\n      <td>...</td>\n      <td>1.3</td>\n      <td>2.5</td>\n      <td>3.8</td>\n      <td>0.5</td>\n      <td>0.4</td>\n      <td>0.1</td>\n      <td>0.5</td>\n      <td>1.5</td>\n      <td>4.5</td>\n      <td>2001</td>\n    </tr>\n    <tr>\n      <th>A.J. Bramlett</th>\n      <th>2000</th>\n      <th>4684</th>\n      <td>A.J. Bramlett</td>\n      <td>C</td>\n      <td>23</td>\n      <td>CLE</td>\n      <td>8</td>\n      <td>0</td>\n      <td>7.6</td>\n      <td>0.5</td>\n      <td>2.6</td>\n      <td>.190</td>\n      <td>...</td>\n      <td>1.5</td>\n      <td>1.3</td>\n      <td>2.8</td>\n      <td>0.0</td>\n      <td>0.1</td>\n      <td>0.0</td>\n      <td>0.4</td>\n      <td>1.6</td>\n      <td>1.0</td>\n      <td>2000</td>\n    </tr>\n    <tr>\n      <th rowspan=\"2\" valign=\"top\">A.J. English</th>\n      <th>1991</th>\n      <th>127</th>\n      <td>A.J. English</td>\n      <td>SG</td>\n      <td>23</td>\n      <td>WSB</td>\n      <td>70</td>\n      <td>12</td>\n      <td>20.6</td>\n      <td>3.6</td>\n      <td>8.2</td>\n      <td>.439</td>\n      <td>...</td>\n      <td>0.9</td>\n      <td>1.2</td>\n      <td>2.1</td>\n      <td>2.5</td>\n      <td>0.4</td>\n      <td>0.2</td>\n      <td>1.6</td>\n      <td>1.8</td>\n      <td>8.8</td>\n      <td>1991</td>\n    </tr>\n    <tr>\n      <th>1992</th>\n      <th>597</th>\n      <td>A.J. English</td>\n      <td>SG</td>\n      <td>24</td>\n      <td>WSB</td>\n      <td>81</td>\n      <td>6</td>\n      <td>20.6</td>\n      <td>4.5</td>\n      <td>10.4</td>\n      <td>.433</td>\n      <td>...</td>\n      <td>0.9</td>\n      <td>1.2</td>\n      <td>2.1</td>\n      <td>1.8</td>\n      <td>0.4</td>\n      <td>0.1</td>\n      <td>1.1</td>\n      <td>2.0</td>\n      <td>10.9</td>\n      <td>1992</td>\n    </tr>\n    <tr>\n      <th>A.J. Green</th>\n      <th>2023</th>\n      <th>19115</th>\n      <td>A.J. Green</td>\n      <td>SG</td>\n      <td>23</td>\n      <td>MIL</td>\n      <td>35</td>\n      <td>1</td>\n      <td>9.9</td>\n      <td>1.5</td>\n      <td>3.6</td>\n      <td>.424</td>\n      <td>...</td>\n      <td>0.2</td>\n      <td>1.1</td>\n      <td>1.3</td>\n      <td>0.6</td>\n      <td>0.2</td>\n      <td>0.0</td>\n      <td>0.3</td>\n      <td>0.9</td>\n      <td>4.4</td>\n      <td>2023</td>\n    </tr>\n    <tr>\n      <th rowspan=\"3\" valign=\"top\">A.J. Guyton</th>\n      <th>2001</th>\n      <th>5333</th>\n      <td>A.J. Guyton</td>\n      <td>PG</td>\n      <td>22</td>\n      <td>CHI</td>\n      <td>33</td>\n      <td>8</td>\n      <td>19.1</td>\n      <td>2.4</td>\n      <td>5.8</td>\n      <td>.406</td>\n      <td>...</td>\n      <td>0.3</td>\n      <td>0.8</td>\n      <td>1.1</td>\n      <td>1.9</td>\n      <td>0.3</td>\n      <td>0.2</td>\n      <td>0.7</td>\n      <td>1.1</td>\n      <td>6.0</td>\n      <td>2001</td>\n    </tr>\n    <tr>\n      <th>2002</th>\n      <th>5886</th>\n      <td>A.J. Guyton</td>\n      <td>PG</td>\n      <td>23</td>\n      <td>CHI</td>\n      <td>45</td>\n      <td>6</td>\n      <td>13.5</td>\n      <td>2.0</td>\n      <td>5.4</td>\n      <td>.361</td>\n      <td>...</td>\n      <td>0.3</td>\n      <td>0.7</td>\n      <td>1.0</td>\n      <td>1.8</td>\n      <td>0.2</td>\n      <td>0.2</td>\n      <td>0.8</td>\n      <td>0.5</td>\n      <td>5.4</td>\n      <td>2002</td>\n    </tr>\n    <tr>\n      <th>2003</th>\n      <th>6393</th>\n      <td>A.J. Guyton</td>\n      <td>PG</td>\n      <td>24</td>\n      <td>GSW</td>\n      <td>2</td>\n      <td>0</td>\n      <td>4.5</td>\n      <td>0.0</td>\n      <td>2.0</td>\n      <td>.000</td>\n      <td>...</td>\n      <td>0.0</td>\n      <td>0.0</td>\n      <td>0.0</td>\n      <td>1.0</td>\n      <td>0.5</td>\n      <td>0.0</td>\n      <td>0.5</td>\n      <td>0.0</td>\n      <td>0.0</td>\n      <td>2003</td>\n    </tr>\n    <tr>\n      <th>A.J. Hammons</th>\n      <th>2017</th>\n      <th>14814</th>\n      <td>A.J. Hammons</td>\n      <td>C</td>\n      <td>24</td>\n      <td>DAL</td>\n      <td>22</td>\n      <td>0</td>\n      <td>7.4</td>\n      <td>0.8</td>\n      <td>1.9</td>\n      <td>.405</td>\n      <td>...</td>\n      <td>0.4</td>\n      <td>1.3</td>\n      <td>1.6</td>\n      <td>0.2</td>\n      <td>0.0</td>\n      <td>0.6</td>\n      <td>0.5</td>\n      <td>1.0</td>\n      <td>2.2</td>\n      <td>2017</td>\n    </tr>\n    <tr>\n      <th>A.J. Lawson</th>\n      <th>2023</th>\n      <th>19259</th>\n      <td>A.J. Lawson</td>\n      <td>SG</td>\n      <td>22</td>\n      <td>DAL</td>\n      <td>15</td>\n      <td>0</td>\n      <td>7.2</td>\n      <td>1.5</td>\n      <td>2.9</td>\n      <td>.500</td>\n      <td>...</td>\n      <td>0.4</td>\n      <td>1.0</td>\n      <td>1.4</td>\n      <td>0.1</td>\n      <td>0.1</td>\n      <td>0.0</td>\n      <td>0.2</td>\n      <td>0.7</td>\n      <td>3.7</td>\n      <td>2023</td>\n    </tr>\n  </tbody>\n</table>\n<p>20 rows × 30 columns</p>\n</div>"
     },
     "execution_count": 41,
     "metadata": {},
     "output_type": "execute_result"
    }
   ],
   "source": [
    "players.head(20)"
   ],
   "metadata": {
    "collapsed": false,
    "ExecuteTime": {
     "end_time": "2023-07-18T05:57:30.120328Z",
     "start_time": "2023-07-18T05:57:30.078528Z"
    }
   }
  },
  {
   "cell_type": "code",
   "execution_count": 44,
   "outputs": [],
   "source": [
    "players.index = players.index.droplevel()"
   ],
   "metadata": {
    "collapsed": false,
    "ExecuteTime": {
     "end_time": "2023-07-18T05:58:40.709361Z",
     "start_time": "2023-07-18T05:58:40.702281Z"
    }
   }
  },
  {
   "cell_type": "code",
   "execution_count": 45,
   "outputs": [],
   "source": [
    "players.index = players.index.droplevel()"
   ],
   "metadata": {
    "collapsed": false,
    "ExecuteTime": {
     "end_time": "2023-07-18T05:58:48.337298Z",
     "start_time": "2023-07-18T05:58:48.333161Z"
    }
   }
  },
  {
   "cell_type": "code",
   "execution_count": 46,
   "outputs": [
    {
     "data": {
      "text/plain": "              Player Pos Age   Tm   G  GS    MP   FG   FGA   FG%  ...  ORB  \\\n164       A.C. Green  PF  27  LAL  82  21  26.4  3.1   6.6  .476  ...  2.5   \n633       A.C. Green  PF  28  LAL  82  53  35.4  4.7   9.8  .476  ...  3.7   \n1092      A.C. Green  PF  29  LAL  82  55  34.4  4.6   8.6  .537  ...  3.5   \n1579      A.C. Green  PF  30  PHO  82  55  34.5  5.7  11.3  .502  ...  3.4   \n2067      A.C. Green  SF  31  PHO  82  52  32.8  3.8   7.5  .504  ...  2.4   \n...              ...  ..  ..  ...  ..  ..   ...  ...   ...   ...  ...  ...   \n6095  Željko Rebrača   C  29  DET  74   4  15.9  2.6   5.1  .505  ...  1.1   \n6595  Željko Rebrača   C  30  DET  30  12  16.3  2.7   4.8  .552  ...  0.9   \n7176  Željko Rebrača   C  31  ATL  24   2  11.4  1.4   3.2  .442  ...  1.0   \n7776  Željko Rebrača   C  32  LAC  58   2  16.0  2.3   4.0  .568  ...  0.8   \n8370  Željko Rebrača   C  33  LAC  29   2  14.2  1.8   3.3  .542  ...  0.4   \n\n      DRB  TRB  AST  STL  BLK  TOV   PF   PTS  Year  \n164   3.8  6.3  0.9  0.7  0.3  1.2  1.4   9.1  1991  \n633   5.6  9.3  1.4  1.1  0.4  1.4  1.7  13.6  1992  \n1092  5.2  8.7  1.4  1.1  0.5  1.4  1.8  12.8  1993  \n1579  5.8  9.2  1.7  0.9  0.5  1.2  1.7  14.7  1994  \n2067  5.8  8.2  1.5  0.7  0.4  1.4  1.8  11.2  1995  \n...   ...  ...  ...  ...  ...  ...  ...   ...   ...  \n6095  2.8  3.9  0.5  0.4  1.0  1.1  2.6   6.9  2002  \n6595  2.2  3.1  0.3  0.2  0.6  1.0  2.6   6.6  2003  \n7176  1.5  2.4  0.3  0.2  0.5  0.7  2.2   3.8  2004  \n7776  2.3  3.2  0.4  0.2  0.7  0.8  2.2   5.8  2005  \n8370  1.8  2.2  0.3  0.2  0.7  0.8  2.0   4.7  2006  \n\n[15236 rows x 30 columns]",
      "text/html": "<div>\n<style scoped>\n    .dataframe tbody tr th:only-of-type {\n        vertical-align: middle;\n    }\n\n    .dataframe tbody tr th {\n        vertical-align: top;\n    }\n\n    .dataframe thead th {\n        text-align: right;\n    }\n</style>\n<table border=\"1\" class=\"dataframe\">\n  <thead>\n    <tr style=\"text-align: right;\">\n      <th></th>\n      <th>Player</th>\n      <th>Pos</th>\n      <th>Age</th>\n      <th>Tm</th>\n      <th>G</th>\n      <th>GS</th>\n      <th>MP</th>\n      <th>FG</th>\n      <th>FGA</th>\n      <th>FG%</th>\n      <th>...</th>\n      <th>ORB</th>\n      <th>DRB</th>\n      <th>TRB</th>\n      <th>AST</th>\n      <th>STL</th>\n      <th>BLK</th>\n      <th>TOV</th>\n      <th>PF</th>\n      <th>PTS</th>\n      <th>Year</th>\n    </tr>\n  </thead>\n  <tbody>\n    <tr>\n      <th>164</th>\n      <td>A.C. Green</td>\n      <td>PF</td>\n      <td>27</td>\n      <td>LAL</td>\n      <td>82</td>\n      <td>21</td>\n      <td>26.4</td>\n      <td>3.1</td>\n      <td>6.6</td>\n      <td>.476</td>\n      <td>...</td>\n      <td>2.5</td>\n      <td>3.8</td>\n      <td>6.3</td>\n      <td>0.9</td>\n      <td>0.7</td>\n      <td>0.3</td>\n      <td>1.2</td>\n      <td>1.4</td>\n      <td>9.1</td>\n      <td>1991</td>\n    </tr>\n    <tr>\n      <th>633</th>\n      <td>A.C. Green</td>\n      <td>PF</td>\n      <td>28</td>\n      <td>LAL</td>\n      <td>82</td>\n      <td>53</td>\n      <td>35.4</td>\n      <td>4.7</td>\n      <td>9.8</td>\n      <td>.476</td>\n      <td>...</td>\n      <td>3.7</td>\n      <td>5.6</td>\n      <td>9.3</td>\n      <td>1.4</td>\n      <td>1.1</td>\n      <td>0.4</td>\n      <td>1.4</td>\n      <td>1.7</td>\n      <td>13.6</td>\n      <td>1992</td>\n    </tr>\n    <tr>\n      <th>1092</th>\n      <td>A.C. Green</td>\n      <td>PF</td>\n      <td>29</td>\n      <td>LAL</td>\n      <td>82</td>\n      <td>55</td>\n      <td>34.4</td>\n      <td>4.6</td>\n      <td>8.6</td>\n      <td>.537</td>\n      <td>...</td>\n      <td>3.5</td>\n      <td>5.2</td>\n      <td>8.7</td>\n      <td>1.4</td>\n      <td>1.1</td>\n      <td>0.5</td>\n      <td>1.4</td>\n      <td>1.8</td>\n      <td>12.8</td>\n      <td>1993</td>\n    </tr>\n    <tr>\n      <th>1579</th>\n      <td>A.C. Green</td>\n      <td>PF</td>\n      <td>30</td>\n      <td>PHO</td>\n      <td>82</td>\n      <td>55</td>\n      <td>34.5</td>\n      <td>5.7</td>\n      <td>11.3</td>\n      <td>.502</td>\n      <td>...</td>\n      <td>3.4</td>\n      <td>5.8</td>\n      <td>9.2</td>\n      <td>1.7</td>\n      <td>0.9</td>\n      <td>0.5</td>\n      <td>1.2</td>\n      <td>1.7</td>\n      <td>14.7</td>\n      <td>1994</td>\n    </tr>\n    <tr>\n      <th>2067</th>\n      <td>A.C. Green</td>\n      <td>SF</td>\n      <td>31</td>\n      <td>PHO</td>\n      <td>82</td>\n      <td>52</td>\n      <td>32.8</td>\n      <td>3.8</td>\n      <td>7.5</td>\n      <td>.504</td>\n      <td>...</td>\n      <td>2.4</td>\n      <td>5.8</td>\n      <td>8.2</td>\n      <td>1.5</td>\n      <td>0.7</td>\n      <td>0.4</td>\n      <td>1.4</td>\n      <td>1.8</td>\n      <td>11.2</td>\n      <td>1995</td>\n    </tr>\n    <tr>\n      <th>...</th>\n      <td>...</td>\n      <td>...</td>\n      <td>...</td>\n      <td>...</td>\n      <td>...</td>\n      <td>...</td>\n      <td>...</td>\n      <td>...</td>\n      <td>...</td>\n      <td>...</td>\n      <td>...</td>\n      <td>...</td>\n      <td>...</td>\n      <td>...</td>\n      <td>...</td>\n      <td>...</td>\n      <td>...</td>\n      <td>...</td>\n      <td>...</td>\n      <td>...</td>\n      <td>...</td>\n    </tr>\n    <tr>\n      <th>6095</th>\n      <td>Željko Rebrača</td>\n      <td>C</td>\n      <td>29</td>\n      <td>DET</td>\n      <td>74</td>\n      <td>4</td>\n      <td>15.9</td>\n      <td>2.6</td>\n      <td>5.1</td>\n      <td>.505</td>\n      <td>...</td>\n      <td>1.1</td>\n      <td>2.8</td>\n      <td>3.9</td>\n      <td>0.5</td>\n      <td>0.4</td>\n      <td>1.0</td>\n      <td>1.1</td>\n      <td>2.6</td>\n      <td>6.9</td>\n      <td>2002</td>\n    </tr>\n    <tr>\n      <th>6595</th>\n      <td>Željko Rebrača</td>\n      <td>C</td>\n      <td>30</td>\n      <td>DET</td>\n      <td>30</td>\n      <td>12</td>\n      <td>16.3</td>\n      <td>2.7</td>\n      <td>4.8</td>\n      <td>.552</td>\n      <td>...</td>\n      <td>0.9</td>\n      <td>2.2</td>\n      <td>3.1</td>\n      <td>0.3</td>\n      <td>0.2</td>\n      <td>0.6</td>\n      <td>1.0</td>\n      <td>2.6</td>\n      <td>6.6</td>\n      <td>2003</td>\n    </tr>\n    <tr>\n      <th>7176</th>\n      <td>Željko Rebrača</td>\n      <td>C</td>\n      <td>31</td>\n      <td>ATL</td>\n      <td>24</td>\n      <td>2</td>\n      <td>11.4</td>\n      <td>1.4</td>\n      <td>3.2</td>\n      <td>.442</td>\n      <td>...</td>\n      <td>1.0</td>\n      <td>1.5</td>\n      <td>2.4</td>\n      <td>0.3</td>\n      <td>0.2</td>\n      <td>0.5</td>\n      <td>0.7</td>\n      <td>2.2</td>\n      <td>3.8</td>\n      <td>2004</td>\n    </tr>\n    <tr>\n      <th>7776</th>\n      <td>Željko Rebrača</td>\n      <td>C</td>\n      <td>32</td>\n      <td>LAC</td>\n      <td>58</td>\n      <td>2</td>\n      <td>16.0</td>\n      <td>2.3</td>\n      <td>4.0</td>\n      <td>.568</td>\n      <td>...</td>\n      <td>0.8</td>\n      <td>2.3</td>\n      <td>3.2</td>\n      <td>0.4</td>\n      <td>0.2</td>\n      <td>0.7</td>\n      <td>0.8</td>\n      <td>2.2</td>\n      <td>5.8</td>\n      <td>2005</td>\n    </tr>\n    <tr>\n      <th>8370</th>\n      <td>Željko Rebrača</td>\n      <td>C</td>\n      <td>33</td>\n      <td>LAC</td>\n      <td>29</td>\n      <td>2</td>\n      <td>14.2</td>\n      <td>1.8</td>\n      <td>3.3</td>\n      <td>.542</td>\n      <td>...</td>\n      <td>0.4</td>\n      <td>1.8</td>\n      <td>2.2</td>\n      <td>0.3</td>\n      <td>0.2</td>\n      <td>0.7</td>\n      <td>0.8</td>\n      <td>2.0</td>\n      <td>4.7</td>\n      <td>2006</td>\n    </tr>\n  </tbody>\n</table>\n<p>15236 rows × 30 columns</p>\n</div>"
     },
     "execution_count": 46,
     "metadata": {},
     "output_type": "execute_result"
    }
   ],
   "source": [
    "players"
   ],
   "metadata": {
    "collapsed": false,
    "ExecuteTime": {
     "end_time": "2023-07-18T05:58:51.816787Z",
     "start_time": "2023-07-18T05:58:51.798598Z"
    }
   }
  },
  {
   "cell_type": "code",
   "execution_count": 47,
   "outputs": [
    {
     "data": {
      "text/plain": "             Player Pos Age   Tm   G  GS    MP   FG   FGA   FG%  ...  ORB  \\\n8     Greg Anderson  PF  26  DEN  68   2  13.6  1.7   4.0  .430  ...  1.4   \n467   Greg Anderson  PF  27  DEN  82  82  34.1  4.7  10.4  .456  ...  4.1   \n1412  Greg Anderson  PF  29  DET  77  47  21.1  2.6   4.8  .543  ...  2.4   \n1911  Greg Anderson  PF  30  ATL  51   0  12.2  1.1   2.0  .548  ...  1.2   \n2381  Greg Anderson  PF  31  SAS  46   7   7.5  0.5   1.0  .511  ...  0.6   \n2948  Greg Anderson   C  32  SAS  82  48  20.2  1.6   3.2  .496  ...  1.9   \n3541  Greg Anderson   C  33  ATL  50   0   8.0  0.7   1.6  .444  ...  0.8   \n\n      DRB   TRB  AST  STL  BLK  TOV   PF   PTS  Year  \n8     3.3   4.7  0.2  0.5  0.7  1.2  2.1   4.3  1991  \n467   7.4  11.5  1.0  1.1  0.8  2.5  3.2  11.5  1992  \n1412  5.0   7.4  0.7  0.7  0.9  1.2  3.0   6.4  1994  \n1911  2.5   3.7  0.3  0.5  0.6  0.6  2.0   2.9  1995  \n2381  1.5   2.2  0.2  0.2  0.5  0.5  1.4   1.2  1996  \n2948  3.5   5.5  0.4  0.8  0.8  0.9  2.7   3.9  1997  \n3541  1.6   2.4  0.3  0.4  0.2  0.3  1.7   1.8  1998  \n\n[7 rows x 30 columns]",
      "text/html": "<div>\n<style scoped>\n    .dataframe tbody tr th:only-of-type {\n        vertical-align: middle;\n    }\n\n    .dataframe tbody tr th {\n        vertical-align: top;\n    }\n\n    .dataframe thead th {\n        text-align: right;\n    }\n</style>\n<table border=\"1\" class=\"dataframe\">\n  <thead>\n    <tr style=\"text-align: right;\">\n      <th></th>\n      <th>Player</th>\n      <th>Pos</th>\n      <th>Age</th>\n      <th>Tm</th>\n      <th>G</th>\n      <th>GS</th>\n      <th>MP</th>\n      <th>FG</th>\n      <th>FGA</th>\n      <th>FG%</th>\n      <th>...</th>\n      <th>ORB</th>\n      <th>DRB</th>\n      <th>TRB</th>\n      <th>AST</th>\n      <th>STL</th>\n      <th>BLK</th>\n      <th>TOV</th>\n      <th>PF</th>\n      <th>PTS</th>\n      <th>Year</th>\n    </tr>\n  </thead>\n  <tbody>\n    <tr>\n      <th>8</th>\n      <td>Greg Anderson</td>\n      <td>PF</td>\n      <td>26</td>\n      <td>DEN</td>\n      <td>68</td>\n      <td>2</td>\n      <td>13.6</td>\n      <td>1.7</td>\n      <td>4.0</td>\n      <td>.430</td>\n      <td>...</td>\n      <td>1.4</td>\n      <td>3.3</td>\n      <td>4.7</td>\n      <td>0.2</td>\n      <td>0.5</td>\n      <td>0.7</td>\n      <td>1.2</td>\n      <td>2.1</td>\n      <td>4.3</td>\n      <td>1991</td>\n    </tr>\n    <tr>\n      <th>467</th>\n      <td>Greg Anderson</td>\n      <td>PF</td>\n      <td>27</td>\n      <td>DEN</td>\n      <td>82</td>\n      <td>82</td>\n      <td>34.1</td>\n      <td>4.7</td>\n      <td>10.4</td>\n      <td>.456</td>\n      <td>...</td>\n      <td>4.1</td>\n      <td>7.4</td>\n      <td>11.5</td>\n      <td>1.0</td>\n      <td>1.1</td>\n      <td>0.8</td>\n      <td>2.5</td>\n      <td>3.2</td>\n      <td>11.5</td>\n      <td>1992</td>\n    </tr>\n    <tr>\n      <th>1412</th>\n      <td>Greg Anderson</td>\n      <td>PF</td>\n      <td>29</td>\n      <td>DET</td>\n      <td>77</td>\n      <td>47</td>\n      <td>21.1</td>\n      <td>2.6</td>\n      <td>4.8</td>\n      <td>.543</td>\n      <td>...</td>\n      <td>2.4</td>\n      <td>5.0</td>\n      <td>7.4</td>\n      <td>0.7</td>\n      <td>0.7</td>\n      <td>0.9</td>\n      <td>1.2</td>\n      <td>3.0</td>\n      <td>6.4</td>\n      <td>1994</td>\n    </tr>\n    <tr>\n      <th>1911</th>\n      <td>Greg Anderson</td>\n      <td>PF</td>\n      <td>30</td>\n      <td>ATL</td>\n      <td>51</td>\n      <td>0</td>\n      <td>12.2</td>\n      <td>1.1</td>\n      <td>2.0</td>\n      <td>.548</td>\n      <td>...</td>\n      <td>1.2</td>\n      <td>2.5</td>\n      <td>3.7</td>\n      <td>0.3</td>\n      <td>0.5</td>\n      <td>0.6</td>\n      <td>0.6</td>\n      <td>2.0</td>\n      <td>2.9</td>\n      <td>1995</td>\n    </tr>\n    <tr>\n      <th>2381</th>\n      <td>Greg Anderson</td>\n      <td>PF</td>\n      <td>31</td>\n      <td>SAS</td>\n      <td>46</td>\n      <td>7</td>\n      <td>7.5</td>\n      <td>0.5</td>\n      <td>1.0</td>\n      <td>.511</td>\n      <td>...</td>\n      <td>0.6</td>\n      <td>1.5</td>\n      <td>2.2</td>\n      <td>0.2</td>\n      <td>0.2</td>\n      <td>0.5</td>\n      <td>0.5</td>\n      <td>1.4</td>\n      <td>1.2</td>\n      <td>1996</td>\n    </tr>\n    <tr>\n      <th>2948</th>\n      <td>Greg Anderson</td>\n      <td>C</td>\n      <td>32</td>\n      <td>SAS</td>\n      <td>82</td>\n      <td>48</td>\n      <td>20.2</td>\n      <td>1.6</td>\n      <td>3.2</td>\n      <td>.496</td>\n      <td>...</td>\n      <td>1.9</td>\n      <td>3.5</td>\n      <td>5.5</td>\n      <td>0.4</td>\n      <td>0.8</td>\n      <td>0.8</td>\n      <td>0.9</td>\n      <td>2.7</td>\n      <td>3.9</td>\n      <td>1997</td>\n    </tr>\n    <tr>\n      <th>3541</th>\n      <td>Greg Anderson</td>\n      <td>C</td>\n      <td>33</td>\n      <td>ATL</td>\n      <td>50</td>\n      <td>0</td>\n      <td>8.0</td>\n      <td>0.7</td>\n      <td>1.6</td>\n      <td>.444</td>\n      <td>...</td>\n      <td>0.8</td>\n      <td>1.6</td>\n      <td>2.4</td>\n      <td>0.3</td>\n      <td>0.4</td>\n      <td>0.2</td>\n      <td>0.3</td>\n      <td>1.7</td>\n      <td>1.8</td>\n      <td>1998</td>\n    </tr>\n  </tbody>\n</table>\n<p>7 rows × 30 columns</p>\n</div>"
     },
     "execution_count": 47,
     "metadata": {},
     "output_type": "execute_result"
    }
   ],
   "source": [
    "players[players['Player'] == 'Greg Anderson']"
   ],
   "metadata": {
    "collapsed": false,
    "ExecuteTime": {
     "end_time": "2023-07-18T06:10:48.164472Z",
     "start_time": "2023-07-18T06:10:48.159666Z"
    }
   }
  },
  {
   "cell_type": "code",
   "execution_count": 48,
   "outputs": [],
   "source": [
    "combined = players.merge(mvps, how='outer', on=['Player', 'Year'])"
   ],
   "metadata": {
    "collapsed": false,
    "ExecuteTime": {
     "end_time": "2023-07-18T06:13:44.241274Z",
     "start_time": "2023-07-18T06:13:44.220773Z"
    }
   }
  },
  {
   "cell_type": "code",
   "execution_count": 49,
   "outputs": [
    {
     "data": {
      "text/plain": "       Player Pos Age   Tm   G  GS    MP   FG   FGA   FG%  ...  AST  STL  BLK  \\\n0  A.C. Green  PF  27  LAL  82  21  26.4  3.1   6.6  .476  ...  0.9  0.7  0.3   \n1  A.C. Green  PF  28  LAL  82  53  35.4  4.7   9.8  .476  ...  1.4  1.1  0.4   \n2  A.C. Green  PF  29  LAL  82  55  34.4  4.6   8.6  .537  ...  1.4  1.1  0.5   \n3  A.C. Green  PF  30  PHO  82  55  34.5  5.7  11.3  .502  ...  1.7  0.9  0.5   \n4  A.C. Green  SF  31  PHO  82  52  32.8  3.8   7.5  .504  ...  1.5  0.7  0.4   \n\n   TOV   PF   PTS  Year Pts Won Pts Max Share  \n0  1.2  1.4   9.1  1991     NaN     NaN   NaN  \n1  1.4  1.7  13.6  1992     NaN     NaN   NaN  \n2  1.4  1.8  12.8  1993     NaN     NaN   NaN  \n3  1.2  1.7  14.7  1994     NaN     NaN   NaN  \n4  1.4  1.8  11.2  1995     NaN     NaN   NaN  \n\n[5 rows x 33 columns]",
      "text/html": "<div>\n<style scoped>\n    .dataframe tbody tr th:only-of-type {\n        vertical-align: middle;\n    }\n\n    .dataframe tbody tr th {\n        vertical-align: top;\n    }\n\n    .dataframe thead th {\n        text-align: right;\n    }\n</style>\n<table border=\"1\" class=\"dataframe\">\n  <thead>\n    <tr style=\"text-align: right;\">\n      <th></th>\n      <th>Player</th>\n      <th>Pos</th>\n      <th>Age</th>\n      <th>Tm</th>\n      <th>G</th>\n      <th>GS</th>\n      <th>MP</th>\n      <th>FG</th>\n      <th>FGA</th>\n      <th>FG%</th>\n      <th>...</th>\n      <th>AST</th>\n      <th>STL</th>\n      <th>BLK</th>\n      <th>TOV</th>\n      <th>PF</th>\n      <th>PTS</th>\n      <th>Year</th>\n      <th>Pts Won</th>\n      <th>Pts Max</th>\n      <th>Share</th>\n    </tr>\n  </thead>\n  <tbody>\n    <tr>\n      <th>0</th>\n      <td>A.C. Green</td>\n      <td>PF</td>\n      <td>27</td>\n      <td>LAL</td>\n      <td>82</td>\n      <td>21</td>\n      <td>26.4</td>\n      <td>3.1</td>\n      <td>6.6</td>\n      <td>.476</td>\n      <td>...</td>\n      <td>0.9</td>\n      <td>0.7</td>\n      <td>0.3</td>\n      <td>1.2</td>\n      <td>1.4</td>\n      <td>9.1</td>\n      <td>1991</td>\n      <td>NaN</td>\n      <td>NaN</td>\n      <td>NaN</td>\n    </tr>\n    <tr>\n      <th>1</th>\n      <td>A.C. Green</td>\n      <td>PF</td>\n      <td>28</td>\n      <td>LAL</td>\n      <td>82</td>\n      <td>53</td>\n      <td>35.4</td>\n      <td>4.7</td>\n      <td>9.8</td>\n      <td>.476</td>\n      <td>...</td>\n      <td>1.4</td>\n      <td>1.1</td>\n      <td>0.4</td>\n      <td>1.4</td>\n      <td>1.7</td>\n      <td>13.6</td>\n      <td>1992</td>\n      <td>NaN</td>\n      <td>NaN</td>\n      <td>NaN</td>\n    </tr>\n    <tr>\n      <th>2</th>\n      <td>A.C. Green</td>\n      <td>PF</td>\n      <td>29</td>\n      <td>LAL</td>\n      <td>82</td>\n      <td>55</td>\n      <td>34.4</td>\n      <td>4.6</td>\n      <td>8.6</td>\n      <td>.537</td>\n      <td>...</td>\n      <td>1.4</td>\n      <td>1.1</td>\n      <td>0.5</td>\n      <td>1.4</td>\n      <td>1.8</td>\n      <td>12.8</td>\n      <td>1993</td>\n      <td>NaN</td>\n      <td>NaN</td>\n      <td>NaN</td>\n    </tr>\n    <tr>\n      <th>3</th>\n      <td>A.C. Green</td>\n      <td>PF</td>\n      <td>30</td>\n      <td>PHO</td>\n      <td>82</td>\n      <td>55</td>\n      <td>34.5</td>\n      <td>5.7</td>\n      <td>11.3</td>\n      <td>.502</td>\n      <td>...</td>\n      <td>1.7</td>\n      <td>0.9</td>\n      <td>0.5</td>\n      <td>1.2</td>\n      <td>1.7</td>\n      <td>14.7</td>\n      <td>1994</td>\n      <td>NaN</td>\n      <td>NaN</td>\n      <td>NaN</td>\n    </tr>\n    <tr>\n      <th>4</th>\n      <td>A.C. Green</td>\n      <td>SF</td>\n      <td>31</td>\n      <td>PHO</td>\n      <td>82</td>\n      <td>52</td>\n      <td>32.8</td>\n      <td>3.8</td>\n      <td>7.5</td>\n      <td>.504</td>\n      <td>...</td>\n      <td>1.5</td>\n      <td>0.7</td>\n      <td>0.4</td>\n      <td>1.4</td>\n      <td>1.8</td>\n      <td>11.2</td>\n      <td>1995</td>\n      <td>NaN</td>\n      <td>NaN</td>\n      <td>NaN</td>\n    </tr>\n  </tbody>\n</table>\n<p>5 rows × 33 columns</p>\n</div>"
     },
     "execution_count": 49,
     "metadata": {},
     "output_type": "execute_result"
    }
   ],
   "source": [
    "combined.head()"
   ],
   "metadata": {
    "collapsed": false,
    "ExecuteTime": {
     "end_time": "2023-07-18T06:13:48.529946Z",
     "start_time": "2023-07-18T06:13:48.525174Z"
    }
   }
  },
  {
   "cell_type": "code",
   "execution_count": 50,
   "outputs": [
    {
     "data": {
      "text/plain": "              Player    Pos Age   Tm   G  GS    MP    FG   FGA   FG%  ...  \\\n206     Al Jefferson      C  29  CHA  73  73  35.0   9.6  18.8  .509  ...   \n360    Allen Iverson     PG  21  PHI  76  74  40.1   8.2  19.8  .416  ...   \n362    Allen Iverson     SG  23  PHI  48  48  41.5   9.1  22.0  .412  ...   \n363    Allen Iverson     SG  24  PHI  70  70  40.8  10.4  24.8  .421  ...   \n364    Allen Iverson     SG  25  PHI  71  71  42.0  10.7  25.5  .420  ...   \n...              ...    ...  ..  ...  ..  ..   ...   ...   ...   ...  ...   \n14689   Vince Carter     SF  23  TOR  82  82  38.1   9.6  20.7  .465  ...   \n14690   Vince Carter     SF  24  TOR  75  75  39.7  10.2  22.1  .460  ...   \n14694   Vince Carter  SF-SG  28  NJN  77  76  36.7   9.0  20.0  .452  ...   \n15082       Yao Ming      C  23  HOU  82  82  32.8   6.5  12.5  .522  ...   \n15087       Yao Ming      C  28  HOU  77  77  33.6   7.4  13.4  .548  ...   \n\n       AST  STL  BLK  TOV   PF   PTS  Year Pts Won Pts Max  Share  \n206    2.1  0.9  1.1  1.7  2.4  21.8  2014    34.0  1250.0  0.027  \n360    7.5  2.1  0.3  4.4  3.1  23.5  1997     1.0  1150.0  0.001  \n362    4.6  2.3  0.1  3.5  2.0  26.8  1999   319.0  1180.0  0.270  \n363    4.7  2.1  0.1  3.3  2.3  28.4  2000   132.0  1210.0  0.109  \n364    4.6  2.5  0.3  3.3  2.1  31.1  2001  1121.0  1240.0  0.904  \n...    ...  ...  ...  ...  ...   ...   ...     ...     ...    ...  \n14689  3.9  1.3  1.1  2.2  3.2  25.7  2000    51.0  1210.0  0.042  \n14690  3.9  1.5  1.1  2.2  2.7  27.6  2001     7.0  1240.0  0.006  \n14694  4.2  1.4  0.6  2.2  3.2  24.5  2005     3.0  1270.0  0.002  \n15082  1.5  0.3  1.9  2.5  3.3  17.5  2004     1.0  1230.0  0.001  \n15087  1.8  0.4  1.9  3.0  3.3  19.7  2009     1.0  1210.0  0.001  \n\n[499 rows x 33 columns]",
      "text/html": "<div>\n<style scoped>\n    .dataframe tbody tr th:only-of-type {\n        vertical-align: middle;\n    }\n\n    .dataframe tbody tr th {\n        vertical-align: top;\n    }\n\n    .dataframe thead th {\n        text-align: right;\n    }\n</style>\n<table border=\"1\" class=\"dataframe\">\n  <thead>\n    <tr style=\"text-align: right;\">\n      <th></th>\n      <th>Player</th>\n      <th>Pos</th>\n      <th>Age</th>\n      <th>Tm</th>\n      <th>G</th>\n      <th>GS</th>\n      <th>MP</th>\n      <th>FG</th>\n      <th>FGA</th>\n      <th>FG%</th>\n      <th>...</th>\n      <th>AST</th>\n      <th>STL</th>\n      <th>BLK</th>\n      <th>TOV</th>\n      <th>PF</th>\n      <th>PTS</th>\n      <th>Year</th>\n      <th>Pts Won</th>\n      <th>Pts Max</th>\n      <th>Share</th>\n    </tr>\n  </thead>\n  <tbody>\n    <tr>\n      <th>206</th>\n      <td>Al Jefferson</td>\n      <td>C</td>\n      <td>29</td>\n      <td>CHA</td>\n      <td>73</td>\n      <td>73</td>\n      <td>35.0</td>\n      <td>9.6</td>\n      <td>18.8</td>\n      <td>.509</td>\n      <td>...</td>\n      <td>2.1</td>\n      <td>0.9</td>\n      <td>1.1</td>\n      <td>1.7</td>\n      <td>2.4</td>\n      <td>21.8</td>\n      <td>2014</td>\n      <td>34.0</td>\n      <td>1250.0</td>\n      <td>0.027</td>\n    </tr>\n    <tr>\n      <th>360</th>\n      <td>Allen Iverson</td>\n      <td>PG</td>\n      <td>21</td>\n      <td>PHI</td>\n      <td>76</td>\n      <td>74</td>\n      <td>40.1</td>\n      <td>8.2</td>\n      <td>19.8</td>\n      <td>.416</td>\n      <td>...</td>\n      <td>7.5</td>\n      <td>2.1</td>\n      <td>0.3</td>\n      <td>4.4</td>\n      <td>3.1</td>\n      <td>23.5</td>\n      <td>1997</td>\n      <td>1.0</td>\n      <td>1150.0</td>\n      <td>0.001</td>\n    </tr>\n    <tr>\n      <th>362</th>\n      <td>Allen Iverson</td>\n      <td>SG</td>\n      <td>23</td>\n      <td>PHI</td>\n      <td>48</td>\n      <td>48</td>\n      <td>41.5</td>\n      <td>9.1</td>\n      <td>22.0</td>\n      <td>.412</td>\n      <td>...</td>\n      <td>4.6</td>\n      <td>2.3</td>\n      <td>0.1</td>\n      <td>3.5</td>\n      <td>2.0</td>\n      <td>26.8</td>\n      <td>1999</td>\n      <td>319.0</td>\n      <td>1180.0</td>\n      <td>0.270</td>\n    </tr>\n    <tr>\n      <th>363</th>\n      <td>Allen Iverson</td>\n      <td>SG</td>\n      <td>24</td>\n      <td>PHI</td>\n      <td>70</td>\n      <td>70</td>\n      <td>40.8</td>\n      <td>10.4</td>\n      <td>24.8</td>\n      <td>.421</td>\n      <td>...</td>\n      <td>4.7</td>\n      <td>2.1</td>\n      <td>0.1</td>\n      <td>3.3</td>\n      <td>2.3</td>\n      <td>28.4</td>\n      <td>2000</td>\n      <td>132.0</td>\n      <td>1210.0</td>\n      <td>0.109</td>\n    </tr>\n    <tr>\n      <th>364</th>\n      <td>Allen Iverson</td>\n      <td>SG</td>\n      <td>25</td>\n      <td>PHI</td>\n      <td>71</td>\n      <td>71</td>\n      <td>42.0</td>\n      <td>10.7</td>\n      <td>25.5</td>\n      <td>.420</td>\n      <td>...</td>\n      <td>4.6</td>\n      <td>2.5</td>\n      <td>0.3</td>\n      <td>3.3</td>\n      <td>2.1</td>\n      <td>31.1</td>\n      <td>2001</td>\n      <td>1121.0</td>\n      <td>1240.0</td>\n      <td>0.904</td>\n    </tr>\n    <tr>\n      <th>...</th>\n      <td>...</td>\n      <td>...</td>\n      <td>...</td>\n      <td>...</td>\n      <td>...</td>\n      <td>...</td>\n      <td>...</td>\n      <td>...</td>\n      <td>...</td>\n      <td>...</td>\n      <td>...</td>\n      <td>...</td>\n      <td>...</td>\n      <td>...</td>\n      <td>...</td>\n      <td>...</td>\n      <td>...</td>\n      <td>...</td>\n      <td>...</td>\n      <td>...</td>\n      <td>...</td>\n    </tr>\n    <tr>\n      <th>14689</th>\n      <td>Vince Carter</td>\n      <td>SF</td>\n      <td>23</td>\n      <td>TOR</td>\n      <td>82</td>\n      <td>82</td>\n      <td>38.1</td>\n      <td>9.6</td>\n      <td>20.7</td>\n      <td>.465</td>\n      <td>...</td>\n      <td>3.9</td>\n      <td>1.3</td>\n      <td>1.1</td>\n      <td>2.2</td>\n      <td>3.2</td>\n      <td>25.7</td>\n      <td>2000</td>\n      <td>51.0</td>\n      <td>1210.0</td>\n      <td>0.042</td>\n    </tr>\n    <tr>\n      <th>14690</th>\n      <td>Vince Carter</td>\n      <td>SF</td>\n      <td>24</td>\n      <td>TOR</td>\n      <td>75</td>\n      <td>75</td>\n      <td>39.7</td>\n      <td>10.2</td>\n      <td>22.1</td>\n      <td>.460</td>\n      <td>...</td>\n      <td>3.9</td>\n      <td>1.5</td>\n      <td>1.1</td>\n      <td>2.2</td>\n      <td>2.7</td>\n      <td>27.6</td>\n      <td>2001</td>\n      <td>7.0</td>\n      <td>1240.0</td>\n      <td>0.006</td>\n    </tr>\n    <tr>\n      <th>14694</th>\n      <td>Vince Carter</td>\n      <td>SF-SG</td>\n      <td>28</td>\n      <td>NJN</td>\n      <td>77</td>\n      <td>76</td>\n      <td>36.7</td>\n      <td>9.0</td>\n      <td>20.0</td>\n      <td>.452</td>\n      <td>...</td>\n      <td>4.2</td>\n      <td>1.4</td>\n      <td>0.6</td>\n      <td>2.2</td>\n      <td>3.2</td>\n      <td>24.5</td>\n      <td>2005</td>\n      <td>3.0</td>\n      <td>1270.0</td>\n      <td>0.002</td>\n    </tr>\n    <tr>\n      <th>15082</th>\n      <td>Yao Ming</td>\n      <td>C</td>\n      <td>23</td>\n      <td>HOU</td>\n      <td>82</td>\n      <td>82</td>\n      <td>32.8</td>\n      <td>6.5</td>\n      <td>12.5</td>\n      <td>.522</td>\n      <td>...</td>\n      <td>1.5</td>\n      <td>0.3</td>\n      <td>1.9</td>\n      <td>2.5</td>\n      <td>3.3</td>\n      <td>17.5</td>\n      <td>2004</td>\n      <td>1.0</td>\n      <td>1230.0</td>\n      <td>0.001</td>\n    </tr>\n    <tr>\n      <th>15087</th>\n      <td>Yao Ming</td>\n      <td>C</td>\n      <td>28</td>\n      <td>HOU</td>\n      <td>77</td>\n      <td>77</td>\n      <td>33.6</td>\n      <td>7.4</td>\n      <td>13.4</td>\n      <td>.548</td>\n      <td>...</td>\n      <td>1.8</td>\n      <td>0.4</td>\n      <td>1.9</td>\n      <td>3.0</td>\n      <td>3.3</td>\n      <td>19.7</td>\n      <td>2009</td>\n      <td>1.0</td>\n      <td>1210.0</td>\n      <td>0.001</td>\n    </tr>\n  </tbody>\n</table>\n<p>499 rows × 33 columns</p>\n</div>"
     },
     "execution_count": 50,
     "metadata": {},
     "output_type": "execute_result"
    }
   ],
   "source": [
    "combined[combined['Pts Won'] > 0]"
   ],
   "metadata": {
    "collapsed": false,
    "ExecuteTime": {
     "end_time": "2023-07-18T06:14:18.400185Z",
     "start_time": "2023-07-18T06:14:18.365022Z"
    }
   }
  },
  {
   "cell_type": "code",
   "execution_count": 53,
   "outputs": [],
   "source": [
    "combined[['Pts Won', 'Pts Max', 'Share']] = combined[['Pts Won', 'Pts Max', 'Share']].fillna(0)"
   ],
   "metadata": {
    "collapsed": false,
    "ExecuteTime": {
     "end_time": "2023-07-18T06:17:20.722471Z",
     "start_time": "2023-07-18T06:17:20.714087Z"
    }
   }
  },
  {
   "cell_type": "code",
   "execution_count": 54,
   "outputs": [
    {
     "data": {
      "text/plain": "               Player Pos Age   Tm   G  GS    MP   FG   FGA   FG%  ...  AST  \\\n0          A.C. Green  PF  27  LAL  82  21  26.4  3.1   6.6  .476  ...  0.9   \n1          A.C. Green  PF  28  LAL  82  53  35.4  4.7   9.8  .476  ...  1.4   \n2          A.C. Green  PF  29  LAL  82  55  34.4  4.6   8.6  .537  ...  1.4   \n3          A.C. Green  PF  30  PHO  82  55  34.5  5.7  11.3  .502  ...  1.7   \n4          A.C. Green  SF  31  PHO  82  52  32.8  3.8   7.5  .504  ...  1.5   \n...               ...  ..  ..  ...  ..  ..   ...  ...   ...   ...  ...  ...   \n15231  Željko Rebrača   C  29  DET  74   4  15.9  2.6   5.1  .505  ...  0.5   \n15232  Željko Rebrača   C  30  DET  30  12  16.3  2.7   4.8  .552  ...  0.3   \n15233  Željko Rebrača   C  31  ATL  24   2  11.4  1.4   3.2  .442  ...  0.3   \n15234  Željko Rebrača   C  32  LAC  58   2  16.0  2.3   4.0  .568  ...  0.4   \n15235  Željko Rebrača   C  33  LAC  29   2  14.2  1.8   3.3  .542  ...  0.3   \n\n       STL  BLK  TOV   PF   PTS  Year Pts Won Pts Max Share  \n0      0.7  0.3  1.2  1.4   9.1  1991     0.0     0.0   0.0  \n1      1.1  0.4  1.4  1.7  13.6  1992     0.0     0.0   0.0  \n2      1.1  0.5  1.4  1.8  12.8  1993     0.0     0.0   0.0  \n3      0.9  0.5  1.2  1.7  14.7  1994     0.0     0.0   0.0  \n4      0.7  0.4  1.4  1.8  11.2  1995     0.0     0.0   0.0  \n...    ...  ...  ...  ...   ...   ...     ...     ...   ...  \n15231  0.4  1.0  1.1  2.6   6.9  2002     0.0     0.0   0.0  \n15232  0.2  0.6  1.0  2.6   6.6  2003     0.0     0.0   0.0  \n15233  0.2  0.5  0.7  2.2   3.8  2004     0.0     0.0   0.0  \n15234  0.2  0.7  0.8  2.2   5.8  2005     0.0     0.0   0.0  \n15235  0.2  0.7  0.8  2.0   4.7  2006     0.0     0.0   0.0  \n\n[15236 rows x 33 columns]",
      "text/html": "<div>\n<style scoped>\n    .dataframe tbody tr th:only-of-type {\n        vertical-align: middle;\n    }\n\n    .dataframe tbody tr th {\n        vertical-align: top;\n    }\n\n    .dataframe thead th {\n        text-align: right;\n    }\n</style>\n<table border=\"1\" class=\"dataframe\">\n  <thead>\n    <tr style=\"text-align: right;\">\n      <th></th>\n      <th>Player</th>\n      <th>Pos</th>\n      <th>Age</th>\n      <th>Tm</th>\n      <th>G</th>\n      <th>GS</th>\n      <th>MP</th>\n      <th>FG</th>\n      <th>FGA</th>\n      <th>FG%</th>\n      <th>...</th>\n      <th>AST</th>\n      <th>STL</th>\n      <th>BLK</th>\n      <th>TOV</th>\n      <th>PF</th>\n      <th>PTS</th>\n      <th>Year</th>\n      <th>Pts Won</th>\n      <th>Pts Max</th>\n      <th>Share</th>\n    </tr>\n  </thead>\n  <tbody>\n    <tr>\n      <th>0</th>\n      <td>A.C. Green</td>\n      <td>PF</td>\n      <td>27</td>\n      <td>LAL</td>\n      <td>82</td>\n      <td>21</td>\n      <td>26.4</td>\n      <td>3.1</td>\n      <td>6.6</td>\n      <td>.476</td>\n      <td>...</td>\n      <td>0.9</td>\n      <td>0.7</td>\n      <td>0.3</td>\n      <td>1.2</td>\n      <td>1.4</td>\n      <td>9.1</td>\n      <td>1991</td>\n      <td>0.0</td>\n      <td>0.0</td>\n      <td>0.0</td>\n    </tr>\n    <tr>\n      <th>1</th>\n      <td>A.C. Green</td>\n      <td>PF</td>\n      <td>28</td>\n      <td>LAL</td>\n      <td>82</td>\n      <td>53</td>\n      <td>35.4</td>\n      <td>4.7</td>\n      <td>9.8</td>\n      <td>.476</td>\n      <td>...</td>\n      <td>1.4</td>\n      <td>1.1</td>\n      <td>0.4</td>\n      <td>1.4</td>\n      <td>1.7</td>\n      <td>13.6</td>\n      <td>1992</td>\n      <td>0.0</td>\n      <td>0.0</td>\n      <td>0.0</td>\n    </tr>\n    <tr>\n      <th>2</th>\n      <td>A.C. Green</td>\n      <td>PF</td>\n      <td>29</td>\n      <td>LAL</td>\n      <td>82</td>\n      <td>55</td>\n      <td>34.4</td>\n      <td>4.6</td>\n      <td>8.6</td>\n      <td>.537</td>\n      <td>...</td>\n      <td>1.4</td>\n      <td>1.1</td>\n      <td>0.5</td>\n      <td>1.4</td>\n      <td>1.8</td>\n      <td>12.8</td>\n      <td>1993</td>\n      <td>0.0</td>\n      <td>0.0</td>\n      <td>0.0</td>\n    </tr>\n    <tr>\n      <th>3</th>\n      <td>A.C. Green</td>\n      <td>PF</td>\n      <td>30</td>\n      <td>PHO</td>\n      <td>82</td>\n      <td>55</td>\n      <td>34.5</td>\n      <td>5.7</td>\n      <td>11.3</td>\n      <td>.502</td>\n      <td>...</td>\n      <td>1.7</td>\n      <td>0.9</td>\n      <td>0.5</td>\n      <td>1.2</td>\n      <td>1.7</td>\n      <td>14.7</td>\n      <td>1994</td>\n      <td>0.0</td>\n      <td>0.0</td>\n      <td>0.0</td>\n    </tr>\n    <tr>\n      <th>4</th>\n      <td>A.C. Green</td>\n      <td>SF</td>\n      <td>31</td>\n      <td>PHO</td>\n      <td>82</td>\n      <td>52</td>\n      <td>32.8</td>\n      <td>3.8</td>\n      <td>7.5</td>\n      <td>.504</td>\n      <td>...</td>\n      <td>1.5</td>\n      <td>0.7</td>\n      <td>0.4</td>\n      <td>1.4</td>\n      <td>1.8</td>\n      <td>11.2</td>\n      <td>1995</td>\n      <td>0.0</td>\n      <td>0.0</td>\n      <td>0.0</td>\n    </tr>\n    <tr>\n      <th>...</th>\n      <td>...</td>\n      <td>...</td>\n      <td>...</td>\n      <td>...</td>\n      <td>...</td>\n      <td>...</td>\n      <td>...</td>\n      <td>...</td>\n      <td>...</td>\n      <td>...</td>\n      <td>...</td>\n      <td>...</td>\n      <td>...</td>\n      <td>...</td>\n      <td>...</td>\n      <td>...</td>\n      <td>...</td>\n      <td>...</td>\n      <td>...</td>\n      <td>...</td>\n      <td>...</td>\n    </tr>\n    <tr>\n      <th>15231</th>\n      <td>Željko Rebrača</td>\n      <td>C</td>\n      <td>29</td>\n      <td>DET</td>\n      <td>74</td>\n      <td>4</td>\n      <td>15.9</td>\n      <td>2.6</td>\n      <td>5.1</td>\n      <td>.505</td>\n      <td>...</td>\n      <td>0.5</td>\n      <td>0.4</td>\n      <td>1.0</td>\n      <td>1.1</td>\n      <td>2.6</td>\n      <td>6.9</td>\n      <td>2002</td>\n      <td>0.0</td>\n      <td>0.0</td>\n      <td>0.0</td>\n    </tr>\n    <tr>\n      <th>15232</th>\n      <td>Željko Rebrača</td>\n      <td>C</td>\n      <td>30</td>\n      <td>DET</td>\n      <td>30</td>\n      <td>12</td>\n      <td>16.3</td>\n      <td>2.7</td>\n      <td>4.8</td>\n      <td>.552</td>\n      <td>...</td>\n      <td>0.3</td>\n      <td>0.2</td>\n      <td>0.6</td>\n      <td>1.0</td>\n      <td>2.6</td>\n      <td>6.6</td>\n      <td>2003</td>\n      <td>0.0</td>\n      <td>0.0</td>\n      <td>0.0</td>\n    </tr>\n    <tr>\n      <th>15233</th>\n      <td>Željko Rebrača</td>\n      <td>C</td>\n      <td>31</td>\n      <td>ATL</td>\n      <td>24</td>\n      <td>2</td>\n      <td>11.4</td>\n      <td>1.4</td>\n      <td>3.2</td>\n      <td>.442</td>\n      <td>...</td>\n      <td>0.3</td>\n      <td>0.2</td>\n      <td>0.5</td>\n      <td>0.7</td>\n      <td>2.2</td>\n      <td>3.8</td>\n      <td>2004</td>\n      <td>0.0</td>\n      <td>0.0</td>\n      <td>0.0</td>\n    </tr>\n    <tr>\n      <th>15234</th>\n      <td>Željko Rebrača</td>\n      <td>C</td>\n      <td>32</td>\n      <td>LAC</td>\n      <td>58</td>\n      <td>2</td>\n      <td>16.0</td>\n      <td>2.3</td>\n      <td>4.0</td>\n      <td>.568</td>\n      <td>...</td>\n      <td>0.4</td>\n      <td>0.2</td>\n      <td>0.7</td>\n      <td>0.8</td>\n      <td>2.2</td>\n      <td>5.8</td>\n      <td>2005</td>\n      <td>0.0</td>\n      <td>0.0</td>\n      <td>0.0</td>\n    </tr>\n    <tr>\n      <th>15235</th>\n      <td>Željko Rebrača</td>\n      <td>C</td>\n      <td>33</td>\n      <td>LAC</td>\n      <td>29</td>\n      <td>2</td>\n      <td>14.2</td>\n      <td>1.8</td>\n      <td>3.3</td>\n      <td>.542</td>\n      <td>...</td>\n      <td>0.3</td>\n      <td>0.2</td>\n      <td>0.7</td>\n      <td>0.8</td>\n      <td>2.0</td>\n      <td>4.7</td>\n      <td>2006</td>\n      <td>0.0</td>\n      <td>0.0</td>\n      <td>0.0</td>\n    </tr>\n  </tbody>\n</table>\n<p>15236 rows × 33 columns</p>\n</div>"
     },
     "execution_count": 54,
     "metadata": {},
     "output_type": "execute_result"
    }
   ],
   "source": [
    "combined"
   ],
   "metadata": {
    "collapsed": false,
    "ExecuteTime": {
     "end_time": "2023-07-18T06:17:30.338303Z",
     "start_time": "2023-07-18T06:17:30.316503Z"
    }
   }
  },
  {
   "cell_type": "code",
   "execution_count": 75,
   "outputs": [],
   "source": [
    "teams = pd.read_csv('teams.csv')"
   ],
   "metadata": {
    "collapsed": false,
    "ExecuteTime": {
     "end_time": "2023-07-18T07:41:46.385048Z",
     "start_time": "2023-07-18T07:41:46.374231Z"
    }
   }
  },
  {
   "cell_type": "code",
   "execution_count": 76,
   "outputs": [
    {
     "data": {
      "text/plain": "     Unnamed: 0   W   L   W/L%    GB   PS/G   PA/G   SRS  Year  \\\n0             0  56  26  0.683     —  111.5  105.7  5.22  1991   \n1             1  44  38  0.537  12.0  105.4  105.6 -0.39  1991   \n2             2  39  43  0.476  17.0  103.1  103.3 -0.43  1991   \n3             3  30  52  0.366  26.0  101.4  106.4 -4.84  1991   \n4             4  26  56  0.317  30.0  102.9  107.5 -4.53  1991   \n..          ...  ..  ..    ...   ...    ...    ...   ...   ...   \n961          10  51  31  0.622     —  116.9  113.0  3.60  2023   \n962          11  42  40  0.512   9.0  114.4  112.5  1.63  2023   \n963          12  38  44  0.463  13.0  114.2  114.1 -0.14  2023   \n964          13  22  60  0.268  29.0  110.7  118.6 -7.62  2023   \n965          14  22  60  0.268  29.0  113.0  123.1 -9.82  2023   \n\n                          Team  \n0              Boston Celtics*  \n1          Philadelphia 76ers*  \n2             New York Knicks*  \n3           Washington Bullets  \n4              New Jersey Nets  \n..                         ...  \n961     Memphis Grizzlies* (2)  \n962  New Orleans Pelicans* (9)  \n963      Dallas Mavericks (11)  \n964       Houston Rockets (14)  \n965     San Antonio Spurs (15)  \n\n[966 rows x 10 columns]",
      "text/html": "<div>\n<style scoped>\n    .dataframe tbody tr th:only-of-type {\n        vertical-align: middle;\n    }\n\n    .dataframe tbody tr th {\n        vertical-align: top;\n    }\n\n    .dataframe thead th {\n        text-align: right;\n    }\n</style>\n<table border=\"1\" class=\"dataframe\">\n  <thead>\n    <tr style=\"text-align: right;\">\n      <th></th>\n      <th>Unnamed: 0</th>\n      <th>W</th>\n      <th>L</th>\n      <th>W/L%</th>\n      <th>GB</th>\n      <th>PS/G</th>\n      <th>PA/G</th>\n      <th>SRS</th>\n      <th>Year</th>\n      <th>Team</th>\n    </tr>\n  </thead>\n  <tbody>\n    <tr>\n      <th>0</th>\n      <td>0</td>\n      <td>56</td>\n      <td>26</td>\n      <td>0.683</td>\n      <td>—</td>\n      <td>111.5</td>\n      <td>105.7</td>\n      <td>5.22</td>\n      <td>1991</td>\n      <td>Boston Celtics*</td>\n    </tr>\n    <tr>\n      <th>1</th>\n      <td>1</td>\n      <td>44</td>\n      <td>38</td>\n      <td>0.537</td>\n      <td>12.0</td>\n      <td>105.4</td>\n      <td>105.6</td>\n      <td>-0.39</td>\n      <td>1991</td>\n      <td>Philadelphia 76ers*</td>\n    </tr>\n    <tr>\n      <th>2</th>\n      <td>2</td>\n      <td>39</td>\n      <td>43</td>\n      <td>0.476</td>\n      <td>17.0</td>\n      <td>103.1</td>\n      <td>103.3</td>\n      <td>-0.43</td>\n      <td>1991</td>\n      <td>New York Knicks*</td>\n    </tr>\n    <tr>\n      <th>3</th>\n      <td>3</td>\n      <td>30</td>\n      <td>52</td>\n      <td>0.366</td>\n      <td>26.0</td>\n      <td>101.4</td>\n      <td>106.4</td>\n      <td>-4.84</td>\n      <td>1991</td>\n      <td>Washington Bullets</td>\n    </tr>\n    <tr>\n      <th>4</th>\n      <td>4</td>\n      <td>26</td>\n      <td>56</td>\n      <td>0.317</td>\n      <td>30.0</td>\n      <td>102.9</td>\n      <td>107.5</td>\n      <td>-4.53</td>\n      <td>1991</td>\n      <td>New Jersey Nets</td>\n    </tr>\n    <tr>\n      <th>...</th>\n      <td>...</td>\n      <td>...</td>\n      <td>...</td>\n      <td>...</td>\n      <td>...</td>\n      <td>...</td>\n      <td>...</td>\n      <td>...</td>\n      <td>...</td>\n      <td>...</td>\n    </tr>\n    <tr>\n      <th>961</th>\n      <td>10</td>\n      <td>51</td>\n      <td>31</td>\n      <td>0.622</td>\n      <td>—</td>\n      <td>116.9</td>\n      <td>113.0</td>\n      <td>3.60</td>\n      <td>2023</td>\n      <td>Memphis Grizzlies* (2)</td>\n    </tr>\n    <tr>\n      <th>962</th>\n      <td>11</td>\n      <td>42</td>\n      <td>40</td>\n      <td>0.512</td>\n      <td>9.0</td>\n      <td>114.4</td>\n      <td>112.5</td>\n      <td>1.63</td>\n      <td>2023</td>\n      <td>New Orleans Pelicans* (9)</td>\n    </tr>\n    <tr>\n      <th>963</th>\n      <td>12</td>\n      <td>38</td>\n      <td>44</td>\n      <td>0.463</td>\n      <td>13.0</td>\n      <td>114.2</td>\n      <td>114.1</td>\n      <td>-0.14</td>\n      <td>2023</td>\n      <td>Dallas Mavericks (11)</td>\n    </tr>\n    <tr>\n      <th>964</th>\n      <td>13</td>\n      <td>22</td>\n      <td>60</td>\n      <td>0.268</td>\n      <td>29.0</td>\n      <td>110.7</td>\n      <td>118.6</td>\n      <td>-7.62</td>\n      <td>2023</td>\n      <td>Houston Rockets (14)</td>\n    </tr>\n    <tr>\n      <th>965</th>\n      <td>14</td>\n      <td>22</td>\n      <td>60</td>\n      <td>0.268</td>\n      <td>29.0</td>\n      <td>113.0</td>\n      <td>123.1</td>\n      <td>-9.82</td>\n      <td>2023</td>\n      <td>San Antonio Spurs (15)</td>\n    </tr>\n  </tbody>\n</table>\n<p>966 rows × 10 columns</p>\n</div>"
     },
     "execution_count": 76,
     "metadata": {},
     "output_type": "execute_result"
    }
   ],
   "source": [
    "teams"
   ],
   "metadata": {
    "collapsed": false,
    "ExecuteTime": {
     "end_time": "2023-07-18T07:41:47.337921Z",
     "start_time": "2023-07-18T07:41:47.331133Z"
    }
   }
  },
  {
   "cell_type": "code",
   "execution_count": 77,
   "outputs": [
    {
     "data": {
      "text/plain": "    Unnamed: 0   W   L   W/L%    GB   PS/G   PA/G    SRS  Year  \\\n0            0  56  26  0.683     —  111.5  105.7   5.22  1991   \n1            1  44  38  0.537  12.0  105.4  105.6  -0.39  1991   \n2            2  39  43  0.476  17.0  103.1  103.3  -0.43  1991   \n3            3  30  52  0.366  26.0  101.4  106.4  -4.84  1991   \n4            4  26  56  0.317  30.0  102.9  107.5  -4.53  1991   \n5            5  24  58  0.293  32.0  101.8  107.8  -5.91  1991   \n6            6  61  21  0.744     —  110.0  101.0   8.57  1991   \n7            7  50  32  0.610  11.0  100.1   96.8   3.08  1991   \n8            8  48  34  0.585  13.0  106.4  104.0   2.33  1991   \n9            9  43  39  0.524  18.0  109.8  109.0   0.72  1991   \n10          10  41  41  0.500  20.0  111.7  112.1  -0.37  1991   \n11          11  33  49  0.402  28.0  101.7  104.2  -2.33  1991   \n12          12  26  56  0.317  35.0  102.8  108.0  -4.95  1991   \n13           0  55  27  0.671     —  107.1  102.6   4.30  1991   \n14           1  54  28  0.659   1.0  104.0  100.7   3.18  1991   \n15           2  52  30  0.634   3.0  106.7  103.2   3.27  1991   \n16           3  31  51  0.378  24.0  105.9  109.9  -3.79  1991   \n17           4  29  53  0.354  26.0   99.6  103.5  -3.75  1991   \n18           5  28  54  0.341  27.0   99.9  104.5  -4.27  1991   \n19           6  20  62  0.244  35.0  119.9  130.8 -10.31  1991   \n20           7  63  19  0.768     —  114.7  106.0   8.47  1991   \n21           8  58  24  0.707   5.0  106.3   99.6   6.73  1991   \n22           9  55  27  0.671   8.0  114.0  107.5   6.49  1991   \n23          10  44  38  0.537  19.0  116.6  115.0   1.72  1991   \n24          11  41  41  0.500  22.0  106.6  105.4   1.31  1991   \n25          12  31  51  0.378  32.0  103.5  107.0  -3.16  1991   \n26          13  25  57  0.305  38.0   96.7  103.5  -6.27  1991   \n27           0  51  31  0.622     —  106.6  103.0   3.41  1992   \n28           1  51  31  0.622     —  101.6   97.7   3.67  1992   \n29           2  40  42  0.488  11.0  105.4  107.1  -1.54  1992   \n\n                       Team  \n0           Boston Celtics*  \n1       Philadelphia 76ers*  \n2          New York Knicks*  \n3        Washington Bullets  \n4           New Jersey Nets  \n5                Miami Heat  \n6            Chicago Bulls*  \n7          Detroit Pistons*  \n8          Milwaukee Bucks*  \n9            Atlanta Hawks*  \n10          Indiana Pacers*  \n11      Cleveland Cavaliers  \n12        Charlotte Hornets  \n13       San Antonio Spurs*  \n14               Utah Jazz*  \n15         Houston Rockets*  \n16            Orlando Magic  \n17   Minnesota Timberwolves  \n18         Dallas Mavericks  \n19           Denver Nuggets  \n20  Portland Trail Blazers*  \n21      Los Angeles Lakers*  \n22            Phoenix Suns*  \n23   Golden State Warriors*  \n24     Seattle SuperSonics*  \n25     Los Angeles Clippers  \n26         Sacramento Kings  \n27          Boston Celtics*  \n28         New York Knicks*  \n29         New Jersey Nets*  ",
      "text/html": "<div>\n<style scoped>\n    .dataframe tbody tr th:only-of-type {\n        vertical-align: middle;\n    }\n\n    .dataframe tbody tr th {\n        vertical-align: top;\n    }\n\n    .dataframe thead th {\n        text-align: right;\n    }\n</style>\n<table border=\"1\" class=\"dataframe\">\n  <thead>\n    <tr style=\"text-align: right;\">\n      <th></th>\n      <th>Unnamed: 0</th>\n      <th>W</th>\n      <th>L</th>\n      <th>W/L%</th>\n      <th>GB</th>\n      <th>PS/G</th>\n      <th>PA/G</th>\n      <th>SRS</th>\n      <th>Year</th>\n      <th>Team</th>\n    </tr>\n  </thead>\n  <tbody>\n    <tr>\n      <th>0</th>\n      <td>0</td>\n      <td>56</td>\n      <td>26</td>\n      <td>0.683</td>\n      <td>—</td>\n      <td>111.5</td>\n      <td>105.7</td>\n      <td>5.22</td>\n      <td>1991</td>\n      <td>Boston Celtics*</td>\n    </tr>\n    <tr>\n      <th>1</th>\n      <td>1</td>\n      <td>44</td>\n      <td>38</td>\n      <td>0.537</td>\n      <td>12.0</td>\n      <td>105.4</td>\n      <td>105.6</td>\n      <td>-0.39</td>\n      <td>1991</td>\n      <td>Philadelphia 76ers*</td>\n    </tr>\n    <tr>\n      <th>2</th>\n      <td>2</td>\n      <td>39</td>\n      <td>43</td>\n      <td>0.476</td>\n      <td>17.0</td>\n      <td>103.1</td>\n      <td>103.3</td>\n      <td>-0.43</td>\n      <td>1991</td>\n      <td>New York Knicks*</td>\n    </tr>\n    <tr>\n      <th>3</th>\n      <td>3</td>\n      <td>30</td>\n      <td>52</td>\n      <td>0.366</td>\n      <td>26.0</td>\n      <td>101.4</td>\n      <td>106.4</td>\n      <td>-4.84</td>\n      <td>1991</td>\n      <td>Washington Bullets</td>\n    </tr>\n    <tr>\n      <th>4</th>\n      <td>4</td>\n      <td>26</td>\n      <td>56</td>\n      <td>0.317</td>\n      <td>30.0</td>\n      <td>102.9</td>\n      <td>107.5</td>\n      <td>-4.53</td>\n      <td>1991</td>\n      <td>New Jersey Nets</td>\n    </tr>\n    <tr>\n      <th>5</th>\n      <td>5</td>\n      <td>24</td>\n      <td>58</td>\n      <td>0.293</td>\n      <td>32.0</td>\n      <td>101.8</td>\n      <td>107.8</td>\n      <td>-5.91</td>\n      <td>1991</td>\n      <td>Miami Heat</td>\n    </tr>\n    <tr>\n      <th>6</th>\n      <td>6</td>\n      <td>61</td>\n      <td>21</td>\n      <td>0.744</td>\n      <td>—</td>\n      <td>110.0</td>\n      <td>101.0</td>\n      <td>8.57</td>\n      <td>1991</td>\n      <td>Chicago Bulls*</td>\n    </tr>\n    <tr>\n      <th>7</th>\n      <td>7</td>\n      <td>50</td>\n      <td>32</td>\n      <td>0.610</td>\n      <td>11.0</td>\n      <td>100.1</td>\n      <td>96.8</td>\n      <td>3.08</td>\n      <td>1991</td>\n      <td>Detroit Pistons*</td>\n    </tr>\n    <tr>\n      <th>8</th>\n      <td>8</td>\n      <td>48</td>\n      <td>34</td>\n      <td>0.585</td>\n      <td>13.0</td>\n      <td>106.4</td>\n      <td>104.0</td>\n      <td>2.33</td>\n      <td>1991</td>\n      <td>Milwaukee Bucks*</td>\n    </tr>\n    <tr>\n      <th>9</th>\n      <td>9</td>\n      <td>43</td>\n      <td>39</td>\n      <td>0.524</td>\n      <td>18.0</td>\n      <td>109.8</td>\n      <td>109.0</td>\n      <td>0.72</td>\n      <td>1991</td>\n      <td>Atlanta Hawks*</td>\n    </tr>\n    <tr>\n      <th>10</th>\n      <td>10</td>\n      <td>41</td>\n      <td>41</td>\n      <td>0.500</td>\n      <td>20.0</td>\n      <td>111.7</td>\n      <td>112.1</td>\n      <td>-0.37</td>\n      <td>1991</td>\n      <td>Indiana Pacers*</td>\n    </tr>\n    <tr>\n      <th>11</th>\n      <td>11</td>\n      <td>33</td>\n      <td>49</td>\n      <td>0.402</td>\n      <td>28.0</td>\n      <td>101.7</td>\n      <td>104.2</td>\n      <td>-2.33</td>\n      <td>1991</td>\n      <td>Cleveland Cavaliers</td>\n    </tr>\n    <tr>\n      <th>12</th>\n      <td>12</td>\n      <td>26</td>\n      <td>56</td>\n      <td>0.317</td>\n      <td>35.0</td>\n      <td>102.8</td>\n      <td>108.0</td>\n      <td>-4.95</td>\n      <td>1991</td>\n      <td>Charlotte Hornets</td>\n    </tr>\n    <tr>\n      <th>13</th>\n      <td>0</td>\n      <td>55</td>\n      <td>27</td>\n      <td>0.671</td>\n      <td>—</td>\n      <td>107.1</td>\n      <td>102.6</td>\n      <td>4.30</td>\n      <td>1991</td>\n      <td>San Antonio Spurs*</td>\n    </tr>\n    <tr>\n      <th>14</th>\n      <td>1</td>\n      <td>54</td>\n      <td>28</td>\n      <td>0.659</td>\n      <td>1.0</td>\n      <td>104.0</td>\n      <td>100.7</td>\n      <td>3.18</td>\n      <td>1991</td>\n      <td>Utah Jazz*</td>\n    </tr>\n    <tr>\n      <th>15</th>\n      <td>2</td>\n      <td>52</td>\n      <td>30</td>\n      <td>0.634</td>\n      <td>3.0</td>\n      <td>106.7</td>\n      <td>103.2</td>\n      <td>3.27</td>\n      <td>1991</td>\n      <td>Houston Rockets*</td>\n    </tr>\n    <tr>\n      <th>16</th>\n      <td>3</td>\n      <td>31</td>\n      <td>51</td>\n      <td>0.378</td>\n      <td>24.0</td>\n      <td>105.9</td>\n      <td>109.9</td>\n      <td>-3.79</td>\n      <td>1991</td>\n      <td>Orlando Magic</td>\n    </tr>\n    <tr>\n      <th>17</th>\n      <td>4</td>\n      <td>29</td>\n      <td>53</td>\n      <td>0.354</td>\n      <td>26.0</td>\n      <td>99.6</td>\n      <td>103.5</td>\n      <td>-3.75</td>\n      <td>1991</td>\n      <td>Minnesota Timberwolves</td>\n    </tr>\n    <tr>\n      <th>18</th>\n      <td>5</td>\n      <td>28</td>\n      <td>54</td>\n      <td>0.341</td>\n      <td>27.0</td>\n      <td>99.9</td>\n      <td>104.5</td>\n      <td>-4.27</td>\n      <td>1991</td>\n      <td>Dallas Mavericks</td>\n    </tr>\n    <tr>\n      <th>19</th>\n      <td>6</td>\n      <td>20</td>\n      <td>62</td>\n      <td>0.244</td>\n      <td>35.0</td>\n      <td>119.9</td>\n      <td>130.8</td>\n      <td>-10.31</td>\n      <td>1991</td>\n      <td>Denver Nuggets</td>\n    </tr>\n    <tr>\n      <th>20</th>\n      <td>7</td>\n      <td>63</td>\n      <td>19</td>\n      <td>0.768</td>\n      <td>—</td>\n      <td>114.7</td>\n      <td>106.0</td>\n      <td>8.47</td>\n      <td>1991</td>\n      <td>Portland Trail Blazers*</td>\n    </tr>\n    <tr>\n      <th>21</th>\n      <td>8</td>\n      <td>58</td>\n      <td>24</td>\n      <td>0.707</td>\n      <td>5.0</td>\n      <td>106.3</td>\n      <td>99.6</td>\n      <td>6.73</td>\n      <td>1991</td>\n      <td>Los Angeles Lakers*</td>\n    </tr>\n    <tr>\n      <th>22</th>\n      <td>9</td>\n      <td>55</td>\n      <td>27</td>\n      <td>0.671</td>\n      <td>8.0</td>\n      <td>114.0</td>\n      <td>107.5</td>\n      <td>6.49</td>\n      <td>1991</td>\n      <td>Phoenix Suns*</td>\n    </tr>\n    <tr>\n      <th>23</th>\n      <td>10</td>\n      <td>44</td>\n      <td>38</td>\n      <td>0.537</td>\n      <td>19.0</td>\n      <td>116.6</td>\n      <td>115.0</td>\n      <td>1.72</td>\n      <td>1991</td>\n      <td>Golden State Warriors*</td>\n    </tr>\n    <tr>\n      <th>24</th>\n      <td>11</td>\n      <td>41</td>\n      <td>41</td>\n      <td>0.500</td>\n      <td>22.0</td>\n      <td>106.6</td>\n      <td>105.4</td>\n      <td>1.31</td>\n      <td>1991</td>\n      <td>Seattle SuperSonics*</td>\n    </tr>\n    <tr>\n      <th>25</th>\n      <td>12</td>\n      <td>31</td>\n      <td>51</td>\n      <td>0.378</td>\n      <td>32.0</td>\n      <td>103.5</td>\n      <td>107.0</td>\n      <td>-3.16</td>\n      <td>1991</td>\n      <td>Los Angeles Clippers</td>\n    </tr>\n    <tr>\n      <th>26</th>\n      <td>13</td>\n      <td>25</td>\n      <td>57</td>\n      <td>0.305</td>\n      <td>38.0</td>\n      <td>96.7</td>\n      <td>103.5</td>\n      <td>-6.27</td>\n      <td>1991</td>\n      <td>Sacramento Kings</td>\n    </tr>\n    <tr>\n      <th>27</th>\n      <td>0</td>\n      <td>51</td>\n      <td>31</td>\n      <td>0.622</td>\n      <td>—</td>\n      <td>106.6</td>\n      <td>103.0</td>\n      <td>3.41</td>\n      <td>1992</td>\n      <td>Boston Celtics*</td>\n    </tr>\n    <tr>\n      <th>28</th>\n      <td>1</td>\n      <td>51</td>\n      <td>31</td>\n      <td>0.622</td>\n      <td>—</td>\n      <td>101.6</td>\n      <td>97.7</td>\n      <td>3.67</td>\n      <td>1992</td>\n      <td>New York Knicks*</td>\n    </tr>\n    <tr>\n      <th>29</th>\n      <td>2</td>\n      <td>40</td>\n      <td>42</td>\n      <td>0.488</td>\n      <td>11.0</td>\n      <td>105.4</td>\n      <td>107.1</td>\n      <td>-1.54</td>\n      <td>1992</td>\n      <td>New Jersey Nets*</td>\n    </tr>\n  </tbody>\n</table>\n</div>"
     },
     "execution_count": 77,
     "metadata": {},
     "output_type": "execute_result"
    }
   ],
   "source": [
    "teams.head(30)"
   ],
   "metadata": {
    "collapsed": false,
    "ExecuteTime": {
     "end_time": "2023-07-18T07:41:48.910027Z",
     "start_time": "2023-07-18T07:41:48.905615Z"
    }
   }
  },
  {
   "cell_type": "code",
   "execution_count": 78,
   "outputs": [],
   "source": [
    "teams['Team'] = teams['Team'].str.replace('*', '', regex=False)"
   ],
   "metadata": {
    "collapsed": false,
    "ExecuteTime": {
     "end_time": "2023-07-18T07:41:55.850274Z",
     "start_time": "2023-07-18T07:41:55.800740Z"
    }
   }
  },
  {
   "cell_type": "code",
   "execution_count": 79,
   "outputs": [
    {
     "data": {
      "text/plain": "     Unnamed: 0   W   L   W/L%    GB   PS/G   PA/G   SRS  Year  \\\n0             0  56  26  0.683     —  111.5  105.7  5.22  1991   \n1             1  44  38  0.537  12.0  105.4  105.6 -0.39  1991   \n2             2  39  43  0.476  17.0  103.1  103.3 -0.43  1991   \n3             3  30  52  0.366  26.0  101.4  106.4 -4.84  1991   \n4             4  26  56  0.317  30.0  102.9  107.5 -4.53  1991   \n..          ...  ..  ..    ...   ...    ...    ...   ...   ...   \n961          10  51  31  0.622     —  116.9  113.0  3.60  2023   \n962          11  42  40  0.512   9.0  114.4  112.5  1.63  2023   \n963          12  38  44  0.463  13.0  114.2  114.1 -0.14  2023   \n964          13  22  60  0.268  29.0  110.7  118.6 -7.62  2023   \n965          14  22  60  0.268  29.0  113.0  123.1 -9.82  2023   \n\n                         Team  \n0              Boston Celtics  \n1          Philadelphia 76ers  \n2             New York Knicks  \n3          Washington Bullets  \n4             New Jersey Nets  \n..                        ...  \n961     Memphis Grizzlies (2)  \n962  New Orleans Pelicans (9)  \n963     Dallas Mavericks (11)  \n964      Houston Rockets (14)  \n965    San Antonio Spurs (15)  \n\n[966 rows x 10 columns]",
      "text/html": "<div>\n<style scoped>\n    .dataframe tbody tr th:only-of-type {\n        vertical-align: middle;\n    }\n\n    .dataframe tbody tr th {\n        vertical-align: top;\n    }\n\n    .dataframe thead th {\n        text-align: right;\n    }\n</style>\n<table border=\"1\" class=\"dataframe\">\n  <thead>\n    <tr style=\"text-align: right;\">\n      <th></th>\n      <th>Unnamed: 0</th>\n      <th>W</th>\n      <th>L</th>\n      <th>W/L%</th>\n      <th>GB</th>\n      <th>PS/G</th>\n      <th>PA/G</th>\n      <th>SRS</th>\n      <th>Year</th>\n      <th>Team</th>\n    </tr>\n  </thead>\n  <tbody>\n    <tr>\n      <th>0</th>\n      <td>0</td>\n      <td>56</td>\n      <td>26</td>\n      <td>0.683</td>\n      <td>—</td>\n      <td>111.5</td>\n      <td>105.7</td>\n      <td>5.22</td>\n      <td>1991</td>\n      <td>Boston Celtics</td>\n    </tr>\n    <tr>\n      <th>1</th>\n      <td>1</td>\n      <td>44</td>\n      <td>38</td>\n      <td>0.537</td>\n      <td>12.0</td>\n      <td>105.4</td>\n      <td>105.6</td>\n      <td>-0.39</td>\n      <td>1991</td>\n      <td>Philadelphia 76ers</td>\n    </tr>\n    <tr>\n      <th>2</th>\n      <td>2</td>\n      <td>39</td>\n      <td>43</td>\n      <td>0.476</td>\n      <td>17.0</td>\n      <td>103.1</td>\n      <td>103.3</td>\n      <td>-0.43</td>\n      <td>1991</td>\n      <td>New York Knicks</td>\n    </tr>\n    <tr>\n      <th>3</th>\n      <td>3</td>\n      <td>30</td>\n      <td>52</td>\n      <td>0.366</td>\n      <td>26.0</td>\n      <td>101.4</td>\n      <td>106.4</td>\n      <td>-4.84</td>\n      <td>1991</td>\n      <td>Washington Bullets</td>\n    </tr>\n    <tr>\n      <th>4</th>\n      <td>4</td>\n      <td>26</td>\n      <td>56</td>\n      <td>0.317</td>\n      <td>30.0</td>\n      <td>102.9</td>\n      <td>107.5</td>\n      <td>-4.53</td>\n      <td>1991</td>\n      <td>New Jersey Nets</td>\n    </tr>\n    <tr>\n      <th>...</th>\n      <td>...</td>\n      <td>...</td>\n      <td>...</td>\n      <td>...</td>\n      <td>...</td>\n      <td>...</td>\n      <td>...</td>\n      <td>...</td>\n      <td>...</td>\n      <td>...</td>\n    </tr>\n    <tr>\n      <th>961</th>\n      <td>10</td>\n      <td>51</td>\n      <td>31</td>\n      <td>0.622</td>\n      <td>—</td>\n      <td>116.9</td>\n      <td>113.0</td>\n      <td>3.60</td>\n      <td>2023</td>\n      <td>Memphis Grizzlies (2)</td>\n    </tr>\n    <tr>\n      <th>962</th>\n      <td>11</td>\n      <td>42</td>\n      <td>40</td>\n      <td>0.512</td>\n      <td>9.0</td>\n      <td>114.4</td>\n      <td>112.5</td>\n      <td>1.63</td>\n      <td>2023</td>\n      <td>New Orleans Pelicans (9)</td>\n    </tr>\n    <tr>\n      <th>963</th>\n      <td>12</td>\n      <td>38</td>\n      <td>44</td>\n      <td>0.463</td>\n      <td>13.0</td>\n      <td>114.2</td>\n      <td>114.1</td>\n      <td>-0.14</td>\n      <td>2023</td>\n      <td>Dallas Mavericks (11)</td>\n    </tr>\n    <tr>\n      <th>964</th>\n      <td>13</td>\n      <td>22</td>\n      <td>60</td>\n      <td>0.268</td>\n      <td>29.0</td>\n      <td>110.7</td>\n      <td>118.6</td>\n      <td>-7.62</td>\n      <td>2023</td>\n      <td>Houston Rockets (14)</td>\n    </tr>\n    <tr>\n      <th>965</th>\n      <td>14</td>\n      <td>22</td>\n      <td>60</td>\n      <td>0.268</td>\n      <td>29.0</td>\n      <td>113.0</td>\n      <td>123.1</td>\n      <td>-9.82</td>\n      <td>2023</td>\n      <td>San Antonio Spurs (15)</td>\n    </tr>\n  </tbody>\n</table>\n<p>966 rows × 10 columns</p>\n</div>"
     },
     "execution_count": 79,
     "metadata": {},
     "output_type": "execute_result"
    }
   ],
   "source": [
    "teams"
   ],
   "metadata": {
    "collapsed": false,
    "ExecuteTime": {
     "end_time": "2023-07-18T07:42:01.821159Z",
     "start_time": "2023-07-18T07:42:01.803720Z"
    }
   }
  },
  {
   "cell_type": "code",
   "execution_count": 80,
   "outputs": [],
   "source": [
    "nicknames = {}\n",
    "\n",
    "with open('nicknames.csv') as f:\n",
    "    lines = f.readlines()\n",
    "    for line in lines[1:]:\n",
    "        abbrev, name = line.replace('\\n', '').split(',')\n",
    "        nicknames[abbrev] = name"
   ],
   "metadata": {
    "collapsed": false,
    "ExecuteTime": {
     "end_time": "2023-07-18T07:42:09.465556Z",
     "start_time": "2023-07-18T07:42:09.460553Z"
    }
   }
  },
  {
   "cell_type": "code",
   "execution_count": 81,
   "outputs": [
    {
     "data": {
      "text/plain": "{'ATL': 'Atlanta Hawks',\n 'BRK': 'Brooklyn Nets',\n 'BKN': 'Brooklyn Nets',\n 'BOS': 'Boston Celtics',\n 'CHA': 'Charlotte Bobcats',\n 'CHH': 'Charlotte Hornets',\n 'CHO': 'Charlotte Hornets',\n 'CHI': 'Chicago Bulls',\n 'CLE': 'Cleveland Cavaliers',\n 'DAL': 'Dallas Mavericks',\n 'DEN': 'Denver Nuggets',\n 'DET': 'Detroit Pistons',\n 'GSW': 'Golden State Warriors',\n 'HOU': 'Houston Rockets',\n 'IND': 'Indiana Pacers',\n 'LAC': 'Los Angeles Clippers',\n 'LAL': 'Los Angeles Lakers',\n 'MEM': 'Memphis Grizzlies',\n 'MIA': 'Miami Heat',\n 'MIL': 'Milwaukee Bucks',\n 'MIN': 'Minnesota Timberwolves',\n 'NJN': 'New Jersey Nets',\n 'NOH': 'New Orleans Hornets',\n 'NOP': 'New Orleans Pelicans',\n 'NOK': 'New Orleans/Oklahoma City Hornets',\n 'NYK': 'New York Knicks',\n 'OKC': 'Oklahoma City Thunder',\n 'ORL': 'Orlando Magic',\n 'PHI': 'Philadelphia 76ers',\n 'PHX': 'Phoenix Suns',\n 'PHO': 'Phoenix Suns',\n 'POR': 'Portland Trail Blazers',\n 'SEA': 'Seattle SuperSonics',\n 'SAC': 'Sacramento Kings',\n 'SAS': 'San Antonio Spurs',\n 'TOR': 'Toronto Raptors',\n 'UTA': 'Utah Jazz',\n 'VAN': 'Vancouver Grizzlies',\n 'WAS': 'Washington Wizards',\n 'WSB': 'Washington Bullets'}"
     },
     "execution_count": 81,
     "metadata": {},
     "output_type": "execute_result"
    }
   ],
   "source": [
    "nicknames"
   ],
   "metadata": {
    "collapsed": false,
    "ExecuteTime": {
     "end_time": "2023-07-18T07:42:10.550200Z",
     "start_time": "2023-07-18T07:42:10.540700Z"
    }
   }
  },
  {
   "cell_type": "code",
   "execution_count": 82,
   "outputs": [],
   "source": [
    "combined['Team'] = combined['Tm'].map(nicknames)"
   ],
   "metadata": {
    "collapsed": false,
    "ExecuteTime": {
     "end_time": "2023-07-18T07:47:26.217028Z",
     "start_time": "2023-07-18T07:47:26.211467Z"
    }
   }
  },
  {
   "cell_type": "code",
   "execution_count": 83,
   "outputs": [
    {
     "data": {
      "text/plain": "               Player Pos Age   Tm   G  GS    MP   FG   FGA   FG%  ...  STL  \\\n0          A.C. Green  PF  27  LAL  82  21  26.4  3.1   6.6  .476  ...  0.7   \n1          A.C. Green  PF  28  LAL  82  53  35.4  4.7   9.8  .476  ...  1.1   \n2          A.C. Green  PF  29  LAL  82  55  34.4  4.6   8.6  .537  ...  1.1   \n3          A.C. Green  PF  30  PHO  82  55  34.5  5.7  11.3  .502  ...  0.9   \n4          A.C. Green  SF  31  PHO  82  52  32.8  3.8   7.5  .504  ...  0.7   \n...               ...  ..  ..  ...  ..  ..   ...  ...   ...   ...  ...  ...   \n15231  Željko Rebrača   C  29  DET  74   4  15.9  2.6   5.1  .505  ...  0.4   \n15232  Željko Rebrača   C  30  DET  30  12  16.3  2.7   4.8  .552  ...  0.2   \n15233  Željko Rebrača   C  31  ATL  24   2  11.4  1.4   3.2  .442  ...  0.2   \n15234  Željko Rebrača   C  32  LAC  58   2  16.0  2.3   4.0  .568  ...  0.2   \n15235  Željko Rebrača   C  33  LAC  29   2  14.2  1.8   3.3  .542  ...  0.2   \n\n       BLK  TOV   PF   PTS  Year Pts Won Pts Max Share                  Team  \n0      0.3  1.2  1.4   9.1  1991     0.0     0.0   0.0    Los Angeles Lakers  \n1      0.4  1.4  1.7  13.6  1992     0.0     0.0   0.0    Los Angeles Lakers  \n2      0.5  1.4  1.8  12.8  1993     0.0     0.0   0.0    Los Angeles Lakers  \n3      0.5  1.2  1.7  14.7  1994     0.0     0.0   0.0          Phoenix Suns  \n4      0.4  1.4  1.8  11.2  1995     0.0     0.0   0.0          Phoenix Suns  \n...    ...  ...  ...   ...   ...     ...     ...   ...                   ...  \n15231  1.0  1.1  2.6   6.9  2002     0.0     0.0   0.0       Detroit Pistons  \n15232  0.6  1.0  2.6   6.6  2003     0.0     0.0   0.0       Detroit Pistons  \n15233  0.5  0.7  2.2   3.8  2004     0.0     0.0   0.0         Atlanta Hawks  \n15234  0.7  0.8  2.2   5.8  2005     0.0     0.0   0.0  Los Angeles Clippers  \n15235  0.7  0.8  2.0   4.7  2006     0.0     0.0   0.0  Los Angeles Clippers  \n\n[15236 rows x 34 columns]",
      "text/html": "<div>\n<style scoped>\n    .dataframe tbody tr th:only-of-type {\n        vertical-align: middle;\n    }\n\n    .dataframe tbody tr th {\n        vertical-align: top;\n    }\n\n    .dataframe thead th {\n        text-align: right;\n    }\n</style>\n<table border=\"1\" class=\"dataframe\">\n  <thead>\n    <tr style=\"text-align: right;\">\n      <th></th>\n      <th>Player</th>\n      <th>Pos</th>\n      <th>Age</th>\n      <th>Tm</th>\n      <th>G</th>\n      <th>GS</th>\n      <th>MP</th>\n      <th>FG</th>\n      <th>FGA</th>\n      <th>FG%</th>\n      <th>...</th>\n      <th>STL</th>\n      <th>BLK</th>\n      <th>TOV</th>\n      <th>PF</th>\n      <th>PTS</th>\n      <th>Year</th>\n      <th>Pts Won</th>\n      <th>Pts Max</th>\n      <th>Share</th>\n      <th>Team</th>\n    </tr>\n  </thead>\n  <tbody>\n    <tr>\n      <th>0</th>\n      <td>A.C. Green</td>\n      <td>PF</td>\n      <td>27</td>\n      <td>LAL</td>\n      <td>82</td>\n      <td>21</td>\n      <td>26.4</td>\n      <td>3.1</td>\n      <td>6.6</td>\n      <td>.476</td>\n      <td>...</td>\n      <td>0.7</td>\n      <td>0.3</td>\n      <td>1.2</td>\n      <td>1.4</td>\n      <td>9.1</td>\n      <td>1991</td>\n      <td>0.0</td>\n      <td>0.0</td>\n      <td>0.0</td>\n      <td>Los Angeles Lakers</td>\n    </tr>\n    <tr>\n      <th>1</th>\n      <td>A.C. Green</td>\n      <td>PF</td>\n      <td>28</td>\n      <td>LAL</td>\n      <td>82</td>\n      <td>53</td>\n      <td>35.4</td>\n      <td>4.7</td>\n      <td>9.8</td>\n      <td>.476</td>\n      <td>...</td>\n      <td>1.1</td>\n      <td>0.4</td>\n      <td>1.4</td>\n      <td>1.7</td>\n      <td>13.6</td>\n      <td>1992</td>\n      <td>0.0</td>\n      <td>0.0</td>\n      <td>0.0</td>\n      <td>Los Angeles Lakers</td>\n    </tr>\n    <tr>\n      <th>2</th>\n      <td>A.C. Green</td>\n      <td>PF</td>\n      <td>29</td>\n      <td>LAL</td>\n      <td>82</td>\n      <td>55</td>\n      <td>34.4</td>\n      <td>4.6</td>\n      <td>8.6</td>\n      <td>.537</td>\n      <td>...</td>\n      <td>1.1</td>\n      <td>0.5</td>\n      <td>1.4</td>\n      <td>1.8</td>\n      <td>12.8</td>\n      <td>1993</td>\n      <td>0.0</td>\n      <td>0.0</td>\n      <td>0.0</td>\n      <td>Los Angeles Lakers</td>\n    </tr>\n    <tr>\n      <th>3</th>\n      <td>A.C. Green</td>\n      <td>PF</td>\n      <td>30</td>\n      <td>PHO</td>\n      <td>82</td>\n      <td>55</td>\n      <td>34.5</td>\n      <td>5.7</td>\n      <td>11.3</td>\n      <td>.502</td>\n      <td>...</td>\n      <td>0.9</td>\n      <td>0.5</td>\n      <td>1.2</td>\n      <td>1.7</td>\n      <td>14.7</td>\n      <td>1994</td>\n      <td>0.0</td>\n      <td>0.0</td>\n      <td>0.0</td>\n      <td>Phoenix Suns</td>\n    </tr>\n    <tr>\n      <th>4</th>\n      <td>A.C. Green</td>\n      <td>SF</td>\n      <td>31</td>\n      <td>PHO</td>\n      <td>82</td>\n      <td>52</td>\n      <td>32.8</td>\n      <td>3.8</td>\n      <td>7.5</td>\n      <td>.504</td>\n      <td>...</td>\n      <td>0.7</td>\n      <td>0.4</td>\n      <td>1.4</td>\n      <td>1.8</td>\n      <td>11.2</td>\n      <td>1995</td>\n      <td>0.0</td>\n      <td>0.0</td>\n      <td>0.0</td>\n      <td>Phoenix Suns</td>\n    </tr>\n    <tr>\n      <th>...</th>\n      <td>...</td>\n      <td>...</td>\n      <td>...</td>\n      <td>...</td>\n      <td>...</td>\n      <td>...</td>\n      <td>...</td>\n      <td>...</td>\n      <td>...</td>\n      <td>...</td>\n      <td>...</td>\n      <td>...</td>\n      <td>...</td>\n      <td>...</td>\n      <td>...</td>\n      <td>...</td>\n      <td>...</td>\n      <td>...</td>\n      <td>...</td>\n      <td>...</td>\n      <td>...</td>\n    </tr>\n    <tr>\n      <th>15231</th>\n      <td>Željko Rebrača</td>\n      <td>C</td>\n      <td>29</td>\n      <td>DET</td>\n      <td>74</td>\n      <td>4</td>\n      <td>15.9</td>\n      <td>2.6</td>\n      <td>5.1</td>\n      <td>.505</td>\n      <td>...</td>\n      <td>0.4</td>\n      <td>1.0</td>\n      <td>1.1</td>\n      <td>2.6</td>\n      <td>6.9</td>\n      <td>2002</td>\n      <td>0.0</td>\n      <td>0.0</td>\n      <td>0.0</td>\n      <td>Detroit Pistons</td>\n    </tr>\n    <tr>\n      <th>15232</th>\n      <td>Željko Rebrača</td>\n      <td>C</td>\n      <td>30</td>\n      <td>DET</td>\n      <td>30</td>\n      <td>12</td>\n      <td>16.3</td>\n      <td>2.7</td>\n      <td>4.8</td>\n      <td>.552</td>\n      <td>...</td>\n      <td>0.2</td>\n      <td>0.6</td>\n      <td>1.0</td>\n      <td>2.6</td>\n      <td>6.6</td>\n      <td>2003</td>\n      <td>0.0</td>\n      <td>0.0</td>\n      <td>0.0</td>\n      <td>Detroit Pistons</td>\n    </tr>\n    <tr>\n      <th>15233</th>\n      <td>Željko Rebrača</td>\n      <td>C</td>\n      <td>31</td>\n      <td>ATL</td>\n      <td>24</td>\n      <td>2</td>\n      <td>11.4</td>\n      <td>1.4</td>\n      <td>3.2</td>\n      <td>.442</td>\n      <td>...</td>\n      <td>0.2</td>\n      <td>0.5</td>\n      <td>0.7</td>\n      <td>2.2</td>\n      <td>3.8</td>\n      <td>2004</td>\n      <td>0.0</td>\n      <td>0.0</td>\n      <td>0.0</td>\n      <td>Atlanta Hawks</td>\n    </tr>\n    <tr>\n      <th>15234</th>\n      <td>Željko Rebrača</td>\n      <td>C</td>\n      <td>32</td>\n      <td>LAC</td>\n      <td>58</td>\n      <td>2</td>\n      <td>16.0</td>\n      <td>2.3</td>\n      <td>4.0</td>\n      <td>.568</td>\n      <td>...</td>\n      <td>0.2</td>\n      <td>0.7</td>\n      <td>0.8</td>\n      <td>2.2</td>\n      <td>5.8</td>\n      <td>2005</td>\n      <td>0.0</td>\n      <td>0.0</td>\n      <td>0.0</td>\n      <td>Los Angeles Clippers</td>\n    </tr>\n    <tr>\n      <th>15235</th>\n      <td>Željko Rebrača</td>\n      <td>C</td>\n      <td>33</td>\n      <td>LAC</td>\n      <td>29</td>\n      <td>2</td>\n      <td>14.2</td>\n      <td>1.8</td>\n      <td>3.3</td>\n      <td>.542</td>\n      <td>...</td>\n      <td>0.2</td>\n      <td>0.7</td>\n      <td>0.8</td>\n      <td>2.0</td>\n      <td>4.7</td>\n      <td>2006</td>\n      <td>0.0</td>\n      <td>0.0</td>\n      <td>0.0</td>\n      <td>Los Angeles Clippers</td>\n    </tr>\n  </tbody>\n</table>\n<p>15236 rows × 34 columns</p>\n</div>"
     },
     "execution_count": 83,
     "metadata": {},
     "output_type": "execute_result"
    }
   ],
   "source": [
    "combined"
   ],
   "metadata": {
    "collapsed": false,
    "ExecuteTime": {
     "end_time": "2023-07-18T07:47:31.404934Z",
     "start_time": "2023-07-18T07:47:31.355458Z"
    }
   }
  },
  {
   "cell_type": "code",
   "execution_count": 84,
   "outputs": [
    {
     "data": {
      "text/plain": "Team\nCleveland Cavaliers                  539\nDallas Mavericks                     535\nPhiladelphia 76ers                   532\nMiami Heat                           529\nLos Angeles Clippers                 528\nGolden State Warriors                525\nAtlanta Hawks                        524\nHouston Rockets                      520\nBoston Celtics                       519\nSan Antonio Spurs                    518\nDenver Nuggets                       517\nOrlando Magic                        513\nLos Angeles Lakers                   513\nIndiana Pacers                       512\nMilwaukee Bucks                      512\nChicago Bulls                        510\nPortland Trail Blazers               506\nSacramento Kings                     506\nUtah Jazz                            505\nDetroit Pistons                      505\nNew York Knicks                      503\nPhoenix Suns                         502\nMinnesota Timberwolves               500\nToronto Raptors                      460\nWashington Wizards                   431\nMemphis Grizzlies                    371\nNew Jersey Nets                      343\nCharlotte Hornets                    324\nSeattle SuperSonics                  263\nOklahoma City Thunder                256\nBrooklyn Nets                        202\nNew Orleans Pelicans                 179\nCharlotte Bobcats                    157\nNew Orleans Hornets                  143\nWashington Bullets                   114\nVancouver Grizzlies                   88\nNew Orleans/Oklahoma City Hornets     32\nName: count, dtype: int64"
     },
     "execution_count": 84,
     "metadata": {},
     "output_type": "execute_result"
    }
   ],
   "source": [
    "combined['Team'].value_counts()"
   ],
   "metadata": {
    "collapsed": false,
    "ExecuteTime": {
     "end_time": "2023-07-18T07:49:20.029715Z",
     "start_time": "2023-07-18T07:49:20.023468Z"
    }
   }
  },
  {
   "cell_type": "code",
   "execution_count": 85,
   "outputs": [],
   "source": [
    "stats = combined.merge(teams, how='outer', on=['Team', 'Year'])"
   ],
   "metadata": {
    "collapsed": false,
    "ExecuteTime": {
     "end_time": "2023-07-18T07:51:52.405403Z",
     "start_time": "2023-07-18T07:51:52.373130Z"
    }
   }
  },
  {
   "cell_type": "code",
   "execution_count": 86,
   "outputs": [
    {
     "data": {
      "text/plain": "               Player  Pos  Age   Tm    G   GS    MP   FG   FGA   FG%  ...  \\\n0          A.C. Green   PF   27  LAL   82   21  26.4  3.1   6.6  .476  ...   \n1         Byron Scott   SG   29  LAL   82   82  32.1  6.1  12.8  .477  ...   \n2      Elden Campbell   PF   22  LAL   52    0   7.3  1.1   2.4  .455  ...   \n3       Irving Thomas   PF   25  LAL   26    0   4.2  0.7   1.9  .340  ...   \n4        James Worthy   SF   29  LAL   78   74  38.6  9.2  18.7  .492  ...   \n...               ...  ...  ...  ...  ...  ...   ...  ...   ...   ...  ...   \n15261             NaN  NaN  NaN  NaN  NaN  NaN   NaN  NaN   NaN   NaN  ...   \n15262             NaN  NaN  NaN  NaN  NaN  NaN   NaN  NaN   NaN   NaN  ...   \n15263             NaN  NaN  NaN  NaN  NaN  NaN   NaN  NaN   NaN   NaN  ...   \n15264             NaN  NaN  NaN  NaN  NaN  NaN   NaN  NaN   NaN   NaN  ...   \n15265             NaN  NaN  NaN  NaN  NaN  NaN   NaN  NaN   NaN   NaN  ...   \n\n      Share                      Team Unnamed: 0     W     L   W/L%    GB  \\\n0       0.0        Los Angeles Lakers        8.0  58.0  24.0  0.707   5.0   \n1       0.0        Los Angeles Lakers        8.0  58.0  24.0  0.707   5.0   \n2       0.0        Los Angeles Lakers        8.0  58.0  24.0  0.707   5.0   \n3       0.0        Los Angeles Lakers        8.0  58.0  24.0  0.707   5.0   \n4       0.0        Los Angeles Lakers        8.0  58.0  24.0  0.707   5.0   \n...     ...                       ...        ...   ...   ...    ...   ...   \n15261   NaN     Memphis Grizzlies (2)       10.0  51.0  31.0  0.622     —   \n15262   NaN  New Orleans Pelicans (9)       11.0  42.0  40.0  0.512   9.0   \n15263   NaN     Dallas Mavericks (11)       12.0  38.0  44.0  0.463  13.0   \n15264   NaN      Houston Rockets (14)       13.0  22.0  60.0  0.268  29.0   \n15265   NaN    San Antonio Spurs (15)       14.0  22.0  60.0  0.268  29.0   \n\n        PS/G   PA/G   SRS  \n0      106.3   99.6  6.73  \n1      106.3   99.6  6.73  \n2      106.3   99.6  6.73  \n3      106.3   99.6  6.73  \n4      106.3   99.6  6.73  \n...      ...    ...   ...  \n15261  116.9  113.0  3.60  \n15262  114.4  112.5  1.63  \n15263  114.2  114.1 -0.14  \n15264  110.7  118.6 -7.62  \n15265  113.0  123.1 -9.82  \n\n[15266 rows x 42 columns]",
      "text/html": "<div>\n<style scoped>\n    .dataframe tbody tr th:only-of-type {\n        vertical-align: middle;\n    }\n\n    .dataframe tbody tr th {\n        vertical-align: top;\n    }\n\n    .dataframe thead th {\n        text-align: right;\n    }\n</style>\n<table border=\"1\" class=\"dataframe\">\n  <thead>\n    <tr style=\"text-align: right;\">\n      <th></th>\n      <th>Player</th>\n      <th>Pos</th>\n      <th>Age</th>\n      <th>Tm</th>\n      <th>G</th>\n      <th>GS</th>\n      <th>MP</th>\n      <th>FG</th>\n      <th>FGA</th>\n      <th>FG%</th>\n      <th>...</th>\n      <th>Share</th>\n      <th>Team</th>\n      <th>Unnamed: 0</th>\n      <th>W</th>\n      <th>L</th>\n      <th>W/L%</th>\n      <th>GB</th>\n      <th>PS/G</th>\n      <th>PA/G</th>\n      <th>SRS</th>\n    </tr>\n  </thead>\n  <tbody>\n    <tr>\n      <th>0</th>\n      <td>A.C. Green</td>\n      <td>PF</td>\n      <td>27</td>\n      <td>LAL</td>\n      <td>82</td>\n      <td>21</td>\n      <td>26.4</td>\n      <td>3.1</td>\n      <td>6.6</td>\n      <td>.476</td>\n      <td>...</td>\n      <td>0.0</td>\n      <td>Los Angeles Lakers</td>\n      <td>8.0</td>\n      <td>58.0</td>\n      <td>24.0</td>\n      <td>0.707</td>\n      <td>5.0</td>\n      <td>106.3</td>\n      <td>99.6</td>\n      <td>6.73</td>\n    </tr>\n    <tr>\n      <th>1</th>\n      <td>Byron Scott</td>\n      <td>SG</td>\n      <td>29</td>\n      <td>LAL</td>\n      <td>82</td>\n      <td>82</td>\n      <td>32.1</td>\n      <td>6.1</td>\n      <td>12.8</td>\n      <td>.477</td>\n      <td>...</td>\n      <td>0.0</td>\n      <td>Los Angeles Lakers</td>\n      <td>8.0</td>\n      <td>58.0</td>\n      <td>24.0</td>\n      <td>0.707</td>\n      <td>5.0</td>\n      <td>106.3</td>\n      <td>99.6</td>\n      <td>6.73</td>\n    </tr>\n    <tr>\n      <th>2</th>\n      <td>Elden Campbell</td>\n      <td>PF</td>\n      <td>22</td>\n      <td>LAL</td>\n      <td>52</td>\n      <td>0</td>\n      <td>7.3</td>\n      <td>1.1</td>\n      <td>2.4</td>\n      <td>.455</td>\n      <td>...</td>\n      <td>0.0</td>\n      <td>Los Angeles Lakers</td>\n      <td>8.0</td>\n      <td>58.0</td>\n      <td>24.0</td>\n      <td>0.707</td>\n      <td>5.0</td>\n      <td>106.3</td>\n      <td>99.6</td>\n      <td>6.73</td>\n    </tr>\n    <tr>\n      <th>3</th>\n      <td>Irving Thomas</td>\n      <td>PF</td>\n      <td>25</td>\n      <td>LAL</td>\n      <td>26</td>\n      <td>0</td>\n      <td>4.2</td>\n      <td>0.7</td>\n      <td>1.9</td>\n      <td>.340</td>\n      <td>...</td>\n      <td>0.0</td>\n      <td>Los Angeles Lakers</td>\n      <td>8.0</td>\n      <td>58.0</td>\n      <td>24.0</td>\n      <td>0.707</td>\n      <td>5.0</td>\n      <td>106.3</td>\n      <td>99.6</td>\n      <td>6.73</td>\n    </tr>\n    <tr>\n      <th>4</th>\n      <td>James Worthy</td>\n      <td>SF</td>\n      <td>29</td>\n      <td>LAL</td>\n      <td>78</td>\n      <td>74</td>\n      <td>38.6</td>\n      <td>9.2</td>\n      <td>18.7</td>\n      <td>.492</td>\n      <td>...</td>\n      <td>0.0</td>\n      <td>Los Angeles Lakers</td>\n      <td>8.0</td>\n      <td>58.0</td>\n      <td>24.0</td>\n      <td>0.707</td>\n      <td>5.0</td>\n      <td>106.3</td>\n      <td>99.6</td>\n      <td>6.73</td>\n    </tr>\n    <tr>\n      <th>...</th>\n      <td>...</td>\n      <td>...</td>\n      <td>...</td>\n      <td>...</td>\n      <td>...</td>\n      <td>...</td>\n      <td>...</td>\n      <td>...</td>\n      <td>...</td>\n      <td>...</td>\n      <td>...</td>\n      <td>...</td>\n      <td>...</td>\n      <td>...</td>\n      <td>...</td>\n      <td>...</td>\n      <td>...</td>\n      <td>...</td>\n      <td>...</td>\n      <td>...</td>\n      <td>...</td>\n    </tr>\n    <tr>\n      <th>15261</th>\n      <td>NaN</td>\n      <td>NaN</td>\n      <td>NaN</td>\n      <td>NaN</td>\n      <td>NaN</td>\n      <td>NaN</td>\n      <td>NaN</td>\n      <td>NaN</td>\n      <td>NaN</td>\n      <td>NaN</td>\n      <td>...</td>\n      <td>NaN</td>\n      <td>Memphis Grizzlies (2)</td>\n      <td>10.0</td>\n      <td>51.0</td>\n      <td>31.0</td>\n      <td>0.622</td>\n      <td>—</td>\n      <td>116.9</td>\n      <td>113.0</td>\n      <td>3.60</td>\n    </tr>\n    <tr>\n      <th>15262</th>\n      <td>NaN</td>\n      <td>NaN</td>\n      <td>NaN</td>\n      <td>NaN</td>\n      <td>NaN</td>\n      <td>NaN</td>\n      <td>NaN</td>\n      <td>NaN</td>\n      <td>NaN</td>\n      <td>NaN</td>\n      <td>...</td>\n      <td>NaN</td>\n      <td>New Orleans Pelicans (9)</td>\n      <td>11.0</td>\n      <td>42.0</td>\n      <td>40.0</td>\n      <td>0.512</td>\n      <td>9.0</td>\n      <td>114.4</td>\n      <td>112.5</td>\n      <td>1.63</td>\n    </tr>\n    <tr>\n      <th>15263</th>\n      <td>NaN</td>\n      <td>NaN</td>\n      <td>NaN</td>\n      <td>NaN</td>\n      <td>NaN</td>\n      <td>NaN</td>\n      <td>NaN</td>\n      <td>NaN</td>\n      <td>NaN</td>\n      <td>NaN</td>\n      <td>...</td>\n      <td>NaN</td>\n      <td>Dallas Mavericks (11)</td>\n      <td>12.0</td>\n      <td>38.0</td>\n      <td>44.0</td>\n      <td>0.463</td>\n      <td>13.0</td>\n      <td>114.2</td>\n      <td>114.1</td>\n      <td>-0.14</td>\n    </tr>\n    <tr>\n      <th>15264</th>\n      <td>NaN</td>\n      <td>NaN</td>\n      <td>NaN</td>\n      <td>NaN</td>\n      <td>NaN</td>\n      <td>NaN</td>\n      <td>NaN</td>\n      <td>NaN</td>\n      <td>NaN</td>\n      <td>NaN</td>\n      <td>...</td>\n      <td>NaN</td>\n      <td>Houston Rockets (14)</td>\n      <td>13.0</td>\n      <td>22.0</td>\n      <td>60.0</td>\n      <td>0.268</td>\n      <td>29.0</td>\n      <td>110.7</td>\n      <td>118.6</td>\n      <td>-7.62</td>\n    </tr>\n    <tr>\n      <th>15265</th>\n      <td>NaN</td>\n      <td>NaN</td>\n      <td>NaN</td>\n      <td>NaN</td>\n      <td>NaN</td>\n      <td>NaN</td>\n      <td>NaN</td>\n      <td>NaN</td>\n      <td>NaN</td>\n      <td>NaN</td>\n      <td>...</td>\n      <td>NaN</td>\n      <td>San Antonio Spurs (15)</td>\n      <td>14.0</td>\n      <td>22.0</td>\n      <td>60.0</td>\n      <td>0.268</td>\n      <td>29.0</td>\n      <td>113.0</td>\n      <td>123.1</td>\n      <td>-9.82</td>\n    </tr>\n  </tbody>\n</table>\n<p>15266 rows × 42 columns</p>\n</div>"
     },
     "execution_count": 86,
     "metadata": {},
     "output_type": "execute_result"
    }
   ],
   "source": [
    "stats"
   ],
   "metadata": {
    "collapsed": false,
    "ExecuteTime": {
     "end_time": "2023-07-18T07:51:53.664530Z",
     "start_time": "2023-07-18T07:51:53.614605Z"
    }
   }
  },
  {
   "cell_type": "code",
   "execution_count": 87,
   "outputs": [
    {
     "data": {
      "text/plain": "Team\nCleveland Cavaliers       539\nDallas Mavericks          535\nPhiladelphia 76ers        532\nMiami Heat                529\nLos Angeles Clippers      528\n                         ... \nBrooklyn Nets (6)           1\nNew York Knicks (5)         1\nPhiladelphia 76ers (3)      1\nBoston Celtics (2)          1\nSan Antonio Spurs (15)      1\nName: count, Length: 67, dtype: int64"
     },
     "execution_count": 87,
     "metadata": {},
     "output_type": "execute_result"
    }
   ],
   "source": [
    "stats['Team'].value_counts()"
   ],
   "metadata": {
    "collapsed": false,
    "ExecuteTime": {
     "end_time": "2023-07-18T07:52:16.028059Z",
     "start_time": "2023-07-18T07:52:16.022558Z"
    }
   }
  },
  {
   "cell_type": "code",
   "execution_count": 94,
   "outputs": [],
   "source": [
    "to_remove = stats[stats['Team'].str.contains('(', case=False, regex=False)]\n",
    "\n",
    "rows_to_remove = to_remove.index\n"
   ],
   "metadata": {
    "collapsed": false,
    "ExecuteTime": {
     "end_time": "2023-07-18T08:07:35.830637Z",
     "start_time": "2023-07-18T08:07:35.818837Z"
    }
   }
  },
  {
   "cell_type": "code",
   "execution_count": 96,
   "outputs": [],
   "source": [
    "stats = stats.drop(index=rows_to_remove)"
   ],
   "metadata": {
    "collapsed": false,
    "ExecuteTime": {
     "end_time": "2023-07-18T08:08:04.172075Z",
     "start_time": "2023-07-18T08:08:04.143229Z"
    }
   }
  },
  {
   "cell_type": "code",
   "execution_count": 97,
   "outputs": [
    {
     "data": {
      "text/plain": "               Player Pos Age   Tm   G  GS    MP   FG   FGA   FG%  ... Share  \\\n0          A.C. Green  PF  27  LAL  82  21  26.4  3.1   6.6  .476  ...   0.0   \n1         Byron Scott  SG  29  LAL  82  82  32.1  6.1  12.8  .477  ...   0.0   \n2      Elden Campbell  PF  22  LAL  52   0   7.3  1.1   2.4  .455  ...   0.0   \n3       Irving Thomas  PF  25  LAL  26   0   4.2  0.7   1.9  .340  ...   0.0   \n4        James Worthy  SF  29  LAL  78  74  38.6  9.2  18.7  .492  ...   0.0   \n...               ...  ..  ..  ...  ..  ..   ...  ...   ...   ...  ...   ...   \n15231   Spencer Hawes  PF  28  MIL  54   1  14.8  2.5   5.1  .484  ...   0.0   \n15232     Steve Novak  PF  33  MIL   8   0   2.8  0.3   0.9  .286  ...   0.0   \n15233  Terrence Jones  PF  25  MIL  54  12  23.5  4.3   9.1  .470  ...   0.0   \n15234      Thon Maker   C  19  MIL  57  34   9.9  1.5   3.2  .459  ...   0.0   \n15235      Tony Snell  SG  25  MIL  80  80  29.2  3.1   6.8  .455  ...   0.0   \n\n                     Team Unnamed: 0     W     L   W/L%   GB   PS/G   PA/G  \\\n0      Los Angeles Lakers        8.0  58.0  24.0  0.707  5.0  106.3   99.6   \n1      Los Angeles Lakers        8.0  58.0  24.0  0.707  5.0  106.3   99.6   \n2      Los Angeles Lakers        8.0  58.0  24.0  0.707  5.0  106.3   99.6   \n3      Los Angeles Lakers        8.0  58.0  24.0  0.707  5.0  106.3   99.6   \n4      Los Angeles Lakers        8.0  58.0  24.0  0.707  5.0  106.3   99.6   \n...                   ...        ...   ...   ...    ...  ...    ...    ...   \n15231     Milwaukee Bucks        6.0  42.0  40.0  0.512  9.0  103.6  103.8   \n15232     Milwaukee Bucks        6.0  42.0  40.0  0.512  9.0  103.6  103.8   \n15233     Milwaukee Bucks        6.0  42.0  40.0  0.512  9.0  103.6  103.8   \n15234     Milwaukee Bucks        6.0  42.0  40.0  0.512  9.0  103.6  103.8   \n15235     Milwaukee Bucks        6.0  42.0  40.0  0.512  9.0  103.6  103.8   \n\n        SRS  \n0      6.73  \n1      6.73  \n2      6.73  \n3      6.73  \n4      6.73  \n...     ...  \n15231 -0.45  \n15232 -0.45  \n15233 -0.45  \n15234 -0.45  \n15235 -0.45  \n\n[15236 rows x 42 columns]",
      "text/html": "<div>\n<style scoped>\n    .dataframe tbody tr th:only-of-type {\n        vertical-align: middle;\n    }\n\n    .dataframe tbody tr th {\n        vertical-align: top;\n    }\n\n    .dataframe thead th {\n        text-align: right;\n    }\n</style>\n<table border=\"1\" class=\"dataframe\">\n  <thead>\n    <tr style=\"text-align: right;\">\n      <th></th>\n      <th>Player</th>\n      <th>Pos</th>\n      <th>Age</th>\n      <th>Tm</th>\n      <th>G</th>\n      <th>GS</th>\n      <th>MP</th>\n      <th>FG</th>\n      <th>FGA</th>\n      <th>FG%</th>\n      <th>...</th>\n      <th>Share</th>\n      <th>Team</th>\n      <th>Unnamed: 0</th>\n      <th>W</th>\n      <th>L</th>\n      <th>W/L%</th>\n      <th>GB</th>\n      <th>PS/G</th>\n      <th>PA/G</th>\n      <th>SRS</th>\n    </tr>\n  </thead>\n  <tbody>\n    <tr>\n      <th>0</th>\n      <td>A.C. Green</td>\n      <td>PF</td>\n      <td>27</td>\n      <td>LAL</td>\n      <td>82</td>\n      <td>21</td>\n      <td>26.4</td>\n      <td>3.1</td>\n      <td>6.6</td>\n      <td>.476</td>\n      <td>...</td>\n      <td>0.0</td>\n      <td>Los Angeles Lakers</td>\n      <td>8.0</td>\n      <td>58.0</td>\n      <td>24.0</td>\n      <td>0.707</td>\n      <td>5.0</td>\n      <td>106.3</td>\n      <td>99.6</td>\n      <td>6.73</td>\n    </tr>\n    <tr>\n      <th>1</th>\n      <td>Byron Scott</td>\n      <td>SG</td>\n      <td>29</td>\n      <td>LAL</td>\n      <td>82</td>\n      <td>82</td>\n      <td>32.1</td>\n      <td>6.1</td>\n      <td>12.8</td>\n      <td>.477</td>\n      <td>...</td>\n      <td>0.0</td>\n      <td>Los Angeles Lakers</td>\n      <td>8.0</td>\n      <td>58.0</td>\n      <td>24.0</td>\n      <td>0.707</td>\n      <td>5.0</td>\n      <td>106.3</td>\n      <td>99.6</td>\n      <td>6.73</td>\n    </tr>\n    <tr>\n      <th>2</th>\n      <td>Elden Campbell</td>\n      <td>PF</td>\n      <td>22</td>\n      <td>LAL</td>\n      <td>52</td>\n      <td>0</td>\n      <td>7.3</td>\n      <td>1.1</td>\n      <td>2.4</td>\n      <td>.455</td>\n      <td>...</td>\n      <td>0.0</td>\n      <td>Los Angeles Lakers</td>\n      <td>8.0</td>\n      <td>58.0</td>\n      <td>24.0</td>\n      <td>0.707</td>\n      <td>5.0</td>\n      <td>106.3</td>\n      <td>99.6</td>\n      <td>6.73</td>\n    </tr>\n    <tr>\n      <th>3</th>\n      <td>Irving Thomas</td>\n      <td>PF</td>\n      <td>25</td>\n      <td>LAL</td>\n      <td>26</td>\n      <td>0</td>\n      <td>4.2</td>\n      <td>0.7</td>\n      <td>1.9</td>\n      <td>.340</td>\n      <td>...</td>\n      <td>0.0</td>\n      <td>Los Angeles Lakers</td>\n      <td>8.0</td>\n      <td>58.0</td>\n      <td>24.0</td>\n      <td>0.707</td>\n      <td>5.0</td>\n      <td>106.3</td>\n      <td>99.6</td>\n      <td>6.73</td>\n    </tr>\n    <tr>\n      <th>4</th>\n      <td>James Worthy</td>\n      <td>SF</td>\n      <td>29</td>\n      <td>LAL</td>\n      <td>78</td>\n      <td>74</td>\n      <td>38.6</td>\n      <td>9.2</td>\n      <td>18.7</td>\n      <td>.492</td>\n      <td>...</td>\n      <td>0.0</td>\n      <td>Los Angeles Lakers</td>\n      <td>8.0</td>\n      <td>58.0</td>\n      <td>24.0</td>\n      <td>0.707</td>\n      <td>5.0</td>\n      <td>106.3</td>\n      <td>99.6</td>\n      <td>6.73</td>\n    </tr>\n    <tr>\n      <th>...</th>\n      <td>...</td>\n      <td>...</td>\n      <td>...</td>\n      <td>...</td>\n      <td>...</td>\n      <td>...</td>\n      <td>...</td>\n      <td>...</td>\n      <td>...</td>\n      <td>...</td>\n      <td>...</td>\n      <td>...</td>\n      <td>...</td>\n      <td>...</td>\n      <td>...</td>\n      <td>...</td>\n      <td>...</td>\n      <td>...</td>\n      <td>...</td>\n      <td>...</td>\n      <td>...</td>\n    </tr>\n    <tr>\n      <th>15231</th>\n      <td>Spencer Hawes</td>\n      <td>PF</td>\n      <td>28</td>\n      <td>MIL</td>\n      <td>54</td>\n      <td>1</td>\n      <td>14.8</td>\n      <td>2.5</td>\n      <td>5.1</td>\n      <td>.484</td>\n      <td>...</td>\n      <td>0.0</td>\n      <td>Milwaukee Bucks</td>\n      <td>6.0</td>\n      <td>42.0</td>\n      <td>40.0</td>\n      <td>0.512</td>\n      <td>9.0</td>\n      <td>103.6</td>\n      <td>103.8</td>\n      <td>-0.45</td>\n    </tr>\n    <tr>\n      <th>15232</th>\n      <td>Steve Novak</td>\n      <td>PF</td>\n      <td>33</td>\n      <td>MIL</td>\n      <td>8</td>\n      <td>0</td>\n      <td>2.8</td>\n      <td>0.3</td>\n      <td>0.9</td>\n      <td>.286</td>\n      <td>...</td>\n      <td>0.0</td>\n      <td>Milwaukee Bucks</td>\n      <td>6.0</td>\n      <td>42.0</td>\n      <td>40.0</td>\n      <td>0.512</td>\n      <td>9.0</td>\n      <td>103.6</td>\n      <td>103.8</td>\n      <td>-0.45</td>\n    </tr>\n    <tr>\n      <th>15233</th>\n      <td>Terrence Jones</td>\n      <td>PF</td>\n      <td>25</td>\n      <td>MIL</td>\n      <td>54</td>\n      <td>12</td>\n      <td>23.5</td>\n      <td>4.3</td>\n      <td>9.1</td>\n      <td>.470</td>\n      <td>...</td>\n      <td>0.0</td>\n      <td>Milwaukee Bucks</td>\n      <td>6.0</td>\n      <td>42.0</td>\n      <td>40.0</td>\n      <td>0.512</td>\n      <td>9.0</td>\n      <td>103.6</td>\n      <td>103.8</td>\n      <td>-0.45</td>\n    </tr>\n    <tr>\n      <th>15234</th>\n      <td>Thon Maker</td>\n      <td>C</td>\n      <td>19</td>\n      <td>MIL</td>\n      <td>57</td>\n      <td>34</td>\n      <td>9.9</td>\n      <td>1.5</td>\n      <td>3.2</td>\n      <td>.459</td>\n      <td>...</td>\n      <td>0.0</td>\n      <td>Milwaukee Bucks</td>\n      <td>6.0</td>\n      <td>42.0</td>\n      <td>40.0</td>\n      <td>0.512</td>\n      <td>9.0</td>\n      <td>103.6</td>\n      <td>103.8</td>\n      <td>-0.45</td>\n    </tr>\n    <tr>\n      <th>15235</th>\n      <td>Tony Snell</td>\n      <td>SG</td>\n      <td>25</td>\n      <td>MIL</td>\n      <td>80</td>\n      <td>80</td>\n      <td>29.2</td>\n      <td>3.1</td>\n      <td>6.8</td>\n      <td>.455</td>\n      <td>...</td>\n      <td>0.0</td>\n      <td>Milwaukee Bucks</td>\n      <td>6.0</td>\n      <td>42.0</td>\n      <td>40.0</td>\n      <td>0.512</td>\n      <td>9.0</td>\n      <td>103.6</td>\n      <td>103.8</td>\n      <td>-0.45</td>\n    </tr>\n  </tbody>\n</table>\n<p>15236 rows × 42 columns</p>\n</div>"
     },
     "execution_count": 97,
     "metadata": {},
     "output_type": "execute_result"
    }
   ],
   "source": [
    "stats"
   ],
   "metadata": {
    "collapsed": false,
    "ExecuteTime": {
     "end_time": "2023-07-18T08:08:10.878834Z",
     "start_time": "2023-07-18T08:08:10.842150Z"
    }
   }
  },
  {
   "cell_type": "code",
   "execution_count": 72,
   "outputs": [
    {
     "data": {
      "text/plain": "               Player Pos Age   Tm   G  GS    MP   FG   FGA   FG%  ...  STL  \\\n0          A.C. Green  PF  27  LAL  82  21  26.4  3.1   6.6  .476  ...  0.7   \n1          A.C. Green  PF  28  LAL  82  53  35.4  4.7   9.8  .476  ...  1.1   \n2          A.C. Green  PF  29  LAL  82  55  34.4  4.6   8.6  .537  ...  1.1   \n3          A.C. Green  PF  30  PHO  82  55  34.5  5.7  11.3  .502  ...  0.9   \n4          A.C. Green  SF  31  PHO  82  52  32.8  3.8   7.5  .504  ...  0.7   \n...               ...  ..  ..  ...  ..  ..   ...  ...   ...   ...  ...  ...   \n15231  Željko Rebrača   C  29  DET  74   4  15.9  2.6   5.1  .505  ...  0.4   \n15232  Željko Rebrača   C  30  DET  30  12  16.3  2.7   4.8  .552  ...  0.2   \n15233  Željko Rebrača   C  31  ATL  24   2  11.4  1.4   3.2  .442  ...  0.2   \n15234  Željko Rebrača   C  32  LAC  58   2  16.0  2.3   4.0  .568  ...  0.2   \n15235  Željko Rebrača   C  33  LAC  29   2  14.2  1.8   3.3  .542  ...  0.2   \n\n       BLK  TOV   PF   PTS  Year Pts Won Pts Max Share                  Team  \n0      0.3  1.2  1.4   9.1  1991     0.0     0.0   0.0    Los Angeles Lakers  \n1      0.4  1.4  1.7  13.6  1992     0.0     0.0   0.0    Los Angeles Lakers  \n2      0.5  1.4  1.8  12.8  1993     0.0     0.0   0.0    Los Angeles Lakers  \n3      0.5  1.2  1.7  14.7  1994     0.0     0.0   0.0          Phoenix Suns  \n4      0.4  1.4  1.8  11.2  1995     0.0     0.0   0.0          Phoenix Suns  \n...    ...  ...  ...   ...   ...     ...     ...   ...                   ...  \n15231  1.0  1.1  2.6   6.9  2002     0.0     0.0   0.0       Detroit Pistons  \n15232  0.6  1.0  2.6   6.6  2003     0.0     0.0   0.0       Detroit Pistons  \n15233  0.5  0.7  2.2   3.8  2004     0.0     0.0   0.0         Atlanta Hawks  \n15234  0.7  0.8  2.2   5.8  2005     0.0     0.0   0.0  Los Angeles Clippers  \n15235  0.7  0.8  2.0   4.7  2006     0.0     0.0   0.0  Los Angeles Clippers  \n\n[15236 rows x 34 columns]",
      "text/html": "<div>\n<style scoped>\n    .dataframe tbody tr th:only-of-type {\n        vertical-align: middle;\n    }\n\n    .dataframe tbody tr th {\n        vertical-align: top;\n    }\n\n    .dataframe thead th {\n        text-align: right;\n    }\n</style>\n<table border=\"1\" class=\"dataframe\">\n  <thead>\n    <tr style=\"text-align: right;\">\n      <th></th>\n      <th>Player</th>\n      <th>Pos</th>\n      <th>Age</th>\n      <th>Tm</th>\n      <th>G</th>\n      <th>GS</th>\n      <th>MP</th>\n      <th>FG</th>\n      <th>FGA</th>\n      <th>FG%</th>\n      <th>...</th>\n      <th>STL</th>\n      <th>BLK</th>\n      <th>TOV</th>\n      <th>PF</th>\n      <th>PTS</th>\n      <th>Year</th>\n      <th>Pts Won</th>\n      <th>Pts Max</th>\n      <th>Share</th>\n      <th>Team</th>\n    </tr>\n  </thead>\n  <tbody>\n    <tr>\n      <th>0</th>\n      <td>A.C. Green</td>\n      <td>PF</td>\n      <td>27</td>\n      <td>LAL</td>\n      <td>82</td>\n      <td>21</td>\n      <td>26.4</td>\n      <td>3.1</td>\n      <td>6.6</td>\n      <td>.476</td>\n      <td>...</td>\n      <td>0.7</td>\n      <td>0.3</td>\n      <td>1.2</td>\n      <td>1.4</td>\n      <td>9.1</td>\n      <td>1991</td>\n      <td>0.0</td>\n      <td>0.0</td>\n      <td>0.0</td>\n      <td>Los Angeles Lakers</td>\n    </tr>\n    <tr>\n      <th>1</th>\n      <td>A.C. Green</td>\n      <td>PF</td>\n      <td>28</td>\n      <td>LAL</td>\n      <td>82</td>\n      <td>53</td>\n      <td>35.4</td>\n      <td>4.7</td>\n      <td>9.8</td>\n      <td>.476</td>\n      <td>...</td>\n      <td>1.1</td>\n      <td>0.4</td>\n      <td>1.4</td>\n      <td>1.7</td>\n      <td>13.6</td>\n      <td>1992</td>\n      <td>0.0</td>\n      <td>0.0</td>\n      <td>0.0</td>\n      <td>Los Angeles Lakers</td>\n    </tr>\n    <tr>\n      <th>2</th>\n      <td>A.C. Green</td>\n      <td>PF</td>\n      <td>29</td>\n      <td>LAL</td>\n      <td>82</td>\n      <td>55</td>\n      <td>34.4</td>\n      <td>4.6</td>\n      <td>8.6</td>\n      <td>.537</td>\n      <td>...</td>\n      <td>1.1</td>\n      <td>0.5</td>\n      <td>1.4</td>\n      <td>1.8</td>\n      <td>12.8</td>\n      <td>1993</td>\n      <td>0.0</td>\n      <td>0.0</td>\n      <td>0.0</td>\n      <td>Los Angeles Lakers</td>\n    </tr>\n    <tr>\n      <th>3</th>\n      <td>A.C. Green</td>\n      <td>PF</td>\n      <td>30</td>\n      <td>PHO</td>\n      <td>82</td>\n      <td>55</td>\n      <td>34.5</td>\n      <td>5.7</td>\n      <td>11.3</td>\n      <td>.502</td>\n      <td>...</td>\n      <td>0.9</td>\n      <td>0.5</td>\n      <td>1.2</td>\n      <td>1.7</td>\n      <td>14.7</td>\n      <td>1994</td>\n      <td>0.0</td>\n      <td>0.0</td>\n      <td>0.0</td>\n      <td>Phoenix Suns</td>\n    </tr>\n    <tr>\n      <th>4</th>\n      <td>A.C. Green</td>\n      <td>SF</td>\n      <td>31</td>\n      <td>PHO</td>\n      <td>82</td>\n      <td>52</td>\n      <td>32.8</td>\n      <td>3.8</td>\n      <td>7.5</td>\n      <td>.504</td>\n      <td>...</td>\n      <td>0.7</td>\n      <td>0.4</td>\n      <td>1.4</td>\n      <td>1.8</td>\n      <td>11.2</td>\n      <td>1995</td>\n      <td>0.0</td>\n      <td>0.0</td>\n      <td>0.0</td>\n      <td>Phoenix Suns</td>\n    </tr>\n    <tr>\n      <th>...</th>\n      <td>...</td>\n      <td>...</td>\n      <td>...</td>\n      <td>...</td>\n      <td>...</td>\n      <td>...</td>\n      <td>...</td>\n      <td>...</td>\n      <td>...</td>\n      <td>...</td>\n      <td>...</td>\n      <td>...</td>\n      <td>...</td>\n      <td>...</td>\n      <td>...</td>\n      <td>...</td>\n      <td>...</td>\n      <td>...</td>\n      <td>...</td>\n      <td>...</td>\n      <td>...</td>\n    </tr>\n    <tr>\n      <th>15231</th>\n      <td>Željko Rebrača</td>\n      <td>C</td>\n      <td>29</td>\n      <td>DET</td>\n      <td>74</td>\n      <td>4</td>\n      <td>15.9</td>\n      <td>2.6</td>\n      <td>5.1</td>\n      <td>.505</td>\n      <td>...</td>\n      <td>0.4</td>\n      <td>1.0</td>\n      <td>1.1</td>\n      <td>2.6</td>\n      <td>6.9</td>\n      <td>2002</td>\n      <td>0.0</td>\n      <td>0.0</td>\n      <td>0.0</td>\n      <td>Detroit Pistons</td>\n    </tr>\n    <tr>\n      <th>15232</th>\n      <td>Željko Rebrača</td>\n      <td>C</td>\n      <td>30</td>\n      <td>DET</td>\n      <td>30</td>\n      <td>12</td>\n      <td>16.3</td>\n      <td>2.7</td>\n      <td>4.8</td>\n      <td>.552</td>\n      <td>...</td>\n      <td>0.2</td>\n      <td>0.6</td>\n      <td>1.0</td>\n      <td>2.6</td>\n      <td>6.6</td>\n      <td>2003</td>\n      <td>0.0</td>\n      <td>0.0</td>\n      <td>0.0</td>\n      <td>Detroit Pistons</td>\n    </tr>\n    <tr>\n      <th>15233</th>\n      <td>Željko Rebrača</td>\n      <td>C</td>\n      <td>31</td>\n      <td>ATL</td>\n      <td>24</td>\n      <td>2</td>\n      <td>11.4</td>\n      <td>1.4</td>\n      <td>3.2</td>\n      <td>.442</td>\n      <td>...</td>\n      <td>0.2</td>\n      <td>0.5</td>\n      <td>0.7</td>\n      <td>2.2</td>\n      <td>3.8</td>\n      <td>2004</td>\n      <td>0.0</td>\n      <td>0.0</td>\n      <td>0.0</td>\n      <td>Atlanta Hawks</td>\n    </tr>\n    <tr>\n      <th>15234</th>\n      <td>Željko Rebrača</td>\n      <td>C</td>\n      <td>32</td>\n      <td>LAC</td>\n      <td>58</td>\n      <td>2</td>\n      <td>16.0</td>\n      <td>2.3</td>\n      <td>4.0</td>\n      <td>.568</td>\n      <td>...</td>\n      <td>0.2</td>\n      <td>0.7</td>\n      <td>0.8</td>\n      <td>2.2</td>\n      <td>5.8</td>\n      <td>2005</td>\n      <td>0.0</td>\n      <td>0.0</td>\n      <td>0.0</td>\n      <td>Los Angeles Clippers</td>\n    </tr>\n    <tr>\n      <th>15235</th>\n      <td>Željko Rebrača</td>\n      <td>C</td>\n      <td>33</td>\n      <td>LAC</td>\n      <td>29</td>\n      <td>2</td>\n      <td>14.2</td>\n      <td>1.8</td>\n      <td>3.3</td>\n      <td>.542</td>\n      <td>...</td>\n      <td>0.2</td>\n      <td>0.7</td>\n      <td>0.8</td>\n      <td>2.0</td>\n      <td>4.7</td>\n      <td>2006</td>\n      <td>0.0</td>\n      <td>0.0</td>\n      <td>0.0</td>\n      <td>Los Angeles Clippers</td>\n    </tr>\n  </tbody>\n</table>\n<p>15236 rows × 34 columns</p>\n</div>"
     },
     "execution_count": 72,
     "metadata": {},
     "output_type": "execute_result"
    }
   ],
   "source": [
    "combined"
   ],
   "metadata": {
    "collapsed": false,
    "ExecuteTime": {
     "end_time": "2023-07-18T07:39:55.302129Z",
     "start_time": "2023-07-18T07:39:55.281935Z"
    }
   }
  },
  {
   "cell_type": "code",
   "execution_count": 98,
   "outputs": [],
   "source": [
    "del stats['Unnamed: 0']"
   ],
   "metadata": {
    "collapsed": false,
    "ExecuteTime": {
     "end_time": "2023-07-18T08:08:43.141525Z",
     "start_time": "2023-07-18T08:08:43.137811Z"
    }
   }
  },
  {
   "cell_type": "code",
   "execution_count": 99,
   "outputs": [
    {
     "data": {
      "text/plain": "Player      object\nPos         object\nAge         object\nTm          object\nG           object\nGS          object\nMP          object\nFG          object\nFGA         object\nFG%         object\n3P          object\n3PA         object\n3P%         object\n2P          object\n2PA         object\n2P%         object\neFG%        object\nFT          object\nFTA         object\nFT%         object\nORB         object\nDRB         object\nTRB         object\nAST         object\nSTL         object\nBLK         object\nTOV         object\nPF          object\nPTS         object\nYear         int64\nPts Won    float64\nPts Max    float64\nShare      float64\nTeam        object\nW          float64\nL          float64\nW/L%       float64\nGB          object\nPS/G       float64\nPA/G       float64\nSRS        float64\ndtype: object"
     },
     "execution_count": 99,
     "metadata": {},
     "output_type": "execute_result"
    }
   ],
   "source": [
    "stats.dtypes"
   ],
   "metadata": {
    "collapsed": false,
    "ExecuteTime": {
     "end_time": "2023-07-18T08:08:44.748141Z",
     "start_time": "2023-07-18T08:08:44.741588Z"
    }
   }
  },
  {
   "cell_type": "code",
   "execution_count": 100,
   "outputs": [],
   "source": [
    "stats = stats.apply(pd.to_numeric, errors='ignore')"
   ],
   "metadata": {
    "collapsed": false,
    "ExecuteTime": {
     "end_time": "2023-07-18T08:12:31.084126Z",
     "start_time": "2023-07-18T08:12:30.965734Z"
    }
   }
  },
  {
   "cell_type": "code",
   "execution_count": 101,
   "outputs": [
    {
     "data": {
      "text/plain": "Player      object\nPos         object\nAge          int64\nTm          object\nG            int64\nGS           int64\nMP         float64\nFG         float64\nFGA        float64\nFG%        float64\n3P         float64\n3PA        float64\n3P%        float64\n2P         float64\n2PA        float64\n2P%        float64\neFG%       float64\nFT         float64\nFTA        float64\nFT%        float64\nORB        float64\nDRB        float64\nTRB        float64\nAST        float64\nSTL        float64\nBLK        float64\nTOV        float64\nPF         float64\nPTS        float64\nYear         int64\nPts Won    float64\nPts Max    float64\nShare      float64\nTeam        object\nW          float64\nL          float64\nW/L%       float64\nGB          object\nPS/G       float64\nPA/G       float64\nSRS        float64\ndtype: object"
     },
     "execution_count": 101,
     "metadata": {},
     "output_type": "execute_result"
    }
   ],
   "source": [
    "stats.dtypes"
   ],
   "metadata": {
    "collapsed": false,
    "ExecuteTime": {
     "end_time": "2023-07-18T08:12:34.933828Z",
     "start_time": "2023-07-18T08:12:34.918435Z"
    }
   }
  },
  {
   "cell_type": "code",
   "execution_count": 102,
   "outputs": [
    {
     "data": {
      "text/plain": "array(['5.0', '14.0', '23.0', '7.0', '—', '40.0', '42.0', '18.0', '6.0',\n       '24.0', '26.0', nan, '37.0', '29.0', '21.0', '28.0', '25.0', '8.0',\n       '19.0', '1.0', '13.0', '17.0', '3.0', '15.0', '9.0', '2.0', '35.0',\n       '20.0', '11.0', '16.0', '41.0', '12.0', '50.0', '10.0', '30.0',\n       '34.0', '4.0', '1.5', '22.0', '51.0', '36.0', '43.0', '39.0',\n       '18.5', '31.0', '48.0', '46.0', '10.5', '32.0', '38.0', '27.0',\n       '33.0', '21.5', '45.0', '22.5', '25.5', '3.5', '20.5', '11.5',\n       '44.0', '52.0', '56.0', '2.5', '12.5', '47.0', '32.5', '4.5'],\n      dtype=object)"
     },
     "execution_count": 102,
     "metadata": {},
     "output_type": "execute_result"
    }
   ],
   "source": [
    "stats['GB'].unique()"
   ],
   "metadata": {
    "collapsed": false,
    "ExecuteTime": {
     "end_time": "2023-07-18T08:13:07.347687Z",
     "start_time": "2023-07-18T08:13:07.332900Z"
    }
   }
  },
  {
   "cell_type": "code",
   "execution_count": 103,
   "outputs": [],
   "source": [
    "stats['GB'] = stats['GB'].replace('—', '0')"
   ],
   "metadata": {
    "collapsed": false,
    "ExecuteTime": {
     "end_time": "2023-07-18T08:13:39.418365Z",
     "start_time": "2023-07-18T08:13:39.401509Z"
    }
   }
  },
  {
   "cell_type": "code",
   "execution_count": 104,
   "outputs": [
    {
     "data": {
      "text/plain": "array(['5.0', '14.0', '23.0', '7.0', '0', '40.0', '42.0', '18.0', '6.0',\n       '24.0', '26.0', nan, '37.0', '29.0', '21.0', '28.0', '25.0', '8.0',\n       '19.0', '1.0', '13.0', '17.0', '3.0', '15.0', '9.0', '2.0', '35.0',\n       '20.0', '11.0', '16.0', '41.0', '12.0', '50.0', '10.0', '30.0',\n       '34.0', '4.0', '1.5', '22.0', '51.0', '36.0', '43.0', '39.0',\n       '18.5', '31.0', '48.0', '46.0', '10.5', '32.0', '38.0', '27.0',\n       '33.0', '21.5', '45.0', '22.5', '25.5', '3.5', '20.5', '11.5',\n       '44.0', '52.0', '56.0', '2.5', '12.5', '47.0', '32.5', '4.5'],\n      dtype=object)"
     },
     "execution_count": 104,
     "metadata": {},
     "output_type": "execute_result"
    }
   ],
   "source": [
    "stats['GB'].unique()"
   ],
   "metadata": {
    "collapsed": false,
    "ExecuteTime": {
     "end_time": "2023-07-18T08:13:48.831421Z",
     "start_time": "2023-07-18T08:13:48.816616Z"
    }
   }
  },
  {
   "cell_type": "code",
   "execution_count": 107,
   "outputs": [],
   "source": [
    "stats['GB'] = pd.to_numeric(stats['GB'])"
   ],
   "metadata": {
    "collapsed": false,
    "ExecuteTime": {
     "end_time": "2023-07-18T08:14:52.451065Z",
     "start_time": "2023-07-18T08:14:52.441981Z"
    }
   }
  },
  {
   "cell_type": "code",
   "execution_count": 108,
   "outputs": [
    {
     "data": {
      "text/plain": "Player      object\nPos         object\nAge          int64\nTm          object\nG            int64\nGS           int64\nMP         float64\nFG         float64\nFGA        float64\nFG%        float64\n3P         float64\n3PA        float64\n3P%        float64\n2P         float64\n2PA        float64\n2P%        float64\neFG%       float64\nFT         float64\nFTA        float64\nFT%        float64\nORB        float64\nDRB        float64\nTRB        float64\nAST        float64\nSTL        float64\nBLK        float64\nTOV        float64\nPF         float64\nPTS        float64\nYear         int64\nPts Won    float64\nPts Max    float64\nShare      float64\nTeam        object\nW          float64\nL          float64\nW/L%       float64\nGB         float64\nPS/G       float64\nPA/G       float64\nSRS        float64\ndtype: object"
     },
     "execution_count": 108,
     "metadata": {},
     "output_type": "execute_result"
    }
   ],
   "source": [
    "stats.dtypes"
   ],
   "metadata": {
    "collapsed": false,
    "ExecuteTime": {
     "end_time": "2023-07-18T08:14:56.383058Z",
     "start_time": "2023-07-18T08:14:56.368580Z"
    }
   }
  },
  {
   "cell_type": "code",
   "execution_count": 109,
   "outputs": [],
   "source": [
    "stats.to_csv('player_mvp_stats.csv')"
   ],
   "metadata": {
    "collapsed": false,
    "ExecuteTime": {
     "end_time": "2023-07-18T08:15:44.708652Z",
     "start_time": "2023-07-18T08:15:44.488404Z"
    }
   }
  },
  {
   "cell_type": "code",
   "execution_count": null,
   "outputs": [],
   "source": [],
   "metadata": {
    "collapsed": false
   }
  }
 ],
 "metadata": {
  "kernelspec": {
   "display_name": "Python 3",
   "language": "python",
   "name": "python3"
  },
  "language_info": {
   "codemirror_mode": {
    "name": "ipython",
    "version": 2
   },
   "file_extension": ".py",
   "mimetype": "text/x-python",
   "name": "python",
   "nbconvert_exporter": "python",
   "pygments_lexer": "ipython2",
   "version": "2.7.6"
  }
 },
 "nbformat": 4,
 "nbformat_minor": 0
}
